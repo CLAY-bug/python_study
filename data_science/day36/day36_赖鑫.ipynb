{
 "cells": [
  {
   "cell_type": "markdown",
   "source": [
    "### 1、\t练习分组与聚合，研究星巴克中国各区域开店分布，并绘图"
   ],
   "metadata": {
    "collapsed": false,
    "pycharm": {
     "name": "#%% md\n"
    }
   }
  },
  {
   "cell_type": "code",
   "execution_count": 1,
   "metadata": {
    "collapsed": true,
    "pycharm": {
     "name": "#%%\n"
    }
   },
   "outputs": [],
   "source": [
    "import pandas as pd\n",
    "import numpy as np"
   ]
  },
  {
   "cell_type": "code",
   "execution_count": 6,
   "outputs": [
    {
     "name": "stdout",
     "output_type": "stream",
     "text": [
      "  key1   key2  data1  data2\n",
      "0    a    one      7      7\n",
      "1    b    one      6      6\n",
      "2    a    two      2      4\n",
      "3    b  three      1      7\n",
      "4    a    two      3      1\n",
      "5    b    two      1      5\n",
      "6    a    one      4      3\n",
      "7    a  three      1      7\n",
      "------------------------------\n",
      "RangeIndex(start=0, stop=8, step=1)\n",
      "Index(['key1', 'key2', 'data1', 'data2'], dtype='object')\n"
     ]
    }
   ],
   "source": [
    "dict1 = {'key1': ['a', 'b', 'a', 'b',\n",
    "                  'a', 'b', 'a', 'a'],\n",
    "         'key2': ['one', 'one', 'two', 'three',\n",
    "                  'two', 'two', 'one', 'three'],\n",
    "         'data1': np.random.randint(1, 8, size=8),\n",
    "         'data2': np.random.randint(1, 8, size=8)}\n",
    "a = pd.DataFrame(dict1)\n",
    "print(a)\n",
    "print('-' * 30)\n",
    "print(a.index)\n",
    "print(a.columns)"
   ],
   "metadata": {
    "collapsed": false,
    "pycharm": {
     "name": "#%%\n"
    }
   }
  },
  {
   "cell_type": "code",
   "execution_count": 19,
   "outputs": [
    {
     "name": "stdout",
     "output_type": "stream",
     "text": [
      "key1\n",
      "a    7\n",
      "b    6\n",
      "Name: data1, dtype: int64\n",
      "------------------------------\n",
      "key1\n",
      "a    1\n",
      "b    5\n",
      "Name: data2, dtype: int64\n",
      "------------------------------\n",
      "         data1  data2\n",
      "key1                 \n",
      "a     3.400000    4.4\n",
      "b     2.666667    6.0\n"
     ]
    }
   ],
   "source": [
    "b = a.groupby('key1')  # b是a根据key1分组后的对象\n",
    "print(b['data1'].max())  # 分组之后进行聚合才会显示具体的数值\n",
    "print('-' * 30)\n",
    "print(b['data2'].min())\n",
    "print('-' * 30)\n",
    "print(b.mean())  # 只会计算数值的平均值，所以key2列是不会进行计算的"
   ],
   "metadata": {
    "collapsed": false,
    "pycharm": {
     "name": "#%%\n"
    }
   }
  },
  {
   "cell_type": "markdown",
   "source": [
    "#### 自定义分组"
   ],
   "metadata": {
    "collapsed": false,
    "pycharm": {
     "name": "#%% md\n"
    }
   }
  },
  {
   "cell_type": "code",
   "execution_count": 24,
   "outputs": [
    {
     "name": "stdout",
     "output_type": "stream",
     "text": [
      "0    4\n",
      "3    1\n",
      "4    2\n",
      "7    1\n",
      "dtype: int64\n",
      "------------------------------\n",
      "   data1  data2\n",
      "0    4.0    6.0\n",
      "3    3.0    1.0\n",
      "4    2.5    4.0\n",
      "7    1.0    7.0\n"
     ]
    }
   ],
   "source": [
    "self_key = [0, 0, 0, 0, 3, 4, 4, 7]\n",
    "c = a.groupby(self_key)\n",
    "print(c.size())\n",
    "print('-' * 30)\n",
    "print(c.mean())"
   ],
   "metadata": {
    "collapsed": false,
    "pycharm": {
     "name": "#%%\n"
    }
   }
  },
  {
   "cell_type": "markdown",
   "source": [
    "#### 多层分组"
   ],
   "metadata": {
    "collapsed": false,
    "pycharm": {
     "name": "#%% md\n"
    }
   }
  },
  {
   "cell_type": "code",
   "execution_count": 43,
   "outputs": [
    {
     "name": "stdout",
     "output_type": "stream",
     "text": [
      "key1  key2 \n",
      "a     one      2\n",
      "      three    1\n",
      "      two      2\n",
      "b     one      1\n",
      "      three    1\n",
      "      two      1\n",
      "dtype: int64\n",
      "------------------------------\n",
      "            data1  data2\n",
      "key1 key2               \n",
      "a    one        7      7\n",
      "     three      1      7\n",
      "     two        3      4\n",
      "b    one        6      6\n",
      "     three      1      7\n",
      "     two        1      5\n",
      "------------------------------\n",
      "('a', 'one')\n",
      "  key1 key2  data1  data2\n",
      "0    a  one      7      7\n",
      "6    a  one      4      3\n",
      "------------------------------\n",
      "('a', 'three')\n",
      "  key1   key2  data1  data2\n",
      "7    a  three      1      7\n",
      "------------------------------\n",
      "('a', 'two')\n",
      "  key1 key2  data1  data2\n",
      "2    a  two      2      4\n",
      "4    a  two      3      1\n",
      "------------------------------\n",
      "('b', 'one')\n",
      "  key1 key2  data1  data2\n",
      "1    b  one      6      6\n",
      "------------------------------\n",
      "('b', 'three')\n",
      "  key1   key2  data1  data2\n",
      "3    b  three      1      7\n",
      "------------------------------\n",
      "('b', 'two')\n",
      "  key1 key2  data1  data2\n",
      "5    b  two      1      5\n",
      "------------------------------\n",
      "****************************************\n",
      "[(('a', 'one'),   key1 key2  data1  data2\n",
      "0    a  one      7      7\n",
      "6    a  one      4      3), (('a', 'three'),   key1   key2  data1  data2\n",
      "7    a  three      1      7), (('a', 'two'),   key1 key2  data1  data2\n",
      "2    a  two      2      4\n",
      "4    a  two      3      1), (('b', 'one'),   key1 key2  data1  data2\n",
      "1    b  one      6      6), (('b', 'three'),   key1   key2  data1  data2\n",
      "3    b  three      1      7), (('b', 'two'),   key1 key2  data1  data2\n",
      "5    b  two      1      5)]\n"
     ]
    }
   ],
   "source": [
    "d = a.groupby(['key1', 'key2'])  # 先按照key1分组，在按照key2分组\n",
    "print(d.size())\n",
    "print('-' * 30)\n",
    "print(d.max())\n",
    "print('-' * 30)\n",
    "for group_name, group_value in d:\n",
    "    print(group_name)  # key1,key2\n",
    "    print(group_value)\n",
    "    print('-' * 30)\n",
    "print('*' * 40)\n",
    "print(list(d))  # 通过将分组对象转换为list，来展示具体的元素"
   ],
   "metadata": {
    "collapsed": false,
    "pycharm": {
     "name": "#%%\n"
    }
   }
  },
  {
   "cell_type": "markdown",
   "source": [
    "### 星巴克实战"
   ],
   "metadata": {
    "collapsed": false,
    "pycharm": {
     "name": "#%% md\n"
    }
   }
  },
  {
   "cell_type": "code",
   "execution_count": 46,
   "outputs": [
    {
     "name": "stdout",
     "output_type": "stream",
     "text": [
      "       Brand  Store Number     Store Name Ownership Type     Street Address  \\\n",
      "0  Starbucks  47370-257954  Meritxell, 96       Licensed  Av. Meritxell, 96   \n",
      "\n",
      "               City State/Province Country Postcode Phone Number  \\\n",
      "0  Andorra la Vella              7      AD    AD500    376818720   \n",
      "\n",
      "                  Timezone  Longitude  Latitude  \n",
      "0  GMT+1:00 Europe/Andorra       1.53     42.51  \n",
      "------------------------------\n",
      "<class 'pandas.core.frame.DataFrame'>\n",
      "RangeIndex: 25600 entries, 0 to 25599\n",
      "Data columns (total 13 columns):\n",
      " #   Column          Non-Null Count  Dtype  \n",
      "---  ------          --------------  -----  \n",
      " 0   Brand           25600 non-null  object \n",
      " 1   Store Number    25600 non-null  object \n",
      " 2   Store Name      25600 non-null  object \n",
      " 3   Ownership Type  25600 non-null  object \n",
      " 4   Street Address  25598 non-null  object \n",
      " 5   City            25585 non-null  object \n",
      " 6   State/Province  25600 non-null  object \n",
      " 7   Country         25600 non-null  object \n",
      " 8   Postcode        24078 non-null  object \n",
      " 9   Phone Number    18739 non-null  object \n",
      " 10  Timezone        25600 non-null  object \n",
      " 11  Longitude       25599 non-null  float64\n",
      " 12  Latitude        25599 non-null  float64\n",
      "dtypes: float64(2), object(11)\n",
      "memory usage: 2.5+ MB\n",
      "None\n"
     ]
    }
   ],
   "source": [
    "file = './starbucks_store_worldwide.csv'\n",
    "information = pd.read_csv(file)\n",
    "print(information.head(1))  # 因为数据量巨大，所以先看前几行以便掌握数据的格式\n",
    "print('-' * 30)\n",
    "print(information.info())  # 可以观察数据大致的信息，看到有多少列，以及数据类型"
   ],
   "metadata": {
    "collapsed": false,
    "pycharm": {
     "name": "#%%\n"
    }
   }
  },
  {
   "cell_type": "code",
   "execution_count": 56,
   "outputs": [
    {
     "name": "stdout",
     "output_type": "stream",
     "text": [
      "Country\n",
      "AD        1\n",
      "AE      144\n",
      "AR      108\n",
      "AT       18\n",
      "AU       22\n",
      "      ...  \n",
      "TT        3\n",
      "TW      394\n",
      "US    13608\n",
      "VN       25\n",
      "ZA        3\n",
      "Length: 73, dtype: int64\n",
      "<class 'pandas.core.groupby.generic.DataFrameGroupBy'>\n",
      "------------------------------\n",
      "Country\n",
      "AD        1\n",
      "AE      144\n",
      "AR      108\n",
      "AT       18\n",
      "AU       22\n",
      "      ...  \n",
      "TT        3\n",
      "TW      394\n",
      "US    13608\n",
      "VN       25\n",
      "ZA        3\n",
      "Name: Country, Length: 73, dtype: int64\n",
      "<class 'pandas.core.series.Series'>\n",
      "------------------------------\n",
      "2734\n"
     ]
    }
   ],
   "source": [
    "information_country = information.groupby('Country')  # 按照国家分组\n",
    "print(information_country.size())\n",
    "print(type(information_country))  # DataFrameGroupBy\n",
    "country = information_country['Country'].size()\n",
    "print('-' * 30)\n",
    "print(country)\n",
    "print(type(country))  #Series\n",
    "print('-' * 30)\n",
    "print(country['CN'])  # 中国店铺的数量"
   ],
   "metadata": {
    "collapsed": false,
    "pycharm": {
     "name": "#%%\n"
    }
   }
  },
  {
   "cell_type": "code",
   "execution_count": 83,
   "outputs": [
    {
     "name": "stdout",
     "output_type": "stream",
     "text": [
      "0        False\n",
      "1        False\n",
      "2        False\n",
      "3        False\n",
      "4        False\n",
      "         ...  \n",
      "25595    False\n",
      "25596    False\n",
      "25597    False\n",
      "25598    False\n",
      "25599    False\n",
      "Name: Country, Length: 25600, dtype: bool\n",
      "------------------------------\n",
      "          Brand  Store Number           Store Name Ownership Type  \\\n",
      "2091  Starbucks  22901-225145            北京西站第一咖啡店  Company Owned   \n",
      "2092  Starbucks  32320-116537              北京华宇时尚店  Company Owned   \n",
      "2093  Starbucks  32447-132306           北京蓝色港湾圣拉娜店  Company Owned   \n",
      "2094  Starbucks  17477-161286           北京太阳宫凯德嘉茂店  Company Owned   \n",
      "2095  Starbucks  24520-237564              北京东三环北店  Company Owned   \n",
      "...         ...           ...                  ...            ...   \n",
      "4820  Starbucks  17872-186929                Sands       Licensed   \n",
      "4821  Starbucks  24126-235784              Wynn II       Licensed   \n",
      "4822  Starbucks  28490-242269      Wynn Palace BOH       Licensed   \n",
      "4823  Starbucks  22210-218665  Sands Cotai Central       Licensed   \n",
      "4824  Starbucks  17108-179449          One Central       Licensed   \n",
      "\n",
      "                                         Street Address   City State/Province  \\\n",
      "2091                          丰台区, 北京西站通廊7-1号, 中关村南大街2号    北京市             11   \n",
      "2092          海淀区, 数码大厦B座华宇时尚购物中心内, 蓝色港湾国际商区1座C1-3单元首层、    北京市             11   \n",
      "2093                朝阳区朝阳公园路6号, 二层C1-3单元及二层阳台, 太阳宫中路12号    北京市             11   \n",
      "2094                  朝阳区, 太阳宫凯德嘉茂一层01-44/45号, 东三环北路27号    北京市             11   \n",
      "2095                      朝阳区, 嘉铭中心大厦A座B1层024商铺, 金融大街7号    北京市             11   \n",
      "...                                                 ...    ...            ...   \n",
      "4820  Portion of Shop 04, Ground Floor, Sands, Largo...  Macau             92   \n",
      "4821             Wynn Macau, Rua Cidada de Sintra, NAPE  Macau             92   \n",
      "4822       Employee Entrance Outlet, Wynn Cotai, Resort  Macau             92   \n",
      "4823  Shop K201 & K202, Level 02, Parcela 5&6, Estra...  Macau             92   \n",
      "4824                       Promenade Rd, Open Area, 2/F  Macau             92   \n",
      "\n",
      "     Country Postcode   Phone Number                Timezone  Longitude  \\\n",
      "2091      CN   100073            NaN  GMT+08:00 Asia/Beijing     116.32   \n",
      "2092      CN   100086   010-51626616  GMT+08:00 Asia/Beijing     116.32   \n",
      "2093      CN   100020   010-59056343  GMT+08:00 Asia/Beijing     116.47   \n",
      "2094      CN   100028   010-84150945  GMT+08:00 Asia/Beijing     116.45   \n",
      "2095      CN      NaN            NaN  GMT+08:00 Asia/Beijing     116.46   \n",
      "...      ...      ...            ...                     ...        ...   \n",
      "4820      CN      NaN  (853)28782773  GMT+08:00 Asia/Beijing     113.55   \n",
      "4821      CN      NaN    85328723516  GMT+08:00 Asia/Beijing     113.55   \n",
      "4822      CN      NaN            NaN  GMT+08:00 Asia/Beijing     113.54   \n",
      "4823      CN      NaN    85328853439  GMT+08:00 Asia/Beijing     113.56   \n",
      "4824      CN      NaN            NaN  GMT+08:00 Asia/Beijing     113.55   \n",
      "\n",
      "      Latitude  \n",
      "2091     39.90  \n",
      "2092     39.97  \n",
      "2093     39.95  \n",
      "2094     39.97  \n",
      "2095     39.93  \n",
      "...        ...  \n",
      "4820     22.19  \n",
      "4821     22.19  \n",
      "4822     22.20  \n",
      "4823     22.15  \n",
      "4824     22.19  \n",
      "\n",
      "[2734 rows x 13 columns]\n"
     ]
    },
    {
     "data": {
      "text/plain": "<Figure size 1600x640 with 1 Axes>",
      "image/png": "[encoded data removed]"
     },
     "metadata": {
      "needs_background": "light"
     },
     "output_type": "display_data"
    }
   ],
   "source": [
    "import matplotlib.pyplot as plt\n",
    "\n",
    "# 在DataFrame里存放Series，因为行数相同，可以通过True和False进行过滤，输出为True的值\n",
    "country_cn = information[information['Country'] == 'CN']\n",
    "# print(information['Country'] == 'CN')\n",
    "# print(information[False])\n",
    "print('-' * 30)\n",
    "print(country_cn)  # 选出中国的城市\n",
    "china_province = country_cn.groupby('State/Province').size().sort_values(ascending=False)\n",
    "plt.figure(figsize=(20, 8), dpi=80)\n",
    "plt.bar(china_province.index, china_province.values)\n",
    "plt.show()"
   ],
   "metadata": {
    "collapsed": false,
    "pycharm": {
     "name": "#%%\n"
    }
   }
  },
  {
   "cell_type": "markdown",
   "source": [
    "### 2、\t熟练索引设置，时间序列接口"
   ],
   "metadata": {
    "collapsed": false,
    "pycharm": {
     "name": "#%% md\n"
    }
   }
  },
  {
   "cell_type": "code",
   "execution_count": 84,
   "outputs": [
    {
     "name": "stdout",
     "output_type": "stream",
     "text": [
      "  key1   key2  data1  data2\n",
      "0    a    one      6      4\n",
      "1    b    one      3      5\n",
      "2    a    two      7      6\n",
      "3    b  three      4      7\n",
      "4    a    two      3      4\n",
      "5    b    two      4      5\n",
      "6    a    one      6      4\n",
      "7    a  three      6      7\n",
      "------------------------------\n",
      "  key1   key2  data1  data2\n",
      "a    a    one      6      4\n",
      "b    b    one      3      5\n",
      "c    a    two      7      6\n",
      "d    b  three      4      7\n",
      "e    a    two      3      4\n",
      "f    b    two      4      5\n",
      "g    a    one      6      4\n",
      "h    a  three      6      7\n",
      "  key1 key2  data1  data2\n",
      "i  NaN  NaN    NaN    NaN\n",
      "j  NaN  NaN    NaN    NaN\n",
      "k  NaN  NaN    NaN    NaN\n",
      "l  NaN  NaN    NaN    NaN\n",
      "m  NaN  NaN    NaN    NaN\n",
      "n  NaN  NaN    NaN    NaN\n",
      "o  NaN  NaN    NaN    NaN\n",
      "p  NaN  NaN    NaN    NaN\n"
     ]
    }
   ],
   "source": [
    "dict1 = {'key1': ['a', 'b', 'a', 'b',\n",
    "                  'a', 'b', 'a', 'a'],\n",
    "         'key2': ['one', 'one', 'two', 'three',\n",
    "                  'two', 'two', 'one', 'three'],\n",
    "         'data1': np.random.randint(1, 8, size=8),\n",
    "         'data2': np.random.randint(1, 8, size=8)}\n",
    "a = pd.DataFrame(dict1)\n",
    "print(a)\n",
    "a.index = list('abcdefgh')  # 重新设置a的index\n",
    "print('-' * 30)\n",
    "print(a)\n",
    "b = a.reindex(list('ijklmnop'))  # 返回一个新的df，但是没有值，拥有和a相同的列索引\n",
    "print('-' * 30)\n",
    "print(b)"
   ],
   "metadata": {
    "collapsed": false,
    "pycharm": {
     "name": "#%%\n"
    }
   }
  },
  {
   "cell_type": "code",
   "execution_count": 91,
   "outputs": [
    {
     "name": "stdout",
     "output_type": "stream",
     "text": [
      "  key1   key2  data1  data2\n",
      "a    a    one      6      4\n",
      "b    b    one      3      5\n",
      "c    a    two      7      6\n",
      "d    b  three      4      7\n",
      "e    a    two      3      4\n",
      "f    b    two      4      5\n",
      "g    a    one      6      4\n",
      "h    a  three      6      7\n",
      "------------------------------\n",
      "            key1   key2\n",
      "data1 data2            \n",
      "6     4        a    one\n",
      "3     5        b    one\n",
      "7     6        a    two\n",
      "4     7        b  three\n",
      "3     4        a    two\n",
      "4     5        b    two\n",
      "6     4        a    one\n",
      "      7        a  three\n",
      "------------------------------\n",
      "MultiIndex([(6, 4),\n",
      "            (3, 5),\n",
      "            (7, 6),\n",
      "            (4, 7),\n",
      "            (3, 4),\n",
      "            (4, 5),\n",
      "            (6, 4),\n",
      "            (6, 7)],\n",
      "           names=['data1', 'data2'])\n"
     ]
    }
   ],
   "source": [
    "print(a)\n",
    "print('-' * 30)\n",
    "b = a.set_index(['data1', 'data2'])  # 可以将df的某几列当作索引\n",
    "print(b)\n",
    "print('-' * 30)\n",
    "print(b.index)"
   ],
   "metadata": {
    "collapsed": false,
    "pycharm": {
     "name": "#%%\n"
    }
   }
  },
  {
   "cell_type": "markdown",
   "source": [
    "#### 时间序列"
   ],
   "metadata": {
    "collapsed": false,
    "pycharm": {
     "name": "#%% md\n"
    }
   }
  },
  {
   "cell_type": "code",
   "execution_count": 93,
   "outputs": [
    {
     "data": {
      "text/plain": "DatetimeIndex(['2022-01-01', '2022-01-02', '2022-01-03', '2022-01-04',\n               '2022-01-05', '2022-01-06', '2022-01-07', '2022-01-08',\n               '2022-01-09', '2022-01-10',\n               ...\n               '2022-10-01', '2022-10-02', '2022-10-03', '2022-10-04',\n               '2022-10-05', '2022-10-06', '2022-10-07', '2022-10-08',\n               '2022-10-09', '2022-10-10'],\n              dtype='datetime64[ns]', length=283, freq='D')"
     },
     "execution_count": 93,
     "metadata": {},
     "output_type": "execute_result"
    }
   ],
   "source": [
    "# 默认以天为频率\n",
    "pd.date_range(start='20220101', end='20221010')"
   ],
   "metadata": {
    "collapsed": false,
    "pycharm": {
     "name": "#%%\n"
    }
   }
  },
  {
   "cell_type": "code",
   "execution_count": 95,
   "outputs": [
    {
     "data": {
      "text/plain": "DatetimeIndex(['2022-01-31', '2022-02-28', '2022-03-31', '2022-04-30',\n               '2022-05-31', '2022-06-30', '2022-07-31', '2022-08-31',\n               '2022-09-30'],\n              dtype='datetime64[ns]', freq='M')"
     },
     "execution_count": 95,
     "metadata": {},
     "output_type": "execute_result"
    }
   ],
   "source": [
    "# 以Month为频率\n",
    "pd.date_range(start='20220101', end='20221010', freq='M')"
   ],
   "metadata": {
    "collapsed": false,
    "pycharm": {
     "name": "#%%\n"
    }
   }
  },
  {
   "cell_type": "code",
   "execution_count": 96,
   "outputs": [
    {
     "data": {
      "text/plain": "DatetimeIndex(['2022-01-02', '2022-01-09', '2022-01-16', '2022-01-23',\n               '2022-01-30', '2022-02-06', '2022-02-13', '2022-02-20',\n               '2022-02-27', '2022-03-06', '2022-03-13', '2022-03-20',\n               '2022-03-27', '2022-04-03', '2022-04-10', '2022-04-17',\n               '2022-04-24', '2022-05-01', '2022-05-08', '2022-05-15',\n               '2022-05-22', '2022-05-29', '2022-06-05', '2022-06-12',\n               '2022-06-19', '2022-06-26', '2022-07-03', '2022-07-10',\n               '2022-07-17', '2022-07-24', '2022-07-31', '2022-08-07',\n               '2022-08-14', '2022-08-21', '2022-08-28', '2022-09-04',\n               '2022-09-11', '2022-09-18', '2022-09-25', '2022-10-02',\n               '2022-10-09'],\n              dtype='datetime64[ns]', freq='W-SUN')"
     },
     "execution_count": 96,
     "metadata": {},
     "output_type": "execute_result"
    }
   ],
   "source": [
    "# 以一周为频率\n",
    "pd.date_range(start='20220101', end='20221010', freq='W')"
   ],
   "metadata": {
    "collapsed": false,
    "pycharm": {
     "name": "#%%\n"
    }
   }
  },
  {
   "cell_type": "markdown",
   "source": [
    "### 911实战"
   ],
   "metadata": {
    "collapsed": false,
    "pycharm": {
     "name": "#%% md\n"
    }
   }
  },
  {
   "cell_type": "code",
   "execution_count": 117,
   "outputs": [
    {
     "name": "stdout",
     "output_type": "stream",
     "text": [
      "<class 'pandas.core.frame.DataFrame'>\n",
      "RangeIndex: 249737 entries, 0 to 249736\n",
      "Data columns (total 9 columns):\n",
      " #   Column     Non-Null Count   Dtype  \n",
      "---  ------     --------------   -----  \n",
      " 0   lat        249737 non-null  float64\n",
      " 1   lng        249737 non-null  float64\n",
      " 2   desc       249737 non-null  object \n",
      " 3   zip        219391 non-null  float64\n",
      " 4   title      249737 non-null  object \n",
      " 5   timeStamp  249737 non-null  object \n",
      " 6   twp        249644 non-null  object \n",
      " 7   addr       249737 non-null  object \n",
      " 8   e          249737 non-null  int64  \n",
      "dtypes: float64(3), int64(1), object(5)\n",
      "memory usage: 17.1+ MB\n",
      "None\n",
      "------------------------------\n",
      "<class 'pandas.core.frame.DataFrame'>\n",
      "RangeIndex: 249737 entries, 0 to 249736\n",
      "Data columns (total 9 columns):\n",
      " #   Column     Non-Null Count   Dtype         \n",
      "---  ------     --------------   -----         \n",
      " 0   lat        249737 non-null  float64       \n",
      " 1   lng        249737 non-null  float64       \n",
      " 2   desc       249737 non-null  object        \n",
      " 3   zip        219391 non-null  float64       \n",
      " 4   title      249737 non-null  object        \n",
      " 5   timeStamp  249737 non-null  datetime64[ns]\n",
      " 6   twp        249644 non-null  object        \n",
      " 7   addr       249737 non-null  object        \n",
      " 8   e          249737 non-null  int64         \n",
      "dtypes: datetime64[ns](1), float64(3), int64(1), object(4)\n",
      "memory usage: 17.1+ MB\n",
      "None\n"
     ]
    }
   ],
   "source": [
    "information = pd.read_csv('./911.csv')\n",
    "print(information.info())  # 观察数据总类类型\n",
    "# 把字符串时间类型转化为时间类型的\n",
    "information['timeStamp'] = pd.to_datetime(information['timeStamp'])\n",
    "print('-' * 30)\n",
    "print(information.info())"
   ],
   "metadata": {
    "collapsed": false,
    "pycharm": {
     "name": "#%%\n"
    }
   }
  },
  {
   "cell_type": "code",
   "execution_count": 118,
   "outputs": [
    {
     "name": "stdout",
     "output_type": "stream",
     "text": [
      "         lat        lng                                               desc  \\\n",
      "0  40.297876 -75.581294  REINDEER CT & DEAD END;  NEW HANOVER; Station ...   \n",
      "\n",
      "       zip                   title           timeStamp          twp  \\\n",
      "0  19525.0  EMS: BACK PAINS/INJURY 2015-12-10 17:10:52  NEW HANOVER   \n",
      "\n",
      "                     addr  e  \n",
      "0  REINDEER CT & DEAD END  1  \n",
      "<class 'pandas.core.frame.DataFrame'>\n",
      "RangeIndex: 249737 entries, 0 to 249736\n",
      "Data columns (total 10 columns):\n",
      " #   Column     Non-Null Count   Dtype         \n",
      "---  ------     --------------   -----         \n",
      " 0   lat        249737 non-null  float64       \n",
      " 1   lng        249737 non-null  float64       \n",
      " 2   desc       249737 non-null  object        \n",
      " 3   zip        219391 non-null  float64       \n",
      " 4   title      249737 non-null  object        \n",
      " 5   timeStamp  249737 non-null  datetime64[ns]\n",
      " 6   twp        249644 non-null  object        \n",
      " 7   addr       249737 non-null  object        \n",
      " 8   e          249737 non-null  int64         \n",
      " 9   cate       249737 non-null  object        \n",
      "dtypes: datetime64[ns](1), float64(3), int64(1), object(5)\n",
      "memory usage: 19.1+ MB\n",
      "None\n"
     ]
    }
   ],
   "source": [
    "print(information.head(1))  # 观察数据的格式，找出报警的类别在title[0]\n",
    "temp_list = information['title'].str.split(': ').tolist()\n",
    "cate_list = [i[0] for i in temp_list]  # 从分开的列表中去除[0]表示类别\n",
    "information['cate'] = pd.DataFrame(np.array(cate_list).reshape(\n",
    "    (information.shape[0], 1)))\n",
    "print(information.info())"
   ],
   "metadata": {
    "collapsed": false,
    "pycharm": {
     "name": "#%%\n"
    }
   }
  },
  {
   "cell_type": "code",
   "execution_count": 119,
   "outputs": [
    {
     "name": "stdout",
     "output_type": "stream",
     "text": [
      "                           lat        lng  \\\n",
      "timeStamp                                   \n",
      "2015-12-10 17:10:52  40.297876 -75.581294   \n",
      "2015-12-10 17:29:21  40.258061 -75.264680   \n",
      "2015-12-10 14:39:21  40.121182 -75.351975   \n",
      "2015-12-10 16:47:36  40.116153 -75.343513   \n",
      "2015-12-10 16:56:52  40.251492 -75.603350   \n",
      "\n",
      "                                                                  desc  \\\n",
      "timeStamp                                                                \n",
      "2015-12-10 17:10:52  REINDEER CT & DEAD END;  NEW HANOVER; Station ...   \n",
      "2015-12-10 17:29:21  BRIAR PATH & WHITEMARSH LN;  HATFIELD TOWNSHIP...   \n",
      "2015-12-10 14:39:21  HAWS AVE; NORRISTOWN; 2015-12-10 @ 14:39:21-St...   \n",
      "2015-12-10 16:47:36  AIRY ST & SWEDE ST;  NORRISTOWN; Station 308A;...   \n",
      "2015-12-10 16:56:52  CHERRYWOOD CT & DEAD END;  LOWER POTTSGROVE; S...   \n",
      "\n",
      "                         zip                    title                twp  \\\n",
      "timeStamp                                                                  \n",
      "2015-12-10 17:10:52  19525.0   EMS: BACK PAINS/INJURY        NEW HANOVER   \n",
      "2015-12-10 17:29:21  19446.0  EMS: DIABETIC EMERGENCY  HATFIELD TOWNSHIP   \n",
      "2015-12-10 14:39:21  19401.0      Fire: GAS-ODOR/LEAK         NORRISTOWN   \n",
      "2015-12-10 16:47:36  19401.0   EMS: CARDIAC EMERGENCY         NORRISTOWN   \n",
      "2015-12-10 16:56:52      NaN           EMS: DIZZINESS   LOWER POTTSGROVE   \n",
      "\n",
      "                                           addr  e  cate  \n",
      "timeStamp                                                 \n",
      "2015-12-10 17:10:52      REINDEER CT & DEAD END  1   EMS  \n",
      "2015-12-10 17:29:21  BRIAR PATH & WHITEMARSH LN  1   EMS  \n",
      "2015-12-10 14:39:21                    HAWS AVE  1  Fire  \n",
      "2015-12-10 16:47:36          AIRY ST & SWEDE ST  1   EMS  \n",
      "2015-12-10 16:56:52    CHERRYWOOD CT & DEAD END  1   EMS  \n"
     ]
    }
   ],
   "source": [
    "# 将timeStamp设置为索引，方便通过时间获取信息\n",
    "information.set_index('timeStamp', inplace=True)\n",
    "print(information.head())"
   ],
   "metadata": {
    "collapsed": false,
    "pycharm": {
     "name": "#%%\n"
    }
   }
  },
  {
   "cell_type": "code",
   "execution_count": 123,
   "outputs": [
    {
     "name": "stdout",
     "output_type": "stream",
     "text": [
      "timeStamp\n",
      "2015-12-31    3898\n",
      "2016-01-31    6063\n",
      "2016-02-29    5413\n",
      "2016-03-31    5832\n",
      "2016-04-30    5684\n",
      "2016-05-31    5730\n",
      "2016-06-30    5720\n",
      "2016-07-31    6029\n",
      "2016-08-31    6005\n",
      "2016-09-30    5750\n",
      "2016-10-31    6039\n",
      "2016-11-30    5838\n",
      "2016-12-31    6024\n",
      "2017-01-31    6082\n",
      "2017-02-28    5417\n",
      "2017-03-31    5913\n",
      "2017-04-30    5780\n",
      "2017-05-31    5948\n",
      "2017-06-30    6030\n",
      "2017-07-31    5974\n",
      "2017-08-31    5882\n",
      "2017-09-30    3789\n",
      "Freq: M, Name: title, dtype: int64\n",
      "DatetimeIndex(['2015-12-31', '2016-01-31', '2016-02-29', '2016-03-31',\n",
      "               '2016-04-30', '2016-05-31', '2016-06-30', '2016-07-31',\n",
      "               '2016-08-31', '2016-09-30', '2016-10-31', '2016-11-30',\n",
      "               '2016-12-31', '2017-01-31', '2017-02-28', '2017-03-31',\n",
      "               '2017-04-30', '2017-05-31', '2017-06-30', '2017-07-31',\n",
      "               '2017-08-31', '2017-09-30'],\n",
      "              dtype='datetime64[ns]', name='timeStamp', freq='M')\n",
      "timeStamp\n",
      "2015-12-31    1095\n",
      "2016-01-31    1904\n",
      "2016-02-29    1868\n",
      "2016-03-31    1589\n",
      "2016-04-30    1717\n",
      "2016-05-31    1573\n",
      "2016-06-30    1787\n",
      "2016-07-31    1898\n",
      "2016-08-31    1907\n",
      "2016-09-30    1793\n",
      "2016-10-31    1930\n",
      "2016-11-30    1765\n",
      "2016-12-31    1846\n",
      "2017-01-31    1658\n",
      "2017-02-28    1462\n",
      "2017-03-31    1634\n",
      "2017-04-30    1614\n",
      "2017-05-31    1670\n",
      "2017-06-30    1986\n",
      "2017-07-31    1754\n",
      "2017-08-31    1862\n",
      "2017-09-30    1120\n",
      "Freq: M, Name: title, dtype: int64\n",
      "DatetimeIndex(['2015-12-31', '2016-01-31', '2016-02-29', '2016-03-31',\n",
      "               '2016-04-30', '2016-05-31', '2016-06-30', '2016-07-31',\n",
      "               '2016-08-31', '2016-09-30', '2016-10-31', '2016-11-30',\n",
      "               '2016-12-31', '2017-01-31', '2017-02-28', '2017-03-31',\n",
      "               '2017-04-30', '2017-05-31', '2017-06-30', '2017-07-31',\n",
      "               '2017-08-31', '2017-09-30'],\n",
      "              dtype='datetime64[ns]', name='timeStamp', freq='M')\n",
      "timeStamp\n",
      "2015-12-31    2923\n",
      "2016-01-31    5129\n",
      "2016-02-29    4115\n",
      "2016-03-31    3638\n",
      "2016-04-30    3886\n",
      "2016-05-31    4071\n",
      "2016-06-30    4225\n",
      "2016-07-31    4161\n",
      "2016-08-31    3992\n",
      "2016-09-30    4126\n",
      "2016-10-31    4533\n",
      "2016-11-30    4488\n",
      "2016-12-31    4292\n",
      "2017-01-31    3865\n",
      "2017-02-28    3388\n",
      "2017-03-31    4137\n",
      "2017-04-30    3662\n",
      "2017-05-31    4101\n",
      "2017-06-30    4317\n",
      "2017-07-31    4040\n",
      "2017-08-31    4009\n",
      "2017-09-30    2367\n",
      "Freq: M, Name: title, dtype: int64\n",
      "DatetimeIndex(['2015-12-31', '2016-01-31', '2016-02-29', '2016-03-31',\n",
      "               '2016-04-30', '2016-05-31', '2016-06-30', '2016-07-31',\n",
      "               '2016-08-31', '2016-09-30', '2016-10-31', '2016-11-30',\n",
      "               '2016-12-31', '2017-01-31', '2017-02-28', '2017-03-31',\n",
      "               '2017-04-30', '2017-05-31', '2017-06-30', '2017-07-31',\n",
      "               '2017-08-31', '2017-09-30'],\n",
      "              dtype='datetime64[ns]', name='timeStamp', freq='M')\n"
     ]
    },
    {
     "data": {
      "text/plain": "<Figure size 1600x640 with 1 Axes>",
      "image/png": "[encoded data removed]"
     },
     "metadata": {
      "needs_background": "light"
     },
     "output_type": "display_data"
    }
   ],
   "source": [
    "plt.figure(figsize=(20, 8), dpi=80)\n",
    "cate_data = information.groupby('cate')  # 通过类别来分组\n",
    "for group_name, group_value in cate_data:\n",
    "    count_month = group_value.resample(\"M\").count()['title']  # 以月为频率进行将采样\n",
    "    print(count_month)\n",
    "    x = count_month.index\n",
    "    print(x)\n",
    "    y = count_month.values\n",
    "    x = [i.strftime(\"%Y%m%d\") for i in x]  # 转换时间格式\n",
    "    plt.plot(x, y, label=group_name)\n",
    "plt.xticks(range(len(x)), x, rotation=45)\n",
    "plt.legend(loc='best')\n",
    "plt.show()"
   ],
   "metadata": {
    "collapsed": false,
    "pycharm": {
     "name": "#%%\n"
    }
   }
  },
  {
   "cell_type": "code",
   "execution_count": null,
   "outputs": [],
   "source": [],
   "metadata": {
    "collapsed": false,
    "pycharm": {
     "name": "#%%\n"
    }
   }
  }
 ],
 "metadata": {
  "kernelspec": {
   "display_name": "Python 3",
   "language": "python",
   "name": "python3"
  },
  "language_info": {
   "codemirror_mode": {
    "name": "ipython",
    "version": 2
   },
   "file_extension": ".py",
   "mimetype": "text/x-python",
   "name": "python",
   "nbconvert_exporter": "python",
   "pygments_lexer": "ipython2",
   "version": "2.7.6"
  }
 },
 "nbformat": 4,
 "nbformat_minor": 0
}