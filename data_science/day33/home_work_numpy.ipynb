{
 "cells": [
  {
   "cell_type": "code",
   "execution_count": 1,
   "outputs": [],
   "source": [
    "import numpy as np"
   ],
   "metadata": {
    "collapsed": false,
    "pycharm": {
     "name": "#%%\n"
    }
   }
  },
  {
   "cell_type": "code",
   "execution_count": 17,
   "outputs": [
    {
     "name": "stdout",
     "output_type": "stream",
     "text": [
      "[ 1  3  5  7  9 10]\n",
      "(6,)\n",
      "int64\n",
      "1\n",
      "******************************\n",
      "[[ 1  3]\n",
      " [ 5  7]\n",
      " [ 9 10]]\n",
      "(3, 2)\n",
      "int64\n",
      "2\n",
      "******************************\n",
      "int16\n",
      "6\n"
     ]
    }
   ],
   "source": [
    "list1 = [1, 3, 5, 7, 9, 10]\n",
    "one_array = np.array(list1)  # list转ndarray\n",
    "print(one_array)\n",
    "print(one_array.shape)  # ndarray的形状\n",
    "print(one_array.dtype)  # ndarray的数据类型\n",
    "print(one_array.ndim)  # ndarray的维度\n",
    "print('*' * 30)\n",
    "two_array = one_array.reshape((3, 2))\n",
    "print(two_array)\n",
    "print(two_array.shape)\n",
    "print(two_array.dtype)\n",
    "print(two_array.ndim)\n",
    "print('*' * 30)\n",
    "two_array = two_array.astype(np.int16)\n",
    "print(two_array.dtype)\n",
    "print(two_array.size)  # 元素个数"
   ],
   "metadata": {
    "collapsed": false,
    "pycharm": {
     "name": "#%%\n"
    }
   }
  },
  {
   "cell_type": "code",
   "execution_count": null,
   "outputs": [],
   "source": [],
   "metadata": {
    "collapsed": false,
    "pycharm": {
     "name": "#%%\n"
    }
   }
  }
 ],
 "metadata": {
  "kernelspec": {
   "display_name": "Python 3",
   "language": "python",
   "name": "python3"
  },
  "language_info": {
   "codemirror_mode": {
    "name": "ipython",
    "version": 2
   },
   "file_extension": ".py",
   "mimetype": "text/x-python",
   "name": "python",
   "nbconvert_exporter": "python",
   "pygments_lexer": "ipython2",
   "version": "2.7.6"
  }
 },
 "nbformat": 4,
 "nbformat_minor": 0
}