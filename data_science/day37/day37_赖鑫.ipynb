{
 "cells": [
  {
   "cell_type": "markdown",
   "source": [
    "### 1、\t练习merge（注意使用on，left_on，right_on,how, right_index等操作），transform，groupby 和apply组合"
   ],
   "metadata": {
    "collapsed": false,
    "pycharm": {
     "name": "#%% md\n"
    }
   }
  },
  {
   "cell_type": "code",
   "execution_count": 41,
   "metadata": {
    "collapsed": true,
    "pycharm": {
     "name": "#%%\n"
    }
   },
   "outputs": [],
   "source": [
    "import pandas as pd\n",
    "import numpy as np"
   ]
  },
  {
   "cell_type": "code",
   "execution_count": 17,
   "outputs": [
    {
     "name": "stdout",
     "output_type": "stream",
     "text": [
      "  key1   key2  data1  data2\n",
      "0    a    one      1      1\n",
      "1    b    one      4      5\n",
      "2    a    two      7      7\n",
      "3    b  three      2      5\n",
      "4    a    two      9      7\n",
      "5    b    two      5      2\n",
      "6    a    one      1      8\n",
      "7    a  three      1      2\n"
     ]
    }
   ],
   "source": [
    "dict1 = {'key1': ['a', 'b', 'a', 'b',\n",
    "                  'a', 'b', 'a', 'a'],\n",
    "         'key2': ['one', 'one', 'two', 'three',\n",
    "                  'two', 'two', 'one', 'three'],\n",
    "         'data1': np.random.randint(1, 10, 8),\n",
    "         'data2': np.random.randint(1, 10, 8)}\n",
    "a = pd.DataFrame(dict1)\n",
    "print(a)"
   ],
   "metadata": {
    "collapsed": false,
    "pycharm": {
     "name": "#%%\n"
    }
   }
  },
  {
   "cell_type": "code",
   "execution_count": 18,
   "outputs": [
    {
     "name": "stdout",
     "output_type": "stream",
     "text": [
      "       sum_data1  sum_data2\n",
      "key2                       \n",
      "one            6         14\n",
      "three          3          7\n",
      "two           21         16\n"
     ]
    }
   ],
   "source": [
    "# 通过key2进行分组，并且添加前缀，以分辨分组之后于组之前的数据\n",
    "k2_sum = a.groupby('key2').sum().add_prefix('sum_')\n",
    "print(k2_sum)"
   ],
   "metadata": {
    "collapsed": false,
    "pycharm": {
     "name": "#%%\n"
    }
   }
  },
  {
   "cell_type": "code",
   "execution_count": 12,
   "outputs": [
    {
     "name": "stdout",
     "output_type": "stream",
     "text": [
      "  key1   key2  data1  data2  sum_data1  sum_data2\n",
      "0    a    one      1      9         11         17\n",
      "1    b    one      4      2         11         17\n",
      "2    a    one      6      6         11         17\n",
      "3    a    two      6      9         18         16\n",
      "4    a    two      5      5         18         16\n",
      "5    b    two      7      2         18         16\n",
      "6    b  three      9      3         11          9\n",
      "7    a  three      2      6         11          9\n"
     ]
    }
   ],
   "source": [
    "# 默认是inner,即取交集 on是连接条件\n",
    "k2_sum_merge = pd.merge(a, k2_sum, on='key2')\n",
    "print(k2_sum_merge)"
   ],
   "metadata": {
    "collapsed": false,
    "pycharm": {
     "name": "#%%\n"
    }
   }
  },
  {
   "cell_type": "code",
   "execution_count": 13,
   "outputs": [
    {
     "name": "stdout",
     "output_type": "stream",
     "text": [
      "  key1   key2  data1  data2  sum_data1  sum_data2\n",
      "0    a    one      1      9         11         17\n",
      "1    b    one      4      2         11         17\n",
      "2    a    two      6      9         18         16\n",
      "3    b  three      9      3         11          9\n",
      "4    a    two      5      5         18         16\n",
      "5    b    two      7      2         18         16\n",
      "6    a    one      6      6         11         17\n",
      "7    a  three      2      6         11          9\n"
     ]
    }
   ],
   "source": [
    "# 以左表为主\n",
    "k2_sum_merge = pd.merge(a, k2_sum, how='left', on='key2')\n",
    "print(k2_sum_merge)"
   ],
   "metadata": {
    "collapsed": false,
    "pycharm": {
     "name": "#%%\n"
    }
   }
  },
  {
   "cell_type": "code",
   "execution_count": 14,
   "outputs": [
    {
     "name": "stdout",
     "output_type": "stream",
     "text": [
      "  key1   key2  data1  data2  sum_data1  sum_data2\n",
      "0    a    one      1      9         11         17\n",
      "1    b    one      4      2         11         17\n",
      "2    a    one      6      6         11         17\n",
      "3    b  three      9      3         11          9\n",
      "4    a  three      2      6         11          9\n",
      "5    a    two      6      9         18         16\n",
      "6    a    two      5      5         18         16\n",
      "7    b    two      7      2         18         16\n"
     ]
    }
   ],
   "source": [
    "# 以右边为主\n",
    "k2_sum_merge = pd.merge(a, k2_sum, how='right', on='key2')\n",
    "print(k2_sum_merge)"
   ],
   "metadata": {
    "collapsed": false,
    "pycharm": {
     "name": "#%%\n"
    }
   }
  },
  {
   "cell_type": "code",
   "execution_count": 23,
   "outputs": [
    {
     "name": "stdout",
     "output_type": "stream",
     "text": [
      "  key1   key2  data1  data2  sum_data1  sum_data2\n",
      "0    a    one      1      1          6         14\n",
      "1    b    one      4      5          6         14\n",
      "6    a    one      1      8          6         14\n",
      "2    a    two      7      7         21         16\n",
      "4    a    two      9      7         21         16\n",
      "5    b    two      5      2         21         16\n",
      "3    b  three      2      5          3          7\n",
      "7    a  three      1      2          3          7\n"
     ]
    }
   ],
   "source": [
    "# 传入左对象的键，并设置右对象的行索引作为依赖和key2中的值进行比较\n",
    "k2_sum_merge = pd.merge(a, k2_sum, left_on='key2', right_index=True)\n",
    "print(k2_sum_merge)"
   ],
   "metadata": {
    "collapsed": false,
    "pycharm": {
     "name": "#%%\n"
    }
   }
  },
  {
   "cell_type": "code",
   "execution_count": 26,
   "outputs": [
    {
     "name": "stdout",
     "output_type": "stream",
     "text": [
      "  key1_sum data1_sum data2_sum\n",
      "0      aba         6        14\n",
      "1      aba         6        14\n",
      "2      aab        21        16\n",
      "3       ba         3         7\n",
      "4      aab        21        16\n",
      "5      aab        21        16\n",
      "6      aba         6        14\n",
      "7       ba         3         7\n"
     ]
    }
   ],
   "source": [
    "# 使用transform能够是计算后的形状和原始数据的形状保持一致\n",
    "k2_sum = a.groupby('key2').transform(np.sum).add_suffix('_sum')\n",
    "print(k2_sum)"
   ],
   "metadata": {
    "collapsed": false,
    "pycharm": {
     "name": "#%%\n"
    }
   }
  },
  {
   "cell_type": "code",
   "execution_count": 32,
   "outputs": [
    {
     "name": "stdout",
     "output_type": "stream",
     "text": [
      "   data1_mean  data2_mean\n",
      "0        -1.0   -3.666667\n",
      "1         2.0    0.333333\n",
      "2         0.0    1.666667\n",
      "3         0.5    1.500000\n",
      "4         2.0    1.666667\n",
      "5        -2.0   -3.333333\n",
      "6        -1.0    3.333333\n",
      "7        -0.5   -1.500000\n"
     ]
    },
    {
     "name": "stderr",
     "output_type": "stream",
     "text": [
      "/var/folders/76/hml58m8x523bl4kvx5v865vr0000gn/T/ipykernel_76496/248883119.py:5: FutureWarning: Dropping invalid columns in DataFrameGroupBy.transform is deprecated. In a future version, a TypeError will be raised. Before calling .transform, select only columns which should be valid for the function.\n",
      "  k2_sum = a.groupby('key2').transform(diff_mean).add_suffix('_mean')\n"
     ]
    }
   ],
   "source": [
    "# transform里也可以传入自定义函数\n",
    "def diff_mean(x):\n",
    "    return x - x.mean()\n",
    "\n",
    "\n",
    "k2_sum = a.groupby('key2').transform(diff_mean).add_suffix('_mean')\n",
    "print(k2_sum)"
   ],
   "metadata": {
    "collapsed": false,
    "pycharm": {
     "name": "#%%\n"
    }
   }
  },
  {
   "cell_type": "markdown",
   "source": [
    "### 2、\t完成concat的练习，重复数据的去除练习"
   ],
   "metadata": {
    "collapsed": false,
    "pycharm": {
     "name": "#%% md\n"
    }
   }
  },
  {
   "cell_type": "code",
   "execution_count": 34,
   "outputs": [
    {
     "name": "stdout",
     "output_type": "stream",
     "text": [
      "0    a\n",
      "1    b\n",
      "dtype: object\n",
      "0    c\n",
      "1    d\n",
      "dtype: object\n"
     ]
    }
   ],
   "source": [
    "import numpy as np\n",
    "import pandas as pd\n",
    "\n",
    "a = pd.Series(['a', 'b'])\n",
    "b = pd.Series(['c', 'd'])\n",
    "print(a)\n",
    "print(b)"
   ],
   "metadata": {
    "collapsed": false,
    "pycharm": {
     "name": "#%%\n"
    }
   }
  },
  {
   "cell_type": "code",
   "execution_count": 40,
   "outputs": [
    {
     "name": "stdout",
     "output_type": "stream",
     "text": [
      "0    a\n",
      "1    b\n",
      "0    c\n",
      "1    d\n",
      "dtype: object\n",
      "------------------------------\n",
      "   0  1\n",
      "0  a  c\n",
      "1  b  d\n"
     ]
    }
   ],
   "source": [
    "print(pd.concat([a, b]))\n",
    "print('-' * 30)\n",
    "print(pd.concat([a, b], axis=1))"
   ],
   "metadata": {
    "collapsed": false,
    "pycharm": {
     "name": "#%%\n"
    }
   }
  },
  {
   "cell_type": "code",
   "execution_count": 45,
   "outputs": [
    {
     "name": "stdout",
     "output_type": "stream",
     "text": [
      "0    False\n",
      "1    False\n",
      "2     True\n",
      "3    False\n",
      "4     True\n",
      "5     True\n",
      "6     True\n",
      "7     True\n",
      "dtype: bool\n",
      "------------------------------\n",
      "0    1\n",
      "1    3\n",
      "3    2\n",
      "dtype: int64\n",
      "------------------------------\n",
      "   0  1  2  3\n",
      "0  3  2  3  1\n",
      "1  3  1  1  1\n",
      "2  3  2  2  2\n",
      "3  2  3  2  3\n"
     ]
    }
   ],
   "source": [
    "a = pd.Series(np.random.randint(1, 4, 8))\n",
    "print(a.duplicated())  # 查看是否存在重复的数据\n",
    "print('-' * 30)\n",
    "print(a.drop_duplicates())  # 去除重复的数据\n",
    "print('-' * 30)"
   ],
   "metadata": {
    "collapsed": false,
    "pycharm": {
     "name": "#%%\n"
    }
   }
  },
  {
   "cell_type": "code",
   "execution_count": 53,
   "outputs": [
    {
     "name": "stdout",
     "output_type": "stream",
     "text": [
      "   0  1  2\n",
      "0  1  2  3\n",
      "1  1  2  3\n",
      "2  2  3  4\n",
      "3  2  3  4\n",
      "------------------------------\n",
      "0    False\n",
      "1     True\n",
      "2    False\n",
      "3     True\n",
      "dtype: bool\n",
      "------------------------------\n",
      "   0  1  2\n",
      "0  1  2  3\n",
      "2  2  3  4\n",
      "   0  1  2\n",
      "0  1  2  3\n",
      "1  1  2  3\n",
      "2  2  3  4\n",
      "3  2  3  4\n"
     ]
    }
   ],
   "source": [
    "list1 = [[1, 2, 3], [1, 2, 3], [2, 3, 4], [2, 3, 4]]\n",
    "b = pd.DataFrame(list1)\n",
    "print(b)\n",
    "print('-' * 30)\n",
    "print(b.duplicated())  # 当一整行的元素和其他行的元素全相同时才判断为True\n",
    "print('-' * 30)\n",
    "print(b.drop_duplicates())"
   ],
   "metadata": {
    "collapsed": false,
    "pycharm": {
     "name": "#%%\n"
    }
   }
  },
  {
   "cell_type": "code",
   "execution_count": 57,
   "outputs": [
    {
     "name": "stdout",
     "output_type": "stream",
     "text": [
      "   0    1    2\n",
      "0  1    2  100\n",
      "1  1    2  100\n",
      "2  2  100    4\n",
      "3  2  100    4\n",
      "------------------------------\n",
      "     0    1  2\n",
      "0  100  200  3\n",
      "1  100  200  3\n",
      "2  200    3  4\n",
      "3  200    3  4\n"
     ]
    }
   ],
   "source": [
    "print(b.replace(3, 100))\n",
    "print('-' * 30)\n",
    "print(b.replace([1, 2], [100, 200]))"
   ],
   "metadata": {
    "collapsed": false,
    "pycharm": {
     "name": "#%%\n"
    }
   }
  }
 ],
 "metadata": {
  "kernelspec": {
   "display_name": "Python 3",
   "language": "python",
   "name": "python3"
  },
  "language_info": {
   "codemirror_mode": {
    "name": "ipython",
    "version": 2
   },
   "file_extension": ".py",
   "mimetype": "text/x-python",
   "name": "python",
   "nbconvert_exporter": "python",
   "pygments_lexer": "ipython2",
   "version": "2.7.6"
  }
 },
 "nbformat": 4,
 "nbformat_minor": 0
}