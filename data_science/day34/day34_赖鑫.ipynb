{
 "cells": [
  {
   "cell_type": "code",
   "execution_count": 2,
   "metadata": {
    "collapsed": false,
    "jupyter": {
     "outputs_hidden": false
    },
    "pycharm": {
     "name": "#%%\n"
    }
   },
   "outputs": [
    {
     "name": "stdout",
     "output_type": "stream",
     "text": [
      "[[ 0  1  2  3  4  5]\n",
      " [ 6  7  8  9 10 11]\n",
      " [12 13 14 15 16 17]\n",
      " [18 19 20 21 22 23]]\n"
     ]
    }
   ],
   "source": [
    "import numpy as np\n",
    "\n",
    "t1 = np.arange(24).reshape((4, 6))\n",
    "print(t1)"
   ]
  },
  {
   "cell_type": "code",
   "execution_count": 9,
   "metadata": {
    "collapsed": false,
    "jupyter": {
     "outputs_hidden": false
    },
    "pycharm": {
     "name": "#%%\n"
    }
   },
   "outputs": [
    {
     "name": "stdout",
     "output_type": "stream",
     "text": [
      "[0 1 2 3 4 5]\n"
     ]
    }
   ],
   "source": [
    "t2 = np.arange(0, 6)\n",
    "print(t2)"
   ]
  },
  {
   "cell_type": "code",
   "execution_count": 10,
   "metadata": {
    "collapsed": false,
    "jupyter": {
     "outputs_hidden": false
    },
    "pycharm": {
     "name": "#%%\n"
    }
   },
   "outputs": [
    {
     "name": "stdout",
     "output_type": "stream",
     "text": [
      "[[ 0  2  4  6  8 10]\n",
      " [ 6  8 10 12 14 16]\n",
      " [12 14 16 18 20 22]\n",
      " [18 20 22 24 26 28]]\n"
     ]
    }
   ],
   "source": [
    "print(t1 + t2)"
   ]
  },
  {
   "cell_type": "markdown",
   "metadata": {
    "pycharm": {
     "name": "#%% md\n"
    }
   },
   "source": [
    "ndarry的轴，最外层的[]表示最小的轴，即0轴， 最里面的轴表示是最大的轴"
   ]
  },
  {
   "cell_type": "code",
   "execution_count": 20,
   "metadata": {
    "collapsed": false,
    "jupyter": {
     "outputs_hidden": false
    },
    "pycharm": {
     "name": "#%%\n"
    }
   },
   "outputs": [
    {
     "name": "stdout",
     "output_type": "stream",
     "text": [
      "[[1 2 3]\n",
      " [4 5 6]]\n",
      "[ 6 15]\n",
      "[5 7 9]\n",
      "21\n"
     ]
    }
   ],
   "source": [
    "a = np.array([[1, 2, 3], [4, 5, 6]])\n",
    "print(a)\n",
    "print(np.sum(a, axis=1))\n",
    "print(sum(a))\n",
    "print(np.sum(a))"
   ]
  },
  {
   "cell_type": "code",
   "execution_count": 29,
   "metadata": {
    "collapsed": false,
    "jupyter": {
     "outputs_hidden": false
    },
    "pycharm": {
     "name": "#%%\n"
    }
   },
   "outputs": [
    {
     "name": "stdout",
     "output_type": "stream",
     "text": [
      "[[ 0  1  2  3  4  5]\n",
      " [ 6  7  8  9 10 11]\n",
      " [12 13 14 15 16 17]\n",
      " [18 19 20 21 22 23]]\n",
      "1*1*1*1*1*1*1*1*1*1*1*1*1*1*1*1*1*1*1*1*\n",
      "[ 6  7  8  9 10 11]\n",
      "2*2*2*2*2*2*2*2*2*2*2*2*2*2*2*2*2*2*2*2*\n",
      "[[ 6  7  8  9 10 11]\n",
      " [12 13 14 15 16 17]\n",
      " [18 19 20 21 22 23]]\n",
      "[[ 0  1  2  3  4  5]\n",
      " [12 13 14 15 16 17]\n",
      " [18 19 20 21 22 23]]\n"
     ]
    }
   ],
   "source": [
    "t1 = np.arange(24).reshape(4, 6)\n",
    "print(t1)\n",
    "print('1*' * 20)\n",
    "print(t1[1])  #1取第一行\n",
    "print('2*' * 20)\n",
    "print(t1[1:])  # 取连续的多行\n",
    "print(t1[[0, 2, 3]])  # 取不连续的多行，要加两层中括号[]"
   ]
  },
  {
   "cell_type": "code",
   "execution_count": 34,
   "metadata": {
    "collapsed": false,
    "jupyter": {
     "outputs_hidden": false
    },
    "pycharm": {
     "name": "#%%\n"
    }
   },
   "outputs": [
    {
     "name": "stdout",
     "output_type": "stream",
     "text": [
      "[[ 0  1  2  3  4  5]\n",
      " [ 6  7  8  9 10 11]\n",
      " [12 13 14 15 16 17]\n",
      " [18 19 20 21 22 23]]\n",
      "[ 1  7 13 19]\n",
      "1*1*1*1*1*1*1*1*1*1*1*1*1*1*1*1*1*1*1*1*\n",
      "[[ 1  2  3  4  5]\n",
      " [ 7  8  9 10 11]\n",
      " [13 14 15 16 17]\n",
      " [19 20 21 22 23]]\n",
      "2*2*2*2*2*2*2*2*2*2*2*2*2*2*2*2*2*2*2*2*\n",
      "[[ 0  2  3]\n",
      " [ 6  8  9]\n",
      " [12 14 15]\n",
      " [18 20 21]]\n"
     ]
    }
   ],
   "source": [
    "print(t1)\n",
    "print(t1[:, 1])  # 取第一列,取列的时候要在前面加逗号,\n",
    "print('1*' * 20)\n",
    "print(t1[:, 1:])  # 取连续的多列\n",
    "print('2*' * 20)\n",
    "print(t1[:, [0, 2, 3]])  # 取不连续的多列，要再加一层中括号[]"
   ]
  },
  {
   "cell_type": "code",
   "execution_count": 38,
   "metadata": {
    "collapsed": false,
    "jupyter": {
     "outputs_hidden": false
    },
    "pycharm": {
     "name": "#%%\n"
    }
   },
   "outputs": [
    {
     "name": "stdout",
     "output_type": "stream",
     "text": [
      "[[ 8  9]\n",
      " [14 15]]\n"
     ]
    }
   ],
   "source": [
    "print(t1[1:3, 2:4])  # 取中间的某一块连续元素，逗号前面表示行，逗号后面表示列"
   ]
  },
  {
   "cell_type": "code",
   "execution_count": 48,
   "metadata": {
    "collapsed": false,
    "jupyter": {
     "outputs_hidden": false
    },
    "pycharm": {
     "name": "#%%\n"
    }
   },
   "outputs": [
    {
     "name": "stdout",
     "output_type": "stream",
     "text": [
      "[[ 0  1  2  3  4  5]\n",
      " [ 6  7  8  9 10 11]\n",
      " [12 13 14 15 16 17]\n",
      " [18 19 20 21 22 23]]\n",
      "[ 0  5 18 23]\n",
      "[ 7  9 16]\n"
     ]
    }
   ],
   "source": [
    "print(t1)\n",
    "print(t1[[0, 0, 3, 3], [0, 5, 0, 5]])  # 挑出不连续的数，逗号之前表示行，依次对应逗号之后列\n",
    "print(t1[[1, 1, 2], [1, 3, 4]])  #一次性挑出多个元素"
   ]
  },
  {
   "cell_type": "markdown",
   "metadata": {
    "pycharm": {
     "name": "#%% md\n"
    }
   },
   "source": [
    "修改数组中的值"
   ]
  },
  {
   "cell_type": "code",
   "execution_count": 59,
   "metadata": {
    "collapsed": false,
    "jupyter": {
     "outputs_hidden": false
    },
    "pycharm": {
     "name": "#%%\n"
    }
   },
   "outputs": [
    {
     "name": "stdout",
     "output_type": "stream",
     "text": [
      "[[ 0  1  2  3  4  5]\n",
      " [ 6  7  8  9 10 11]\n",
      " [12 13 14 15 16 17]\n",
      " [18 19 20 21 22 23]]\n",
      "[[0 1 2 3 4 5]\n",
      " [0 0 0 0 0 0]\n",
      " [0 0 0 0 0 0]\n",
      " [0 0 0 0 0 0]]\n",
      "1*1*1*1*1*1*1*1*1*1*1*1*1*1*1*1*1*1*1*1*\n",
      "[[0 1 2 3 4 5]\n",
      " [2 2 2 2 2 2]\n",
      " [0 0 0 0 0 0]\n",
      " [0 0 0 0 0 0]]\n",
      "2*2*2*2*2*2*2*2*2*2*2*2*2*2*2*2*2*2*2*2*\n",
      "[[0 1 2 3 4 5]\n",
      " [2 2 2 2 2 2]\n",
      " [0 0 3 0 0 0]\n",
      " [0 0 0 0 0 0]]\n"
     ]
    }
   ],
   "source": [
    "t = np.arange(24).reshape(4, 6)\n",
    "print(t)\n",
    "t[1:] = 0  # 把第1行之后的所有行值都改为0\n",
    "print(t)\n",
    "print('1*' * 20)\n",
    "t[1, :] = 2  # 只把第1行改为2，表示第1行的所有列都改为2\n",
    "print(t)\n",
    "print('2*' * 20)\n",
    "t[2, 2:3] = 3  # 第2行的第2个元素都改为3\n",
    "print(t)"
   ]
  },
  {
   "cell_type": "code",
   "execution_count": 62,
   "metadata": {
    "collapsed": false,
    "jupyter": {
     "outputs_hidden": false
    },
    "pycharm": {
     "name": "#%%\n"
    }
   },
   "outputs": [
    {
     "name": "stdout",
     "output_type": "stream",
     "text": [
      "[[ 0  1  2  3  4  5]\n",
      " [ 6  7  8  9 10 11]\n",
      " [12 13 14 15 16 17]\n",
      " [18 19 20 21 22 23]]\n",
      "1*1*1*1*1*1*1*1*1*1*1*1*1*1*1*1*1*1*1*1*1*1*1*1*1*1*1*1*1*1*\n",
      "[[ 0  1  0  3  4  5]\n",
      " [ 6  7  0  9 10 11]\n",
      " [12 13  0 15 16 17]\n",
      " [18 19  0 21 22 23]]\n",
      "2*2*2*2*2*2*2*2*2*2*2*2*2*2*2*2*2*2*2*2*2*2*2*2*2*2*2*2*2*2*\n",
      "[[ 0  1  3  3  3  3]\n",
      " [ 6  7  3  3  3  3]\n",
      " [12 13  3  3  3  3]\n",
      " [18 19  3  3  3  3]]\n"
     ]
    }
   ],
   "source": [
    "t = np.arange(24).reshape(4, 6)\n",
    "print(t)\n",
    "print('1*' * 30)\n",
    "t[:, 2] = 0  # 第2列的所有行都改为0，即只有第二列改为0\n",
    "print(t)\n",
    "print('2*' * 30)\n",
    "t[:, 2:] = 3  # 把第2列到之后所有列都改为3\n",
    "print(t)"
   ]
  },
  {
   "cell_type": "code",
   "execution_count": 65,
   "metadata": {
    "collapsed": false,
    "jupyter": {
     "outputs_hidden": false
    },
    "pycharm": {
     "name": "#%%\n"
    }
   },
   "outputs": [
    {
     "name": "stdout",
     "output_type": "stream",
     "text": [
      "[[ 0  1  2  3  4  5]\n",
      " [ 6  7  8  9 10 11]\n",
      " [12 13 14 15 16 17]\n",
      " [18 19 20 21 22 23]]\n",
      "[[ 0  1  2  3  4  5]\n",
      " [ 6  7  3  9 10 11]\n",
      " [12 13 14 15 16 17]\n",
      " [18 19 20 21  3 23]]\n"
     ]
    }
   ],
   "source": [
    "t = np.arange(24).reshape(4, 6)\n",
    "print(t)\n",
    "t[[1, 3], [2, 4]] = 3\n",
    "print(t)"
   ]
  },
  {
   "cell_type": "markdown",
   "metadata": {
    "pycharm": {
     "name": "#%% md\n"
    }
   },
   "source": [
    "逻辑判断"
   ]
  },
  {
   "cell_type": "code",
   "execution_count": 71,
   "metadata": {
    "collapsed": false,
    "jupyter": {
     "outputs_hidden": false
    },
    "pycharm": {
     "name": "#%%\n"
    }
   },
   "outputs": [
    {
     "name": "stdout",
     "output_type": "stream",
     "text": [
      "[[ True  True  True  True  True  True]\n",
      " [ True  True  True  True False False]\n",
      " [False False False False False False]\n",
      " [False False False False False False]]\n",
      "[[ 0  0  0  0  0  0]\n",
      " [ 0  0  0  0 10 11]\n",
      " [12 13 14 15 16 17]\n",
      " [18 19 20 21 22 23]]\n"
     ]
    }
   ],
   "source": [
    "t = np.arange(24).reshape(4, 6)\n",
    "print(t < 10)  # 当t<10的时候就会被判定为True\n",
    "t[t < 10] = 0  # 当为True时，就会被修改\n",
    "print(t)"
   ]
  },
  {
   "cell_type": "code",
   "execution_count": 76,
   "metadata": {
    "collapsed": false,
    "jupyter": {
     "outputs_hidden": false
    },
    "pycharm": {
     "name": "#%%\n"
    }
   },
   "outputs": [
    {
     "name": "stdout",
     "output_type": "stream",
     "text": [
      "[[ 0  1  2  3  4  5]\n",
      " [ 6  7  8  9 10 11]\n",
      " [12 13 14 15 16 17]\n",
      " [18 19 20 21 22 23]]\n",
      "[[ 0  1  2  0  0  0]\n",
      " [ 6  7  8  9 10 11]\n",
      " [12 13 14 15 16 17]\n",
      " [18 19 20 21 22 23]]\n",
      "[[99 99  2 99 99 99]\n",
      " [ 6 99 99 99 99 99]\n",
      " [99 99 99 99 99 99]\n",
      " [99 99 99 99 99 99]]\n",
      "[[ 99  99 100  99  99  99]\n",
      " [100  99  99  99  99  99]\n",
      " [ 99  99  99  99  99  99]\n",
      " [ 99  99  99  99  99  99]]\n"
     ]
    }
   ],
   "source": [
    "t = np.arange(24).reshape(4, 6)\n",
    "print(t)\n",
    "t[(t > 2) & (t < 6)] = 0  # 与元算，当元素大于2并且小于6时就被修改\n",
    "print(t)\n",
    "t[(t < 2) | (t > 6)] = 99  # 当t小于2或者t大于6就被修改\n",
    "print(t)\n",
    "t[~(t > 6)] = 100  # t不大于6就被修改\n",
    "print(t)"
   ]
  },
  {
   "cell_type": "code",
   "execution_count": 78,
   "metadata": {
    "collapsed": false,
    "jupyter": {
     "outputs_hidden": false
    },
    "pycharm": {
     "name": "#%%\n"
    }
   },
   "outputs": [
    {
     "name": "stdout",
     "output_type": "stream",
     "text": [
      "[[ 0  1  2  3  4  5]\n",
      " [ 6  7  8  9 10 11]\n",
      " [12 13 14 15 16 17]\n",
      " [18 19 20 21 22 23]]\n",
      "[[10 10 10 10 10 10]\n",
      " [10 10 10 10 10 11]\n",
      " [12 13 14 15 15 15]\n",
      " [15 15 15 15 15 15]]\n"
     ]
    }
   ],
   "source": [
    "t = np.arange(24).reshape(4, 6)\n",
    "print(t)\n",
    "t = t.clip(10, 15)  # 当元素小于10都变成10，大于15的都变成15\n",
    "print(t)"
   ]
  },
  {
   "cell_type": "markdown",
   "metadata": {
    "pycharm": {
     "name": "#%% md\n"
    }
   },
   "source": [
    "三目运算符"
   ]
  },
  {
   "cell_type": "code",
   "execution_count": 81,
   "metadata": {
    "collapsed": false,
    "jupyter": {
     "outputs_hidden": false
    },
    "pycharm": {
     "name": "#%%\n"
    }
   },
   "outputs": [
    {
     "name": "stdout",
     "output_type": "stream",
     "text": [
      "[[1 2]\n",
      " [1 2]\n",
      " [2 1]]\n"
     ]
    }
   ],
   "source": [
    "score = np.array([[89, 78], [89, 67], [76, 89]])\n",
    "result = np.where(score > 80, 1, 2)  # 把元素大于80的都变成1，小于80的都变成2\n",
    "print(result)"
   ]
  },
  {
   "cell_type": "markdown",
   "metadata": {
    "pycharm": {
     "name": "#%% md\n"
    }
   },
   "source": [
    "numpy的增删查改"
   ]
  },
  {
   "cell_type": "code",
   "execution_count": 100,
   "metadata": {
    "collapsed": false,
    "jupyter": {
     "outputs_hidden": false
    },
    "pycharm": {
     "name": "#%%\n"
    }
   },
   "outputs": [
    {
     "name": "stdout",
     "output_type": "stream",
     "text": [
      "[[1 2 3]\n",
      " [4 5 6]]\n",
      "[ 1  2  3  4  5  6 10 11 12]\n",
      "********************\n",
      "[[ 1  2  3]\n",
      " [ 4  5  6]\n",
      " [10 11 12]]\n",
      "[[ 1  2  3 12 12]\n",
      " [ 4  5  6 22 33]]\n"
     ]
    }
   ],
   "source": [
    "#增加\n",
    "a = np.array([[1, 2, 3], [4, 5, 6]])\n",
    "print(a)\n",
    "b = np.append(a, [10, 11, 12])  # 当不指定轴的时候，会先展开成一维数组，并追加\n",
    "print(b)\n",
    "print('*' * 20)\n",
    "c = np.append(a, [[10, 11, 12]], axis=0)  # 当要指定轴的时候，维度要先一样\n",
    "print(c)\n",
    "d = np.append(a, [[12, 12], [22, 33]], axis=1)\n",
    "print(d)"
   ]
  },
  {
   "cell_type": "code",
   "execution_count": 109,
   "metadata": {
    "collapsed": false,
    "jupyter": {
     "outputs_hidden": false
    },
    "pycharm": {
     "name": "#%%\n"
    }
   },
   "outputs": [
    {
     "name": "stdout",
     "output_type": "stream",
     "text": [
      "[ 1  2  3 10 11  4  5  6]\n",
      "[[ 1  2  3]\n",
      " [10 10 10]\n",
      " [ 4  5  6]]\n",
      "[[ 1  2 10  3]\n",
      " [ 4  5 10  6]]\n"
     ]
    }
   ],
   "source": [
    "# 插入 如果未提供轴，数组将会被展开\n",
    "a = np.array([[1, 2, 3], [4, 5, 6]])\n",
    "b = np.insert(a, 3, [10, 11])\n",
    "print(b)\n",
    "c = np.insert(a, 1, [10, 11, 12], axis=0)  # 指定第0轴，元素个数要与第1轴个数相同\n",
    "print(c)\n",
    "d = np.insert(a, 2, [10], axis=1)  #如果只传入了一个值，将会沿着轴被广播\n",
    "print(d)"
   ]
  },
  {
   "cell_type": "code",
   "execution_count": 115,
   "metadata": {
    "collapsed": false,
    "jupyter": {
     "outputs_hidden": false
    },
    "pycharm": {
     "name": "#%%\n"
    }
   },
   "outputs": [
    {
     "name": "stdout",
     "output_type": "stream",
     "text": [
      "[1 3 4 5 6]\n",
      "********************\n",
      "[[4 5 6]]\n",
      "********************\n",
      "[[1 3]\n",
      " [4 6]]\n"
     ]
    }
   ],
   "source": [
    "# 删除 未指定轴数，在删除之前会先展开\n",
    "a = np.array([[1, 2, 3], [4, 5, 6]])\n",
    "b = np.delete(a, 1)  # 先展开数组，然后再按索引值删除元素\n",
    "print(b)\n",
    "print('*' * 20)\n",
    "c = np.delete(a, 0, axis=0)  # 删除第一行\n",
    "print(c)\n",
    "print('*' * 20)\n",
    "d = np.delete(a, 1, axis=1)  # 删除第一列\n",
    "print(d)"
   ]
  },
  {
   "cell_type": "markdown",
   "metadata": {
    "pycharm": {
     "name": "#%% md\n"
    }
   },
   "source": [
    "数组去重"
   ]
  },
  {
   "cell_type": "code",
   "execution_count": 127,
   "metadata": {
    "collapsed": false,
    "jupyter": {
     "outputs_hidden": false
    },
    "pycharm": {
     "name": "#%%\n"
    }
   },
   "outputs": [
    {
     "name": "stdout",
     "output_type": "stream",
     "text": [
      "[2 5 6 7 8 9]\n",
      "2*2*2*2*2*2*2*2*2*2*2*2*2*2*2*2*2*2*2*2*\n",
      "[1 0 2 4 7 9]\n",
      "[1 0 2 0 3 1 2 4 0 5]\n",
      "[3 2 2 1 1 1]\n"
     ]
    }
   ],
   "source": [
    "a = np.array([5, 2, 6, 2, 7, 5, 6, 8, 2, 9])\n",
    "b = np.unique(a)  # 元素去重并且排好序了\n",
    "print(b)\n",
    "print('2*' * 20)\n",
    "c, indices = np.unique(a, return_index=True)  # 返回去重之后新列表在旧列表中的下标\n",
    "print(indices)\n",
    "d, indices = np.unique(a, return_inverse=True)  # 返回旧列表在新列表中的下标\n",
    "print(indices)\n",
    "e, indices = np.unique(a, return_counts=True)  # 返回去重元素在旧列表中的数量\n",
    "print(indices)"
   ]
  },
  {
   "cell_type": "markdown",
   "metadata": {
    "pycharm": {
     "name": "#%% md\n"
    }
   },
   "source": [
    "numpy计算"
   ]
  },
  {
   "cell_type": "code",
   "execution_count": 4,
   "metadata": {
    "collapsed": false,
    "jupyter": {
     "outputs_hidden": false
    },
    "pycharm": {
     "name": "#%%\n"
    }
   },
   "outputs": [
    {
     "name": "stdout",
     "output_type": "stream",
     "text": [
      "[[89 78]\n",
      " [89 67]\n",
      " [78 90]]\n",
      "90\n",
      "********************\n",
      "[89 90]\n",
      "67\n",
      "[78 67]\n",
      "********************\n",
      "[[ 89  78]\n",
      " [178 145]\n",
      " [256 235]]\n"
     ]
    }
   ],
   "source": [
    "a = np.array([[89, 78], [89, 67], [78, 90]])\n",
    "print(a)\n",
    "b = np.max(a)  # 所有元素的最大值\n",
    "print(b)\n",
    "print('*' * 20)\n",
    "c = np.max(a, axis=0)  # 查找第0轴的最大值，因为是两列，所以返回两个值\n",
    "print(c)\n",
    "d = np.min(a)  # 所有元素的最小值\n",
    "print(d)\n",
    "e = np.min(a, axis=0)  # 查找第0轴的最小值\n",
    "print(e)\n",
    "print('*' * 20)\n",
    "f = a.cumsum(0)  # 前缀想加，按照第0轴依次加到下个数组上\n",
    "print(f)"
   ]
  },
  {
   "cell_type": "code",
   "execution_count": 9,
   "metadata": {
    "collapsed": false,
    "jupyter": {
     "outputs_hidden": false
    },
    "pycharm": {
     "name": "#%%\n"
    }
   },
   "outputs": [
    {
     "name": "stdout",
     "output_type": "stream",
     "text": [
      "[[89 80]\n",
      " [89 80]\n",
      " [80 90]]\n",
      "[[70 70]\n",
      " [70 67]\n",
      " [70 70]]\n",
      "********************\n",
      "[[89 80]\n",
      " [89 80]\n",
      " [78 90]]\n",
      "81.83333333333333\n",
      "3\n",
      "[2 1]\n"
     ]
    }
   ],
   "source": [
    "a = np.array([[89, 78], [89, 67], [78, 90]])\n",
    "b = np.maximum(a, 80)  # 让a的每个元素与80相比，返回最大值\n",
    "print(b)\n",
    "c = np.minimum(a, 70)  # 让a的每个元素与70相比，返回最小值\n",
    "print(c)\n",
    "print('*' * 20)\n",
    "d = np.maximum(a, [78, 80])  # 与一维数组相比，一维数组会自动广播\n",
    "print(d)\n",
    "e = np.mean(a)  # 求所有元素的平均值\n",
    "print(e)\n",
    "f = np.argmin(a)  # 求最小值元素的索引，没有设置轴的时候要先展开\n",
    "print(f)\n",
    "g = np.argmin(a, axis=1)  #按照第一轴的方向进行比较，返回最小值的索引\n",
    "print(g)"
   ]
  },
  {
   "cell_type": "markdown",
   "source": [
    "求标准差和方差等"
   ],
   "metadata": {
    "collapsed": false,
    "pycharm": {
     "name": "#%% md\n"
    }
   }
  },
  {
   "cell_type": "code",
   "execution_count": 16,
   "metadata": {
    "collapsed": false,
    "jupyter": {
     "outputs_hidden": false
    },
    "pycharm": {
     "name": "#%%\n"
    }
   },
   "outputs": [
    {
     "name": "stdout",
     "output_type": "stream",
     "text": [
      "[5.18544973 9.39266854]\n",
      "********************\n",
      "[11 22 12]\n",
      "[26.88888889 88.22222222]\n"
     ]
    }
   ],
   "source": [
    "a = np.array([[89, 78], [89, 67], [78, 90]])\n",
    "b = np.std(a, axis=0)  # 沿着第0轴的方向进行计算\n",
    "print(b)\n",
    "print('*' * 20)\n",
    "c = np.ptp(a, axis=1)  # 沿着第1轴的方向计算极值\n",
    "print(c)\n",
    "d = np.var(a, axis=0)  # 沿着第0轴方向计算方差\n",
    "print(d)"
   ]
  },
  {
   "cell_type": "markdown",
   "source": [
    "数组的拼接"
   ],
   "metadata": {
    "collapsed": false,
    "pycharm": {
     "name": "#%% md\n"
    }
   }
  },
  {
   "cell_type": "code",
   "execution_count": 42,
   "outputs": [
    {
     "name": "stdout",
     "output_type": "stream",
     "text": [
      "[[89 78]\n",
      " [89 67]\n",
      " [78 90]]\n",
      "********************\n",
      "[[23 45]\n",
      " [56 67]\n",
      " [12 68]]\n",
      "********************\n",
      "[[89 78]\n",
      " [89 67]\n",
      " [78 90]\n",
      " [23 45]\n",
      " [56 67]\n",
      " [12 68]]\n",
      "********************\n",
      "[[89 78 23 45]\n",
      " [89 67 56 67]\n",
      " [78 90 12 68]]\n"
     ]
    }
   ],
   "source": [
    "a = np.array([[89, 78], [89, 67], [78, 90]])\n",
    "b = np.array([[23, 45], [56, 67], [12, 68]])\n",
    "print(a)\n",
    "print('*' * 20)\n",
    "print(b)\n",
    "print('*' * 20)\n",
    "c = np.concatenate((a, b))  # 默认按第0轴拼接\n",
    "print(c)\n",
    "print('*' * 20)\n",
    "d = np.concatenate((a, b), axis=1)  #按第1轴进行拼接\n",
    "print(d)"
   ],
   "metadata": {
    "collapsed": false,
    "pycharm": {
     "name": "#%%\n"
    }
   }
  },
  {
   "cell_type": "code",
   "execution_count": 57,
   "outputs": [
    {
     "name": "stdout",
     "output_type": "stream",
     "text": [
      "(3, 2)\n",
      "(3, 2)\n",
      "[[[89 78]\n",
      "  [89 67]\n",
      "  [78 90]]\n",
      "\n",
      " [[23 45]\n",
      "  [56 67]\n",
      "  [12 68]]]\n",
      "********************\n",
      "[[[89 78]\n",
      "  [23 45]]\n",
      "\n",
      " [[89 67]\n",
      "  [56 67]]\n",
      "\n",
      " [[78 90]\n",
      "  [12 68]]]\n",
      "********************\n",
      "[[[89 23]\n",
      "  [78 45]]\n",
      "\n",
      " [[89 56]\n",
      "  [67 67]]\n",
      "\n",
      " [[78 12]\n",
      "  [90 68]]]\n"
     ]
    }
   ],
   "source": [
    "a = np.array([[89, 78], [89, 67], [78, 90]])\n",
    "b = np.array([[23, 45], [56, 67], [12, 68]])\n",
    "print(a.shape)  # (3,2)\n",
    "print(b.shape)  # (3,2)\n",
    "c = np.stack((a, b), axis=0)  # 默认按第0轴进行堆叠，堆叠过程中会自动增加1维度 （2,3,2）\n",
    "print(c)\n",
    "print('*' * 20)\n",
    "d = np.stack((a, b), axis=1)  # (3,2,2)\n",
    "print(d)\n",
    "print('*' * 20)\n",
    "e = np.stack((a, b), axis=2)  # (3,2,2)\n",
    "print(e)"
   ],
   "metadata": {
    "collapsed": false,
    "pycharm": {
     "name": "#%%\n"
    }
   }
  },
  {
   "cell_type": "markdown",
   "source": [
    "数组的分割"
   ],
   "metadata": {
    "collapsed": false,
    "pycharm": {
     "name": "#%% md\n"
    }
   }
  },
  {
   "cell_type": "code",
   "execution_count": 66,
   "outputs": [
    {
     "name": "stdout",
     "output_type": "stream",
     "text": [
      "[[0 1 2]\n",
      " [3 4 5]\n",
      " [6 7 8]]\n",
      "[array([[0, 1, 2]]), array([[3, 4, 5]]), array([[6, 7, 8]])]\n",
      "[array([[0],\n",
      "       [3],\n",
      "       [6]]), array([[1],\n",
      "       [4],\n",
      "       [7]]), array([[2],\n",
      "       [5],\n",
      "       [8]])]\n"
     ]
    }
   ],
   "source": [
    "a = np.arange(9).reshape(3, 3)\n",
    "print(a)\n",
    "b = np.split(a, 3)  # 默认按第0轴切开\n",
    "print(b)\n",
    "c = np.split(a, 3, axis=1)\n",
    "print(c)"
   ],
   "metadata": {
    "collapsed": false,
    "pycharm": {
     "name": "#%%\n"
    }
   }
  },
  {
   "cell_type": "code",
   "execution_count": 71,
   "outputs": [
    {
     "name": "stdout",
     "output_type": "stream",
     "text": [
      "[[ 0  1  2  3  4  5]\n",
      " [ 6  7  8  9 10 11]]\n",
      "********************\n",
      "[array([[0, 1],\n",
      "       [6, 7]]), array([[2, 3],\n",
      "       [8, 9]]), array([[ 4,  5],\n",
      "       [10, 11]])]\n",
      "[array([[0, 1, 2, 3, 4, 5]]), array([[ 6,  7,  8,  9, 10, 11]])]\n"
     ]
    }
   ],
   "source": [
    "a = np.arange(12).reshape(2, 6)\n",
    "print(a)\n",
    "print('*' * 20)\n",
    "b = np.hsplit(a, 3)  # 等于split沿着第1轴进行切割\n",
    "print(b)\n",
    "c = np.vsplit(a, 2)  #等于split沿着第0轴进行切割\n",
    "print(c)"
   ],
   "metadata": {
    "collapsed": false,
    "pycharm": {
     "name": "#%%\n"
    }
   }
  },
  {
   "cell_type": "markdown",
   "source": [
    "nan和inf"
   ],
   "metadata": {
    "collapsed": false,
    "pycharm": {
     "name": "#%% md\n"
    }
   }
  },
  {
   "cell_type": "code",
   "execution_count": 72,
   "metadata": {
    "collapsed": false,
    "jupyter": {
     "outputs_hidden": false
    },
    "pycharm": {
     "name": "#%%\n"
    }
   },
   "outputs": [
    {
     "name": "stdout",
     "output_type": "stream",
     "text": [
      "[[ 0.  1.  2.  3.  4.  5.]\n",
      " [ 6.  7.  8.  9. 10. 11.]\n",
      " [12. 13. 14. 15. 16. 17.]\n",
      " [18. 19. 20. 21. nan 23.]]\n",
      "1\n"
     ]
    }
   ],
   "source": [
    "t = np.arange(24, dtype=float).reshape(4, 6)\n",
    "t[3, 4] = np.nan\n",
    "print(t)\n",
    "print(np.count_nonzero(t != t))  # 因为np.nan != np.nan所有能算出nan的个数 ,False==0，True==1"
   ]
  },
  {
   "cell_type": "code",
   "execution_count": 73,
   "metadata": {
    "collapsed": false,
    "jupyter": {
     "outputs_hidden": false
    },
    "pycharm": {
     "name": "#%%\n"
    }
   },
   "outputs": [
    {
     "name": "stdout",
     "output_type": "stream",
     "text": [
      "[[ 0.  1.  2.  3.  4.  5.]\n",
      " [ 6.  7.  8.  9. 10. 11.]\n",
      " [12. 13. 14. 15. 16. 17.]\n",
      " [18. 19. 20. 21. nan 23.]]\n",
      "[[False False False False False False]\n",
      " [False False False False False False]\n",
      " [False False False False False False]\n",
      " [False False False False  True False]]\n",
      "[[ 0.  1.  2.  3.  4.  5.]\n",
      " [ 6.  7.  8.  9. 10. 11.]\n",
      " [12. 13. 14. 15. 16. 17.]\n",
      " [18. 19. 20. 21.  0. 23.]]\n"
     ]
    }
   ],
   "source": [
    "print(np.isnan(t))  # 判断是否是nan，返回bool类型\n",
    "t[np.isnan(t)] = 0  # 把nan改为0\n",
    "print(t)"
   ]
  },
  {
   "cell_type": "code",
   "execution_count": 74,
   "metadata": {
    "collapsed": false,
    "jupyter": {
     "outputs_hidden": false
    },
    "pycharm": {
     "name": "#%%\n"
    }
   },
   "outputs": [
    {
     "name": "stdout",
     "output_type": "stream",
     "text": [
      "[[ 0.  1.  2.  3.  4.  5.]\n",
      " [ 6.  7.  8. nan nan nan]\n",
      " [12. 13. 14. 15. 16. 17.]\n",
      " [18. 19. 20. 21. 22. 23.]]\n",
      "[[ 0.  1.  2.  3.  4.  5.]\n",
      " [ 6.  7.  8. 13. 14. 15.]\n",
      " [12. 13. 14. 15. 16. 17.]\n",
      " [18. 19. 20. 21. 22. 23.]]\n"
     ]
    }
   ],
   "source": [
    "t = np.arange(24, dtype=float).reshape(4, 6)\n",
    "t[1, 3:] = np.nan  # 将第一行从第三列开始都换成nan\n",
    "print(t)\n",
    "for i in range(t.shape[1]):  # 遍历每一列shape[0]表示行，shape[1]表示列\n",
    "    temp_col = t[:, i]  # 表示第i列\n",
    "    nan_num = np.count_nonzero(temp_col != temp_col)  # 查看第i列的nan个数\n",
    "    if nan_num != 0:\n",
    "        temp_col_not_nan = temp_col[temp_col == temp_col]  # 记录不是nan的数\n",
    "        temp_col[np.isnan(temp_col)] = np.mean(temp_col_not_nan)  # 把nan的值换为不是nan的数的平均值\n",
    "print(t)"
   ]
  },
  {
   "cell_type": "markdown",
   "source": [
    "数组的转置"
   ],
   "metadata": {
    "collapsed": false,
    "pycharm": {
     "name": "#%% md\n"
    }
   }
  },
  {
   "cell_type": "code",
   "execution_count": 78,
   "metadata": {
    "collapsed": false,
    "jupyter": {
     "outputs_hidden": false
    },
    "pycharm": {
     "name": "#%%\n"
    }
   },
   "outputs": [
    {
     "name": "stdout",
     "output_type": "stream",
     "text": [
      "[[0.11316401 0.77313782 0.62656345 0.66867296]\n",
      " [0.51888612 0.37468633 0.41780949 0.89839715]\n",
      " [0.11513786 0.17000819 0.98537894 0.86606891]]\n",
      "********************\n",
      "[[0.11316401 0.51888612 0.11513786]\n",
      " [0.77313782 0.37468633 0.17000819]\n",
      " [0.62656345 0.41780949 0.98537894]\n",
      " [0.66867296 0.89839715 0.86606891]]\n",
      "********************\n",
      "[[0.11316401 0.51888612 0.11513786]\n",
      " [0.77313782 0.37468633 0.17000819]\n",
      " [0.62656345 0.41780949 0.98537894]\n",
      " [0.66867296 0.89839715 0.86606891]]\n"
     ]
    }
   ],
   "source": [
    "a = np.random.random((3, 4))\n",
    "print(a)\n",
    "print('*' * 20)\n",
    "b = a.T  # 数组的转置\n",
    "print(b)\n",
    "print('*' * 20)\n",
    "c = np.transpose(a)\n",
    "print(c)"
   ]
  },
  {
   "cell_type": "code",
   "execution_count": 84,
   "metadata": {
    "collapsed": false,
    "jupyter": {
     "outputs_hidden": false
    },
    "pycharm": {
     "name": "#%%\n"
    }
   },
   "outputs": [
    {
     "name": "stdout",
     "output_type": "stream",
     "text": [
      "[[[ 0  1  2  3]\n",
      "  [ 4  5  6  7]\n",
      "  [ 8  9 10 11]]\n",
      "\n",
      " [[12 13 14 15]\n",
      "  [16 17 18 19]\n",
      "  [20 21 22 23]]]\n",
      "********************\n",
      "[[[ 0  1  2  3]\n",
      "  [12 13 14 15]]\n",
      "\n",
      " [[ 4  5  6  7]\n",
      "  [16 17 18 19]]\n",
      "\n",
      " [[ 8  9 10 11]\n",
      "  [20 21 22 23]]]\n",
      "********************\n",
      "[[[ 0 12]\n",
      "  [ 4 16]\n",
      "  [ 8 20]]\n",
      "\n",
      " [[ 1 13]\n",
      "  [ 5 17]\n",
      "  [ 9 21]]\n",
      "\n",
      " [[ 2 14]\n",
      "  [ 6 18]\n",
      "  [10 22]]\n",
      "\n",
      " [[ 3 15]\n",
      "  [ 7 19]\n",
      "  [11 23]]]\n"
     ]
    }
   ],
   "source": [
    "a = np.arange(24).reshape(2, 3, 4)\n",
    "print(a)\n",
    "print('*' * 20)\n",
    "b = a.swapaxes(0, 1)\n",
    "print(b)\n",
    "print('*' * 20)\n",
    "c = a.swapaxes(0, 2)\n",
    "print(c)"
   ]
  },
  {
   "cell_type": "markdown",
   "source": [
    "numpy读取数据"
   ],
   "metadata": {
    "collapsed": false,
    "pycharm": {
     "name": "#%% md\n"
    }
   }
  },
  {
   "cell_type": "code",
   "execution_count": 86,
   "metadata": {
    "collapsed": false,
    "jupyter": {
     "outputs_hidden": false
    },
    "pycharm": {
     "name": "#%%\n"
    }
   },
   "outputs": [
    {
     "name": "stdout",
     "output_type": "stream",
     "text": [
      "(1688, 4)\n",
      "(1600, 4)\n"
     ]
    }
   ],
   "source": [
    "us_file = './youtube_video_data/US_video_data_numbers.csv'\n",
    "uk_file = './youtube_video_data/GB_video_data_numbers.csv'\n",
    "a = np.loadtxt(us_file, delimiter=',', dtype='int')\n",
    "b = np.loadtxt(uk_file, delimiter=',', dtype='int')\n",
    "print(a.shape)\n",
    "print(b.shape)"
   ]
  },
  {
   "cell_type": "code",
   "execution_count": 87,
   "outputs": [],
   "source": [
    "import matplotlib.pyplot as plt"
   ],
   "metadata": {
    "collapsed": false,
    "pycharm": {
     "name": "#%%\n"
    }
   }
  },
  {
   "cell_type": "code",
   "execution_count": 92,
   "outputs": [
    {
     "name": "stdout",
     "output_type": "stream",
     "text": [
      "(1688,)\n"
     ]
    }
   ],
   "source": [
    "a_us = a[:, -1]  # 取最后一列，即评论总数\n",
    "print(a_us.shape)"
   ],
   "metadata": {
    "collapsed": false,
    "pycharm": {
     "name": "#%%\n"
    }
   }
  },
  {
   "cell_type": "code",
   "execution_count": 94,
   "outputs": [
    {
     "name": "stdout",
     "output_type": "stream",
     "text": [
      "58\n"
     ]
    }
   ],
   "source": [
    "distance = 10000\n",
    "group = (a_us.max() - a_us.min()) // distance  # 一共多少组\n",
    "print(group)"
   ],
   "metadata": {
    "collapsed": false,
    "pycharm": {
     "name": "#%%\n"
    }
   }
  },
  {
   "cell_type": "code",
   "execution_count": 95,
   "outputs": [
    {
     "data": {
      "text/plain": "<Figure size 1600x640 with 1 Axes>",
      "image/png": "[encoded data removed]"
     },
     "metadata": {
      "needs_background": "light"
     },
     "output_type": "display_data"
    }
   ],
   "source": [
    "plt.figure(figsize=(20, 8), dpi=80)\n",
    "plt.hist(a_us, group)\n",
    "plt.show()"
   ],
   "metadata": {
    "collapsed": false,
    "pycharm": {
     "name": "#%%\n"
    }
   }
  },
  {
   "cell_type": "markdown",
   "source": [
    "由于数据分布不均匀导致图像偏差很大，所以要对数据进行过滤，把占比极少的部分删掉"
   ],
   "metadata": {
    "collapsed": false,
    "pycharm": {
     "name": "#%% md\n"
    }
   }
  },
  {
   "cell_type": "code",
   "execution_count": 98,
   "outputs": [
    {
     "name": "stdout",
     "output_type": "stream",
     "text": [
      "(1373,)\n"
     ]
    },
    {
     "data": {
      "text/plain": "<Figure size 1600x640 with 1 Axes>",
      "image/png": "[encoded data removed]"
     },
     "metadata": {
      "needs_background": "light"
     },
     "output_type": "display_data"
    }
   ],
   "source": [
    "print(a_us.shape)\n",
    "a_us = a_us[a_us < 5000]  #只取前5000个元素，之后的都过滤掉\n",
    "distance = 50\n",
    "group = (a_us.max() - a_us.min()) // distance\n",
    "plt.figure(figsize=(20, 8), dpi=80)\n",
    "plt.hist(a_us, group)\n",
    "plt.show()  #现在就能从图中观察出趋势了"
   ],
   "metadata": {
    "collapsed": false,
    "pycharm": {
     "name": "#%%\n"
    }
   }
  },
  {
   "cell_type": "code",
   "execution_count": 108,
   "outputs": [
    {
     "name": "stdout",
     "output_type": "stream",
     "text": [
      "(1598,)\n",
      "(1598,)\n"
     ]
    },
    {
     "data": {
      "text/plain": "<Figure size 1600x640 with 1 Axes>",
      "image/png": "[encoded data removed]"
     },
     "metadata": {
      "needs_background": "light"
     },
     "output_type": "display_data"
    }
   ],
   "source": [
    "b = b[b[:, -1] <= 500000]\n",
    "a_uk_comment = b[:, -1]  # 获取英国youtube评论数\n",
    "print(a_uk_comment.shape)\n",
    "a_uk_like = b[:, 1]  # 英国YouTube喜欢数\n",
    "print(a_uk_like.shape)\n",
    "plt.figure(figsize=(20, 8), dpi=80)\n",
    "plt.scatter(a_uk_like, a_uk_comment)\n",
    "plt.show()"
   ],
   "metadata": {
    "collapsed": false,
    "pycharm": {
     "name": "#%%\n"
    }
   }
  },
  {
   "cell_type": "markdown",
   "source": [
    "numpy的copy"
   ],
   "metadata": {
    "collapsed": false,
    "pycharm": {
     "name": "#%% md\n"
    }
   }
  },
  {
   "cell_type": "code",
   "execution_count": 119,
   "outputs": [
    {
     "name": "stdout",
     "output_type": "stream",
     "text": [
      "[[ 9 65 61 71]\n",
      " [31 90 16 96]\n",
      " [86 66 48 17]]\n",
      "140372262266896\n",
      "140372262266896\n",
      "******************************\n",
      "140372262265840 140372262266896\n",
      "[[-1 65 61 71]\n",
      " [31 90 16 96]\n",
      " [86 66 48 17]]\n",
      "******************************\n",
      "140372241981680 140372262266896\n",
      "[[-1 65 61 71]\n",
      " [31 90 16 96]\n",
      " [86 66 48 17]]\n"
     ]
    }
   ],
   "source": [
    "a = np.random.randint(0, 99, (3, 4))\n",
    "print(a)\n",
    "b = a  # 同一个id，a，b会相互影响\n",
    "print(id(b))\n",
    "print(id(a))\n",
    "print('*' * 30)\n",
    "c = a[:]  #c是创建新的对象，所以id值不一样\n",
    "print(id(c), id(a))\n",
    "a[0][0] = -1\n",
    "print(c)  # a的值得改变会影响c的值得改变\n",
    "print('*' * 30)\n",
    "d = a.copy()\n",
    "print(id(d), id(a))  # id值不一样\n",
    "a[0][1] = -5\n",
    "print(d)  # 并没有因为a的改变而改变"
   ],
   "metadata": {
    "collapsed": false,
    "pycharm": {
     "name": "#%%\n"
    }
   }
  }
 ],
 "metadata": {
  "kernelspec": {
   "display_name": "Python 3 (ipykernel)",
   "language": "python",
   "name": "python3"
  },
  "language_info": {
   "codemirror_mode": {
    "name": "ipython",
    "version": 3
   },
   "file_extension": ".py",
   "mimetype": "text/x-python",
   "name": "python",
   "nbconvert_exporter": "python",
   "pygments_lexer": "ipython3",
   "version": "3.8.10"
  }
 },
 "nbformat": 4,
 "nbformat_minor": 4
}