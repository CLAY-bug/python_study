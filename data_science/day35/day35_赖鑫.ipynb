{
 "cells": [
  {
   "cell_type": "markdown",
   "source": [
    "### 1、熟练使用iloc"
   ],
   "metadata": {
    "collapsed": false,
    "pycharm": {
     "name": "#%% md\n"
    }
   }
  },
  {
   "cell_type": "code",
   "execution_count": 1,
   "metadata": {
    "collapsed": true,
    "pycharm": {
     "name": "#%%\n"
    }
   },
   "outputs": [],
   "source": [
    "import numpy as np\n",
    "import pandas as pd"
   ]
  },
  {
   "cell_type": "code",
   "execution_count": 14,
   "outputs": [
    {
     "name": "stdout",
     "output_type": "stream",
     "text": [
      "a    6\n",
      "b    0\n",
      "c    0\n",
      "d    6\n",
      "e    6\n",
      "Name: lx, dtype: int64\n",
      "0\n",
      "a    6\n",
      "b    0\n",
      "c    0\n",
      "d    6\n",
      "Name: lx, dtype: int64\n",
      "------------------------------\n",
      "6\n",
      "a    6\n",
      "b    0\n",
      "c    0\n",
      "Name: lx, dtype: int64\n"
     ]
    }
   ],
   "source": [
    "a = pd.Series(np.random.randint(10, size=5), index=['a', 'b', 'c', 'd', 'e'], name='lx')\n",
    "print(a)\n",
    "print(a.loc['b'])  # 通过索引名称获得值\n",
    "print(a.loc['a':'d'])  # 左闭右闭\n",
    "print('-' * 30)\n",
    "print(a.iloc[4])  # 通过索引号来获取值\n",
    "print(a.iloc[0:3])  # 左闭右开"
   ],
   "metadata": {
    "collapsed": false,
    "pycharm": {
     "name": "#%%\n"
    }
   }
  },
  {
   "cell_type": "code",
   "execution_count": 25,
   "outputs": [
    {
     "name": "stdout",
     "output_type": "stream",
     "text": [
      "    A   B   C   D   E\n",
      "a  57  25   7  45  44\n",
      "b  44  26  34  42  85\n",
      "c   2  31  79  71  24\n",
      "d   0   3  49  76  34\n",
      "A    57\n",
      "B    25\n",
      "C     7\n",
      "D    45\n",
      "E    44\n",
      "Name: a, dtype: int64\n",
      "    A   B   C   D   E\n",
      "a  57  25   7  45  44\n",
      "b  44  26  34  42  85\n",
      "c   2  31  79  71  24\n",
      "    A   B   C\n",
      "a  57  25   7\n",
      "b  44  26  34\n",
      "c   2  31  79\n",
      "------------------------------\n",
      "A     2\n",
      "B    31\n",
      "C    79\n",
      "D    71\n",
      "E    24\n",
      "Name: c, dtype: int64\n",
      "    A   B   C   D   E\n",
      "b  44  26  34  42  85\n",
      "c   2  31  79  71  24\n",
      "    C   D\n",
      "b  34  42\n",
      "c  79  71\n"
     ]
    }
   ],
   "source": [
    "a = pd.DataFrame(np.random.randint(0, 99, size=(4, 5)),\n",
    "                 index=['a', 'b', 'c', 'd'],\n",
    "                 columns=['A', 'B', 'C', 'D', 'E'])\n",
    "print(a)\n",
    "print(a.loc['a'])  # 通过行索引名称获取一行的数据\n",
    "print(a.loc['a':'c'])  # 左闭右闭获取多行数据\n",
    "print(a.loc['a':'c', 'A':'C'])  # 获取指定的行和列的数据\n",
    "print('-' * 30)\n",
    "print(a.iloc[2])  # 通过行索引获取一行的数据\n",
    "print(a.iloc[1:3])  # 左闭右开获取多行数据\n",
    "print(a.iloc[1:3, 2:4])  # 获取指定的行和列"
   ],
   "metadata": {
    "collapsed": false,
    "pycharm": {
     "name": "#%%\n"
    }
   }
  },
  {
   "cell_type": "markdown",
   "source": [
    "### 2、练习series和df的对齐操作\n",
    "### 5、掌握缺失数据处理方法"
   ],
   "metadata": {
    "collapsed": false,
    "pycharm": {
     "name": "#%% md\n"
    }
   }
  },
  {
   "cell_type": "code",
   "execution_count": 36,
   "outputs": [
    {
     "name": "stdout",
     "output_type": "stream",
     "text": [
      "0    6.0\n",
      "1    6.0\n",
      "2    8.0\n",
      "3    NaN\n",
      "4    NaN\n",
      "dtype: float64\n",
      "0    False\n",
      "1    False\n",
      "2    False\n",
      "3     True\n",
      "4     True\n",
      "dtype: bool\n",
      "0      6.0\n",
      "1      6.0\n",
      "2      8.0\n",
      "3    100.0\n",
      "4    100.0\n",
      "dtype: float64\n",
      "------------------------------\n",
      "0    6.0\n",
      "1    6.0\n",
      "2    8.0\n",
      "3    1.0\n",
      "4    8.0\n",
      "dtype: float64\n"
     ]
    }
   ],
   "source": [
    "a = pd.Series(np.random.randint(10, size=5))\n",
    "b = pd.Series([1, 2, 3, np.nan, np.nan])\n",
    "print(a + b)  # 任何数与nan相计算都得nan\n",
    "c = a + b\n",
    "print(c.isnull())  # 判断是否存在控制，返回bool类型\n",
    "print(c.fillna(100))  #如果有nan，就用元素来填充\n",
    "print('-' * 30)\n",
    "print(a.add(b, fill_value=1))  # 遇到为空的地方，就填入指定的值，然后再做运算"
   ],
   "metadata": {
    "collapsed": false,
    "pycharm": {
     "name": "#%%\n"
    }
   }
  },
  {
   "cell_type": "code",
   "execution_count": 39,
   "outputs": [
    {
     "name": "stdout",
     "output_type": "stream",
     "text": [
      "     0     1   2   3\n",
      "0  7.0  14.0 NaN NaN\n",
      "1  6.0   7.0 NaN NaN\n",
      "2  NaN   NaN NaN NaN\n",
      "      0    1     2     3\n",
      "0   1.0  2.0  -9.0  -4.0\n",
      "1   6.0  3.0  -6.0  -3.0\n",
      "2 -10.0 -5.0 -10.0 -10.0\n"
     ]
    }
   ],
   "source": [
    "a = pd.DataFrame(np.random.randint(0, 10, size=(3, 4)))\n",
    "b = pd.DataFrame(np.random.randint(0, 10, size=(2, 2)))\n",
    "print(a + b)  # 未对齐的数据自动填充nan\n",
    "print(a.sub(b, fill_value=10))  # 未对齐的数据先填充未特定值再做运算"
   ],
   "metadata": {
    "collapsed": false,
    "pycharm": {
     "name": "#%%\n"
    }
   }
  },
  {
   "cell_type": "markdown",
   "source": [
    "### 3、熟练使用apply和applymap"
   ],
   "metadata": {
    "collapsed": false,
    "pycharm": {
     "name": "#%% md\n"
    }
   }
  },
  {
   "cell_type": "code",
   "execution_count": 55,
   "outputs": [
    {
     "name": "stdout",
     "output_type": "stream",
     "text": [
      "0    2\n",
      "1    2\n",
      "2    0\n",
      "3    4\n",
      "4    5\n",
      "dtype: int64\n",
      "<class 'pandas.core.series.Series'>\n",
      "0     4\n",
      "1     4\n",
      "2     0\n",
      "3    16\n",
      "4    25\n",
      "dtype: int64\n"
     ]
    }
   ],
   "source": [
    "a = pd.Series(np.random.randint(10, size=5))\n",
    "print(a)\n",
    "print(type(a))\n",
    "print(a.apply(lambda x: x ** 2))  # 将a中的元素进行幂运算"
   ],
   "metadata": {
    "collapsed": false,
    "pycharm": {
     "name": "#%%\n"
    }
   }
  },
  {
   "cell_type": "code",
   "execution_count": 60,
   "outputs": [
    {
     "name": "stdout",
     "output_type": "stream",
     "text": [
      "   0  1  2  3\n",
      "0  5  4  9  9\n",
      "1  7  3  1  5\n",
      "2  9  8  1  8\n",
      "0    9\n",
      "1    8\n",
      "2    9\n",
      "3    9\n",
      "dtype: int64\n",
      "0    4\n",
      "1    1\n",
      "2    1\n",
      "dtype: int64\n",
      "------------------------------\n",
      "    0   1   2   3\n",
      "0  25  16  81  81\n",
      "1  49   9   1  25\n",
      "2  81  64   1  64\n"
     ]
    }
   ],
   "source": [
    "a = pd.DataFrame(np.random.randint(0, 10, size=(3, 4)))\n",
    "print(a)\n",
    "print(a.apply(lambda x: x.max()))  # 默认作用于轴0\n",
    "print((a.apply(lambda x: x.min(), axis=1)))  # 将函数应用于轴1上\n",
    "print('-' * 30)\n",
    "print(a.applymap(lambda x: x ** 2))  # 将函数作用于每个元素"
   ],
   "metadata": {
    "collapsed": false,
    "pycharm": {
     "name": "#%%\n"
    }
   }
  },
  {
   "cell_type": "markdown",
   "source": [
    "### 4、熟练对series和df进行按索引排序，按值排序"
   ],
   "metadata": {
    "collapsed": false,
    "pycharm": {
     "name": "#%% md\n"
    }
   }
  },
  {
   "cell_type": "code",
   "execution_count": 84,
   "outputs": [
    {
     "name": "stdout",
     "output_type": "stream",
     "text": [
      "a    9\n",
      "b    1\n",
      "d    9\n",
      "e    2\n",
      "c    3\n",
      "dtype: int64\n",
      "------------------------------\n",
      "b    1\n",
      "e    2\n",
      "c    3\n",
      "a    9\n",
      "d    9\n",
      "dtype: int64\n",
      "------------------------------\n",
      "a    9\n",
      "b    1\n",
      "c    3\n",
      "d    9\n",
      "e    2\n",
      "dtype: int64\n",
      "a    9\n",
      "b    1\n",
      "c    3\n",
      "d    9\n",
      "e    2\n",
      "dtype: int64\n"
     ]
    }
   ],
   "source": [
    "a = pd.Series(np.random.randint(10, size=5), index=['a', 'b', 'd', 'e', 'c'])\n",
    "print(a)\n",
    "print('-' * 30)\n",
    "print(a.sort_values())  # 按值排序\n",
    "print('-' * 30)\n",
    "print(a.sort_index())  # 按索引大小排序\n",
    "a.sort_index(inplace=True)  # 原地改变了Series的顺序\n",
    "print(a)"
   ],
   "metadata": {
    "collapsed": false,
    "pycharm": {
     "name": "#%%\n"
    }
   }
  },
  {
   "cell_type": "code",
   "execution_count": 105,
   "outputs": [
    {
     "name": "stdout",
     "output_type": "stream",
     "text": [
      "   e  b  d  c\n",
      "A  2  3  3  3\n",
      "F  8  3  2  6\n",
      "B  4  0  9  2\n",
      "------------------------------\n",
      "   e  b  d  c\n",
      "A  2  3  3  3\n",
      "B  4  0  9  2\n",
      "F  8  3  2  6\n",
      "   e  b  d  c\n",
      "A  2  3  3  3\n",
      "B  4  0  9  2\n",
      "F  8  3  2  6\n",
      "----------------------------------------\n",
      "   e  b  d  c\n",
      "A  2  3  3  3\n",
      "F  8  3  2  6\n",
      "B  4  0  9  2\n",
      "--------------------------------------------------\n",
      "   b  c  d  e\n",
      "A  3  3  3  2\n",
      "F  3  6  2  8\n",
      "B  0  2  9  4\n"
     ]
    }
   ],
   "source": [
    "column1 = ['e', 'b', 'd', 'c']\n",
    "index1 = ['A', 'F', 'B']\n",
    "a = pd.DataFrame(np.random.randint(0, 10, size=(3, 4)), index=index1, columns=column1)\n",
    "print(a)\n",
    "print('-' * 30)\n",
    "print(a.sort_values(by=['e']))  # 按第e列排序,默认按照轴0进行排序\n",
    "print(a.sort_values(by=['e', 'c']))  #如果e列中有相同的值就按照c列排序\n",
    "print('-' * 40)\n",
    "print(a.sort_values(by=['A'], axis=1))  # 按照某一行进行排序\n",
    "print('-' * 50)\n",
    "print(a.sort_index(axis=1))  # 默认按照行索引，即轴0方向进行排序"
   ],
   "metadata": {
    "collapsed": false,
    "pycharm": {
     "name": "#%%\n"
    }
   }
  },
  {
   "cell_type": "markdown",
   "source": [
    "### 6、熟练使用series和df的层级索引，数据访问，stack和unstack"
   ],
   "metadata": {
    "collapsed": false,
    "pycharm": {
     "name": "#%% md\n"
    }
   }
  },
  {
   "cell_type": "code",
   "execution_count": 106,
   "outputs": [
    {
     "name": "stdout",
     "output_type": "stream",
     "text": [
      "[['a', 'b'], [1, 2, 3, 4, 5]]\n",
      "------------------------------\n",
      "a  1    5\n",
      "   2    1\n",
      "   3    7\n",
      "b  4    8\n",
      "   5    0\n",
      "dtype: int64\n",
      "------------------------------\n",
      "     1    2    3    4    5\n",
      "a  5.0  1.0  7.0  NaN  NaN\n",
      "b  NaN  NaN  NaN  8.0  0.0\n",
      "------------------------------\n",
      "a  1    5.0\n",
      "   2    1.0\n",
      "   3    7.0\n",
      "b  4    8.0\n",
      "   5    0.0\n",
      "dtype: float64\n",
      "------------------------------\n",
      "     a    b\n",
      "1  5.0  NaN\n",
      "2  1.0  NaN\n",
      "3  7.0  NaN\n",
      "4  NaN  8.0\n",
      "5  NaN  0.0\n"
     ]
    }
   ],
   "source": [
    "index1 = [['a', 'a', 'a', 'b', 'b'], [1, 2, 3, 4, 5]]\n",
    "a = pd.Series(np.random.randint(10, size=5), index=index1)  # 层级索引的长度一定要和Series长度一致\n",
    "print(a.index.levels)  # 索引级别从最外层依次增加，最外层为0层\n",
    "print('-' * 30)\n",
    "print(a)\n",
    "print('-' * 30)\n",
    "b = a.unstack()  # 默认将最内层的索引变成列索引 Series --> DataFrame\n",
    "print(b)\n",
    "print('-' * 30)\n",
    "c = b.stack()  # 将列索引变成最内层索引， DataFrame --> Series\n",
    "print(c)\n",
    "print('-' * 30)\n",
    "print(c.unstack(level=0))  # 将最外层索引变成列索引"
   ],
   "metadata": {
    "collapsed": false,
    "pycharm": {
     "name": "#%%\n"
    }
   }
  },
  {
   "cell_type": "code",
   "execution_count": 119,
   "outputs": [
    {
     "name": "stdout",
     "output_type": "stream",
     "text": [
      "a  1    5\n",
      "   2    1\n",
      "   3    7\n",
      "b  4    8\n",
      "   5    0\n",
      "dtype: int64\n",
      "--------------------\n",
      "1    5\n",
      "2    1\n",
      "3    7\n",
      "dtype: int64\n",
      "1\n",
      "------------------------------\n",
      "a    7\n",
      "dtype: int64\n"
     ]
    }
   ],
   "source": [
    "print(a)  # Series\n",
    "print('-' * 20)\n",
    "print(a['a'])  # 按照第0层索引进行取值\n",
    "print(a['a', 2])  #a代表第0层索引，2代表第1层索引，即具体某个值\n",
    "print('-' * 30)\n",
    "print(a[:, 3])  # 通过最内层索引来取值"
   ],
   "metadata": {
    "collapsed": false,
    "pycharm": {
     "name": "#%%\n"
    }
   }
  },
  {
   "cell_type": "markdown",
   "source": [
    "### 7、Pandas的统计和计算接口使用"
   ],
   "metadata": {
    "collapsed": false,
    "pycharm": {
     "name": "#%% md\n"
    }
   }
  },
  {
   "cell_type": "code",
   "execution_count": 131,
   "outputs": [
    {
     "name": "stdout",
     "output_type": "stream",
     "text": [
      "   e  b  d  c\n",
      "A  3  2  5  4\n",
      "F  2  1  2  0\n",
      "B  7  6  1  4\n",
      "--------------------\n",
      "e    12\n",
      "b     9\n",
      "d     8\n",
      "c     8\n",
      "dtype: int64\n",
      "------------------------------\n",
      "A    14\n",
      "F     5\n",
      "B    18\n",
      "dtype: int64\n"
     ]
    },
    {
     "data": {
      "text/plain": "              e         b         d         c\ncount  3.000000  3.000000  3.000000  3.000000\nmean   4.000000  3.000000  2.666667  2.666667\nstd    2.645751  2.645751  2.081666  2.309401\nmin    2.000000  1.000000  1.000000  0.000000\n25%    2.500000  1.500000  1.500000  2.000000\n50%    3.000000  2.000000  2.000000  4.000000\n75%    5.000000  4.000000  3.500000  4.000000\nmax    7.000000  6.000000  5.000000  4.000000",
      "text/html": "<div>\n<style scoped>\n    .dataframe tbody tr th:only-of-type {\n        vertical-align: middle;\n    }\n\n    .dataframe tbody tr th {\n        vertical-align: top;\n    }\n\n    .dataframe thead th {\n        text-align: right;\n    }\n</style>\n<table border=\"1\" class=\"dataframe\">\n  <thead>\n    <tr style=\"text-align: right;\">\n      <th></th>\n      <th>e</th>\n      <th>b</th>\n      <th>d</th>\n      <th>c</th>\n    </tr>\n  </thead>\n  <tbody>\n    <tr>\n      <th>count</th>\n      <td>3.000000</td>\n      <td>3.000000</td>\n      <td>3.000000</td>\n      <td>3.000000</td>\n    </tr>\n    <tr>\n      <th>mean</th>\n      <td>4.000000</td>\n      <td>3.000000</td>\n      <td>2.666667</td>\n      <td>2.666667</td>\n    </tr>\n    <tr>\n      <th>std</th>\n      <td>2.645751</td>\n      <td>2.645751</td>\n      <td>2.081666</td>\n      <td>2.309401</td>\n    </tr>\n    <tr>\n      <th>min</th>\n      <td>2.000000</td>\n      <td>1.000000</td>\n      <td>1.000000</td>\n      <td>0.000000</td>\n    </tr>\n    <tr>\n      <th>25%</th>\n      <td>2.500000</td>\n      <td>1.500000</td>\n      <td>1.500000</td>\n      <td>2.000000</td>\n    </tr>\n    <tr>\n      <th>50%</th>\n      <td>3.000000</td>\n      <td>2.000000</td>\n      <td>2.000000</td>\n      <td>4.000000</td>\n    </tr>\n    <tr>\n      <th>75%</th>\n      <td>5.000000</td>\n      <td>4.000000</td>\n      <td>3.500000</td>\n      <td>4.000000</td>\n    </tr>\n    <tr>\n      <th>max</th>\n      <td>7.000000</td>\n      <td>6.000000</td>\n      <td>5.000000</td>\n      <td>4.000000</td>\n    </tr>\n  </tbody>\n</table>\n</div>"
     },
     "execution_count": 131,
     "metadata": {},
     "output_type": "execute_result"
    }
   ],
   "source": [
    "column1 = ['e', 'b', 'd', 'c']\n",
    "index1 = ['A', 'F', 'B']\n",
    "a = pd.DataFrame(np.random.randint(0, 10, size=(3, 4)), index=index1, columns=column1)\n",
    "print(a)\n",
    "print('-' * 20)\n",
    "print(a.sum())  # 默认按照轴0方向求和\n",
    "print('-' * 30)\n",
    "print(a.sum(axis=1))  # 按照轴1方向求和\n",
    "a.describe()  # 统计count，mean，std，max等等"
   ],
   "metadata": {
    "collapsed": false,
    "pycharm": {
     "name": "#%%\n"
    }
   }
  }
 ],
 "metadata": {
  "kernelspec": {
   "display_name": "Python 3",
   "language": "python",
   "name": "python3"
  },
  "language_info": {
   "codemirror_mode": {
    "name": "ipython",
    "version": 2
   },
   "file_extension": ".py",
   "mimetype": "text/x-python",
   "name": "python",
   "nbconvert_exporter": "python",
   "pygments_lexer": "ipython2",
   "version": "2.7.6"
  }
 },
 "nbformat": 4,
 "nbformat_minor": 0
}