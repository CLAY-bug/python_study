{
 "cells": [
  {
   "cell_type": "code",
   "execution_count": 66,
   "outputs": [],
   "source": [
    "import pandas as pd\n",
    "from sklearn.feature_extraction import DictVectorizer\n",
    "from sklearn.model_selection import train_test_split,GridSearchCV\n",
    "from sklearn.tree import DecisionTreeClassifier,export_graphviz\n",
    "from sklearn.ensemble import RandomForestClassifier\n",
    "from sklearn.linear_model import LinearRegression,SGDRegressor,Ridge,LogisticRegression\n",
    "from sklearn.datasets import load_boston\n",
    "from sklearn.preprocessing import StandardScaler\n",
    "from sklearn.metrics import mean_squared_error,classification_report,roc_auc_score\n",
    "import joblib"
   ],
   "metadata": {
    "collapsed": false,
    "pycharm": {
     "name": "#%%\n"
    }
   }
  },
  {
   "cell_type": "markdown",
   "source": [
    "## 1.\t决策树练习并调参，从而提升准确率，随机森林练习，结合网格搜索调参，找到最佳参数模型"
   ],
   "metadata": {
    "collapsed": false,
    "pycharm": {
     "name": "#%% md\n"
    }
   }
  },
  {
   "cell_type": "code",
   "execution_count": 2,
   "metadata": {
    "collapsed": true,
    "pycharm": {
     "name": "#%%\n"
    }
   },
   "outputs": [],
   "source": [
    "# 获取数据\n",
    "data = pd.read_csv(\"../data/titanic.txt\")"
   ]
  },
  {
   "cell_type": "code",
   "execution_count": 5,
   "outputs": [
    {
     "name": "stdout",
     "output_type": "stream",
     "text": [
      "(1313, 11)\n",
      "   row.names pclass  survived  \\\n",
      "0          1    1st         1   \n",
      "1          2    1st         0   \n",
      "2          3    1st         0   \n",
      "3          4    1st         0   \n",
      "4          5    1st         1   \n",
      "\n",
      "                                              name      age     embarked  \\\n",
      "0                     Allen, Miss Elisabeth Walton  29.0000  Southampton   \n",
      "1                      Allison, Miss Helen Loraine   2.0000  Southampton   \n",
      "2              Allison, Mr Hudson Joshua Creighton  30.0000  Southampton   \n",
      "3  Allison, Mrs Hudson J.C. (Bessie Waldo Daniels)  25.0000  Southampton   \n",
      "4                    Allison, Master Hudson Trevor   0.9167  Southampton   \n",
      "\n",
      "                         home.dest room      ticket   boat     sex  \n",
      "0                     St Louis, MO  B-5  24160 L221      2  female  \n",
      "1  Montreal, PQ / Chesterville, ON  C26         NaN    NaN  female  \n",
      "2  Montreal, PQ / Chesterville, ON  C26         NaN  (135)    male  \n",
      "3  Montreal, PQ / Chesterville, ON  C26         NaN    NaN  female  \n",
      "4  Montreal, PQ / Chesterville, ON  C22         NaN     11    male  \n",
      "------------------------------\n",
      "0    B-5\n",
      "1    C26\n",
      "2    C26\n",
      "3    C26\n",
      "4    C22\n",
      "Name: room, dtype: object\n"
     ]
    }
   ],
   "source": [
    "# 查看数据信息，大致掌握数据格式\n",
    "print(data.shape)\n",
    "print(data.head())"
   ],
   "metadata": {
    "collapsed": false,
    "pycharm": {
     "name": "#%%\n"
    }
   }
  },
  {
   "cell_type": "code",
   "execution_count": 6,
   "outputs": [],
   "source": [
    "# 数据处理，找出有用的特征,和目标\n",
    "x = data[['pclass','age','sex']] # 特征包括阶级，年龄和性别\n",
    "y = data['survived']  # 目标是是否存活"
   ],
   "metadata": {
    "collapsed": false,
    "pycharm": {
     "name": "#%%\n"
    }
   }
  },
  {
   "cell_type": "code",
   "execution_count": 12,
   "outputs": [
    {
     "name": "stdout",
     "output_type": "stream",
     "text": [
      "<class 'pandas.core.frame.DataFrame'>\n",
      "RangeIndex: 1313 entries, 0 to 1312\n",
      "Data columns (total 3 columns):\n",
      " #   Column  Non-Null Count  Dtype  \n",
      "---  ------  --------------  -----  \n",
      " 0   pclass  1313 non-null   object \n",
      " 1   age     633 non-null    float64\n",
      " 2   sex     1313 non-null   object \n",
      "dtypes: float64(1), object(2)\n",
      "memory usage: 30.9+ KB\n",
      "None\n"
     ]
    }
   ],
   "source": [
    "print(x.info()) # 可以看出age的数量比其他两个少，说明存在空值"
   ],
   "metadata": {
    "collapsed": false,
    "pycharm": {
     "name": "#%%\n"
    }
   }
  },
  {
   "cell_type": "code",
   "execution_count": 13,
   "outputs": [
    {
     "name": "stdout",
     "output_type": "stream",
     "text": [
      "<class 'pandas.core.frame.DataFrame'>\n",
      "RangeIndex: 1313 entries, 0 to 1312\n",
      "Data columns (total 3 columns):\n",
      " #   Column  Non-Null Count  Dtype  \n",
      "---  ------  --------------  -----  \n",
      " 0   pclass  1313 non-null   object \n",
      " 1   age     1313 non-null   float64\n",
      " 2   sex     1313 non-null   object \n",
      "dtypes: float64(1), object(2)\n",
      "memory usage: 30.9+ KB\n",
      "None\n"
     ]
    },
    {
     "name": "stderr",
     "output_type": "stream",
     "text": [
      "/var/folders/76/hml58m8x523bl4kvx5v865vr0000gn/T/ipykernel_68049/1659025666.py:2: SettingWithCopyWarning: \n",
      "A value is trying to be set on a copy of a slice from a DataFrame\n",
      "\n",
      "See the caveats in the documentation: https://pandas.pydata.org/pandas-docs/stable/user_guide/indexing.html#returning-a-view-versus-a-copy\n",
      "  x.age.fillna(x.age.mean(),inplace=True)\n"
     ]
    }
   ],
   "source": [
    "# 对空值用均值进行替换\n",
    "x.age.fillna(x.age.mean(),inplace=True)\n",
    "print(x.info())  # 已经没有空值了"
   ],
   "metadata": {
    "collapsed": false,
    "pycharm": {
     "name": "#%%\n"
    }
   }
  },
  {
   "cell_type": "code",
   "execution_count": 15,
   "outputs": [
    {
     "name": "stdout",
     "output_type": "stream",
     "text": [
      "0       1\n",
      "1       0\n",
      "2       0\n",
      "3       0\n",
      "4       1\n",
      "       ..\n",
      "1308    0\n",
      "1309    0\n",
      "1310    0\n",
      "1311    0\n",
      "1312    0\n",
      "Name: survived, Length: 1313, dtype: int64\n"
     ]
    }
   ],
   "source": [
    "print(y)"
   ],
   "metadata": {
    "collapsed": false,
    "pycharm": {
     "name": "#%%\n"
    }
   }
  },
  {
   "cell_type": "code",
   "execution_count": 17,
   "outputs": [],
   "source": [
    "# 进行训练集和测试集的划分\n",
    "x_train,x_test,y_train,y_test = train_test_split(x,y,\n",
    "    test_size=0.25,random_state=2)"
   ],
   "metadata": {
    "collapsed": false,
    "pycharm": {
     "name": "#%%\n"
    }
   }
  },
  {
   "cell_type": "code",
   "execution_count": 21,
   "outputs": [
    {
     "name": "stdout",
     "output_type": "stream",
     "text": [
      "(984, 3)\n",
      "     pclass        age     sex\n",
      "884     3rd  31.194181  female\n",
      "944     3rd  31.194181    male\n",
      "967     3rd  31.194181  female\n",
      "1092    3rd  31.194181    male\n",
      "1199    3rd  31.194181    male\n",
      "------------------------------\n",
      "(984,)\n",
      "884     1\n",
      "944     1\n",
      "967     0\n",
      "1092    1\n",
      "1199    1\n",
      "Name: survived, dtype: int64\n",
      "------------------------------\n",
      "(329, 3)\n",
      "     pclass        age   sex\n",
      "811     3rd  31.194181  male\n",
      "681     3rd  40.000000  male\n",
      "757     3rd  17.000000  male\n",
      "1223    3rd  31.194181  male\n",
      "846     3rd  31.194181  male\n",
      "(329,)\n"
     ]
    }
   ],
   "source": [
    "# 查看数据集情况\n",
    "print(x_train.shape)\n",
    "print(x_train.head())\n",
    "print('-'* 30)\n",
    "print(y_train.shape)\n",
    "print(y_train.head())\n",
    "print('-' * 30)\n",
    "print(x_test.shape)\n",
    "print(x_test.head())\n",
    "print(y_test.shape)"
   ],
   "metadata": {
    "collapsed": false,
    "pycharm": {
     "name": "#%%\n"
    }
   }
  },
  {
   "cell_type": "code",
   "execution_count": 22,
   "outputs": [
    {
     "name": "stdout",
     "output_type": "stream",
     "text": [
      "<class 'list'>\n",
      "<class 'list'>\n"
     ]
    },
    {
     "name": "stderr",
     "output_type": "stream",
     "text": [
      "/var/folders/76/hml58m8x523bl4kvx5v865vr0000gn/T/ipykernel_68049/1893357029.py:5: FutureWarning: Using short name for 'orient' is deprecated. Only the options: ('dict', list, 'series', 'split', 'records', 'index') will be used in a future version. Use one of the above to silence this warning.\n",
      "  x_train = x_train.to_dict(orient='record')\n",
      "/var/folders/76/hml58m8x523bl4kvx5v865vr0000gn/T/ipykernel_68049/1893357029.py:6: FutureWarning: Using short name for 'orient' is deprecated. Only the options: ('dict', list, 'series', 'split', 'records', 'index') will be used in a future version. Use one of the above to silence this warning.\n",
      "  x_test = x_test.to_dict(orient='record')\n"
     ]
    }
   ],
   "source": [
    "# 机器学习只能处理数值型数据\n",
    "# 训练和测试集样本中存在着类别\n",
    "# 将类别用one-hot编码代替\n",
    "# orient = record表示转换转换成字典形式，字典用列表表示[{}]\n",
    "x_train = x_train.to_dict(orient='record')\n",
    "x_test = x_test.to_dict(orient='record')\n",
    "print(type(x_train))\n",
    "print(type(x_test))"
   ],
   "metadata": {
    "collapsed": false,
    "pycharm": {
     "name": "#%%\n"
    }
   }
  },
  {
   "cell_type": "code",
   "execution_count": 23,
   "outputs": [],
   "source": [
    "# 对字典特征进行提取\n",
    "transer = DictVectorizer(sparse=False)\n",
    "x_train = transer.fit_transform(x_train)\n",
    "x_test = transer.transform(x_test)"
   ],
   "metadata": {
    "collapsed": false,
    "pycharm": {
     "name": "#%%\n"
    }
   }
  },
  {
   "cell_type": "code",
   "execution_count": 25,
   "outputs": [
    {
     "name": "stdout",
     "output_type": "stream",
     "text": [
      "(984, 6)\n",
      "(329, 6)\n"
     ]
    }
   ],
   "source": [
    "print(x_train.shape)\n",
    "print(x_test.shape)"
   ],
   "metadata": {
    "collapsed": false,
    "pycharm": {
     "name": "#%%\n"
    }
   }
  },
  {
   "cell_type": "code",
   "execution_count": 73,
   "outputs": [
    {
     "name": "stdout",
     "output_type": "stream",
     "text": [
      "准确率为: 0.8328267477203647\n"
     ]
    }
   ],
   "source": [
    "# 利用决策树进行模型的训练与评估\n",
    "# decision_tree = DecisionTreeClassifier() # 准确率为: 0.7963525835866262\n",
    "# decision_tree = DecisionTreeClassifier(max_depth=10) # 准确率为: 0.8024316109422492\n",
    "# decision_tree = DecisionTreeClassifier(max_depth=9)  # 准确率为: 0.8115501519756839\n",
    "# decision_tree = DecisionTreeClassifier(max_depth=7)  # 准确率为: 0.817629179331307\n",
    "# decision_tree = DecisionTreeClassifier(max_depth=6)  # 准确率为: 0.8267477203647416\n",
    "decision_tree = DecisionTreeClassifier(max_depth=6,min_samples_leaf=5)  # 准确率为: 0.8328267477203647\n",
    "decision_tree.fit(x_train,y_train)\n",
    "score = decision_tree.score(x_test,y_test)\n",
    "print(f'准确率为: {score}')"
   ],
   "metadata": {
    "collapsed": false,
    "pycharm": {
     "name": "#%%\n"
    }
   }
  },
  {
   "cell_type": "code",
   "execution_count": 71,
   "outputs": [],
   "source": [
    "# 决策树可视化\n",
    "export_graphviz(decision_tree,out_file='tree1.dot',\n",
    "                feature_names=transer.get_feature_names_out())"
   ],
   "metadata": {
    "collapsed": false,
    "pycharm": {
     "name": "#%%\n"
    }
   }
  },
  {
   "cell_type": "markdown",
   "source": [
    "#### 随机森林"
   ],
   "metadata": {
    "collapsed": false,
    "pycharm": {
     "name": "#%% md\n"
    }
   }
  },
  {
   "cell_type": "code",
   "execution_count": 91,
   "outputs": [],
   "source": [
    "# 设置n_jobs可以利用多核\n",
    "random_forest = RandomForestClassifier(n_jobs=-1)\n",
    "# 设置超参数列表\n",
    "# params = {\"n_estimators\": [1500, 2000,2500,3000,3500],\n",
    "#           \"max_depth\": [3,5,6,9,15]} # 准确率为：0.8115501519756839\n",
    "params = {\"n_estimators\": [200, 5000,1000,2000,5000],\n",
    "          \"max_depth\": [2,3,5,6]}  # 准确率为：0.8115501519756839\n",
    "params = {\"n_estimators\": [1800, 2000,2200,2300],\n",
    "          \"max_depth\": [2,3,5,6,9],\n",
    "          \"min_samples_leaf\":[2,3,4,5,6]} # 准确率为：0.8115501519756839"
   ],
   "metadata": {
    "collapsed": false,
    "pycharm": {
     "name": "#%%\n"
    }
   }
  },
  {
   "cell_type": "code",
   "execution_count": 92,
   "outputs": [],
   "source": [
    "# 网格搜索与交叉验证\n",
    "grid = GridSearchCV(random_forest,param_grid=params,cv=3)"
   ],
   "metadata": {
    "collapsed": false,
    "pycharm": {
     "name": "#%%\n"
    }
   }
  },
  {
   "cell_type": "code",
   "execution_count": 93,
   "outputs": [
    {
     "data": {
      "text/plain": "GridSearchCV(cv=3, estimator=RandomForestClassifier(n_jobs=-1),\n             param_grid={'max_depth': [2, 3, 5, 6, 9],\n                         'min_samples_leaf': [2, 3, 4, 5, 6],\n                         'n_estimators': [1800, 2000, 2200, 2300]})",
      "text/html": "<style>#sk-container-id-3 {color: black;background-color: white;}#sk-container-id-3 pre{padding: 0;}#sk-container-id-3 div.sk-toggleable {background-color: white;}#sk-container-id-3 label.sk-toggleable__label {cursor: pointer;display: block;width: 100%;margin-bottom: 0;padding: 0.3em;box-sizing: border-box;text-align: center;}#sk-container-id-3 label.sk-toggleable__label-arrow:before {content: \"▸\";float: left;margin-right: 0.25em;color: #696969;}#sk-container-id-3 label.sk-toggleable__label-arrow:hover:before {color: black;}#sk-container-id-3 div.sk-estimator:hover label.sk-toggleable__label-arrow:before {color: black;}#sk-container-id-3 div.sk-toggleable__content {max-height: 0;max-width: 0;overflow: hidden;text-align: left;background-color: #f0f8ff;}#sk-container-id-3 div.sk-toggleable__content pre {margin: 0.2em;color: black;border-radius: 0.25em;background-color: #f0f8ff;}#sk-container-id-3 input.sk-toggleable__control:checked~div.sk-toggleable__content {max-height: 200px;max-width: 100%;overflow: auto;}#sk-container-id-3 input.sk-toggleable__control:checked~label.sk-toggleable__label-arrow:before {content: \"▾\";}#sk-container-id-3 div.sk-estimator input.sk-toggleable__control:checked~label.sk-toggleable__label {background-color: #d4ebff;}#sk-container-id-3 div.sk-label input.sk-toggleable__control:checked~label.sk-toggleable__label {background-color: #d4ebff;}#sk-container-id-3 input.sk-hidden--visually {border: 0;clip: rect(1px 1px 1px 1px);clip: rect(1px, 1px, 1px, 1px);height: 1px;margin: -1px;overflow: hidden;padding: 0;position: absolute;width: 1px;}#sk-container-id-3 div.sk-estimator {font-family: monospace;background-color: #f0f8ff;border: 1px dotted black;border-radius: 0.25em;box-sizing: border-box;margin-bottom: 0.5em;}#sk-container-id-3 div.sk-estimator:hover {background-color: #d4ebff;}#sk-container-id-3 div.sk-parallel-item::after {content: \"\";width: 100%;border-bottom: 1px solid gray;flex-grow: 1;}#sk-container-id-3 div.sk-label:hover label.sk-toggleable__label {background-color: #d4ebff;}#sk-container-id-3 div.sk-serial::before {content: \"\";position: absolute;border-left: 1px solid gray;box-sizing: border-box;top: 0;bottom: 0;left: 50%;z-index: 0;}#sk-container-id-3 div.sk-serial {display: flex;flex-direction: column;align-items: center;background-color: white;padding-right: 0.2em;padding-left: 0.2em;position: relative;}#sk-container-id-3 div.sk-item {position: relative;z-index: 1;}#sk-container-id-3 div.sk-parallel {display: flex;align-items: stretch;justify-content: center;background-color: white;position: relative;}#sk-container-id-3 div.sk-item::before, #sk-container-id-3 div.sk-parallel-item::before {content: \"\";position: absolute;border-left: 1px solid gray;box-sizing: border-box;top: 0;bottom: 0;left: 50%;z-index: -1;}#sk-container-id-3 div.sk-parallel-item {display: flex;flex-direction: column;z-index: 1;position: relative;background-color: white;}#sk-container-id-3 div.sk-parallel-item:first-child::after {align-self: flex-end;width: 50%;}#sk-container-id-3 div.sk-parallel-item:last-child::after {align-self: flex-start;width: 50%;}#sk-container-id-3 div.sk-parallel-item:only-child::after {width: 0;}#sk-container-id-3 div.sk-dashed-wrapped {border: 1px dashed gray;margin: 0 0.4em 0.5em 0.4em;box-sizing: border-box;padding-bottom: 0.4em;background-color: white;}#sk-container-id-3 div.sk-label label {font-family: monospace;font-weight: bold;display: inline-block;line-height: 1.2em;}#sk-container-id-3 div.sk-label-container {text-align: center;}#sk-container-id-3 div.sk-container {/* jupyter's `normalize.less` sets `[hidden] { display: none; }` but bootstrap.min.css set `[hidden] { display: none !important; }` so we also need the `!important` here to be able to override the default hidden behavior on the sphinx rendered scikit-learn.org. See: https://github.com/scikit-learn/scikit-learn/issues/21755 */display: inline-block !important;position: relative;}#sk-container-id-3 div.sk-text-repr-fallback {display: none;}</style><div id=\"sk-container-id-3\" class=\"sk-top-container\"><div class=\"sk-text-repr-fallback\"><pre>GridSearchCV(cv=3, estimator=RandomForestClassifier(n_jobs=-1),\n             param_grid={&#x27;max_depth&#x27;: [2, 3, 5, 6, 9],\n                         &#x27;min_samples_leaf&#x27;: [2, 3, 4, 5, 6],\n                         &#x27;n_estimators&#x27;: [1800, 2000, 2200, 2300]})</pre><b>In a Jupyter environment, please rerun this cell to show the HTML representation or trust the notebook. <br />On GitHub, the HTML representation is unable to render, please try loading this page with nbviewer.org.</b></div><div class=\"sk-container\" hidden><div class=\"sk-item sk-dashed-wrapped\"><div class=\"sk-label-container\"><div class=\"sk-label sk-toggleable\"><input class=\"sk-toggleable__control sk-hidden--visually\" id=\"sk-estimator-id-7\" type=\"checkbox\" ><label for=\"sk-estimator-id-7\" class=\"sk-toggleable__label sk-toggleable__label-arrow\">GridSearchCV</label><div class=\"sk-toggleable__content\"><pre>GridSearchCV(cv=3, estimator=RandomForestClassifier(n_jobs=-1),\n             param_grid={&#x27;max_depth&#x27;: [2, 3, 5, 6, 9],\n                         &#x27;min_samples_leaf&#x27;: [2, 3, 4, 5, 6],\n                         &#x27;n_estimators&#x27;: [1800, 2000, 2200, 2300]})</pre></div></div></div><div class=\"sk-parallel\"><div class=\"sk-parallel-item\"><div class=\"sk-item\"><div class=\"sk-label-container\"><div class=\"sk-label sk-toggleable\"><input class=\"sk-toggleable__control sk-hidden--visually\" id=\"sk-estimator-id-8\" type=\"checkbox\" ><label for=\"sk-estimator-id-8\" class=\"sk-toggleable__label sk-toggleable__label-arrow\">estimator: RandomForestClassifier</label><div class=\"sk-toggleable__content\"><pre>RandomForestClassifier(n_jobs=-1)</pre></div></div></div><div class=\"sk-serial\"><div class=\"sk-item\"><div class=\"sk-estimator sk-toggleable\"><input class=\"sk-toggleable__control sk-hidden--visually\" id=\"sk-estimator-id-9\" type=\"checkbox\" ><label for=\"sk-estimator-id-9\" class=\"sk-toggleable__label sk-toggleable__label-arrow\">RandomForestClassifier</label><div class=\"sk-toggleable__content\"><pre>RandomForestClassifier(n_jobs=-1)</pre></div></div></div></div></div></div></div></div></div></div>"
     },
     "execution_count": 93,
     "metadata": {},
     "output_type": "execute_result"
    }
   ],
   "source": [
    "# 开始训练\n",
    "grid.fit(x_train,y_train)"
   ],
   "metadata": {
    "collapsed": false,
    "pycharm": {
     "name": "#%%\n"
    }
   }
  },
  {
   "cell_type": "code",
   "execution_count": 94,
   "outputs": [
    {
     "name": "stdout",
     "output_type": "stream",
     "text": [
      "准确率为：0.8115501519756839\n"
     ]
    }
   ],
   "source": [
    "# 模型评估\n",
    "score = grid.score(x_test,y_test)\n",
    "print(f'准确率为：{score}')"
   ],
   "metadata": {
    "collapsed": false,
    "pycharm": {
     "name": "#%%\n"
    }
   }
  },
  {
   "cell_type": "code",
   "execution_count": 95,
   "outputs": [
    {
     "name": "stdout",
     "output_type": "stream",
     "text": [
      "0.8292682926829268\n",
      "RandomForestClassifier(max_depth=3, min_samples_leaf=2, n_estimators=1800,\n",
      "                       n_jobs=-1)\n"
     ]
    }
   ],
   "source": [
    "print(grid.best_score_)\n",
    "print(grid.best_estimator_)"
   ],
   "metadata": {
    "collapsed": false,
    "pycharm": {
     "name": "#%%\n"
    }
   }
  },
  {
   "cell_type": "code",
   "execution_count": 96,
   "outputs": [
    {
     "name": "stdout",
     "output_type": "stream",
     "text": [
      "{'mean_fit_time': array([1.05579766, 1.06435768, 1.2496082 , 1.230769  , 0.91090512,\n",
      "       0.98815346, 1.27143343, 1.18744628, 0.909597  , 1.00792011,\n",
      "       1.14660859, 1.29155493, 0.93133839, 1.06226325, 1.19724671,\n",
      "       1.38422251, 1.01091218, 1.09328572, 1.16757313, 1.28598817,\n",
      "       1.12477771, 1.0944488 , 1.23365943, 1.96006902, 2.25561579,\n",
      "       1.69876933, 1.69054278, 1.79673934, 1.22642851, 1.37750729,\n",
      "       1.30312459, 1.37959202, 1.07421231, 1.15625612, 1.32986641,\n",
      "       1.27658168, 1.00412901, 1.03713266, 1.13420335, 1.29708139,\n",
      "       1.01421054, 1.09885955, 1.21740675, 1.61272963, 1.06817166,\n",
      "       1.1749324 , 1.27821541, 1.36108573, 0.97132333, 1.04906638,\n",
      "       1.1572717 , 1.20429333, 1.0599854 , 1.0507253 , 1.18074878,\n",
      "       1.20596051, 0.99224973, 1.20815078, 1.18525751, 1.22631367,\n",
      "       0.98866463, 1.18441502, 1.19293133, 1.24517862, 0.98396126,\n",
      "       1.1717333 , 1.36825911, 1.36068082, 1.08120235, 1.17082397,\n",
      "       1.22596161, 1.39264838, 1.0048426 , 1.09691223, 1.16679295,\n",
      "       1.32896392, 0.9643627 , 1.0485127 , 1.15161991, 1.20645467,\n",
      "       1.05878488, 1.04812503, 1.1706926 , 1.3702573 , 1.1405979 ,\n",
      "       1.09312606, 1.20802251, 1.26618576, 1.00386802, 1.21667798,\n",
      "       1.30029003, 1.24972224, 0.99675425, 1.0802803 , 1.26356769,\n",
      "       1.20416331, 0.94999798, 1.04566773, 1.45457959, 1.32634672]), 'std_fit_time': array([0.07843746, 0.04025414, 0.1470075 , 0.00361609, 0.01768962,\n",
      "       0.01150406, 0.14364848, 0.01570379, 0.00470694, 0.01568399,\n",
      "       0.01023408, 0.12478406, 0.01229476, 0.00548361, 0.01573569,\n",
      "       0.15224032, 0.0187786 , 0.02814202, 0.03902548, 0.0298034 ,\n",
      "       0.16994437, 0.02199246, 0.05541165, 0.75145217, 0.20059406,\n",
      "       0.36870437, 0.09983894, 0.15082837, 0.00802413, 0.14377044,\n",
      "       0.02059888, 0.02688181, 0.03321192, 0.04235403, 0.14630064,\n",
      "       0.01834193, 0.03830207, 0.0084341 , 0.00406694, 0.1625913 ,\n",
      "       0.00948997, 0.02186577, 0.02989161, 0.30265008, 0.01523998,\n",
      "       0.00808607, 0.01089121, 0.14222746, 0.01948098, 0.00762227,\n",
      "       0.00899204, 0.00719668, 0.15627239, 0.02903006, 0.04019676,\n",
      "       0.02717937, 0.01182355, 0.14413299, 0.01235878, 0.00127145,\n",
      "       0.00314151, 0.16078341, 0.00850296, 0.01150679, 0.00250216,\n",
      "       0.03958169, 0.14018111, 0.01845994, 0.01467102, 0.05228668,\n",
      "       0.00331637, 0.16215742, 0.0082948 , 0.02780894, 0.00357296,\n",
      "       0.16245321, 0.0077756 , 0.00361709, 0.00128512, 0.0079803 ,\n",
      "       0.13915369, 0.00523277, 0.01741021, 0.04382862, 0.15767514,\n",
      "       0.01451323, 0.00655242, 0.00640071, 0.00942131, 0.1600836 ,\n",
      "       0.05532817, 0.01546631, 0.01086644, 0.01144119, 0.1486326 ,\n",
      "       0.00699697, 0.0062269 , 0.00311068, 0.17247448, 0.03622958]), 'mean_score_time': array([0.23502962, 0.30941661, 0.30870724, 0.30576603, 0.21878457,\n",
      "       0.26083088, 0.33411487, 0.3281916 , 0.22663109, 0.24285094,\n",
      "       0.30113308, 0.33078233, 0.22246941, 0.26867318, 0.30214159,\n",
      "       0.32306496, 0.26836197, 0.29624104, 0.32922467, 0.35786359,\n",
      "       0.27935378, 0.31757593, 0.33207329, 0.57445637, 0.61600534,\n",
      "       0.42101034, 0.46437589, 0.45814896, 0.33665419, 0.33559704,\n",
      "       0.38586267, 0.38707638, 0.27078382, 0.29638251, 0.33456667,\n",
      "       0.35477869, 0.26236629, 0.27799106, 0.29392401, 0.31092127,\n",
      "       0.27218803, 0.29811398, 0.35073996, 0.3880953 , 0.28997477,\n",
      "       0.33703121, 0.355165  , 0.34113558, 0.25602865, 0.28715762,\n",
      "       0.32088161, 0.32158701, 0.24836469, 0.28593365, 0.32835698,\n",
      "       0.33137774, 0.27188794, 0.30996482, 0.32780822, 0.32708367,\n",
      "       0.26823092, 0.29539196, 0.3274134 , 0.34098792, 0.27044169,\n",
      "       0.37480346, 0.3490026 , 0.38493093, 0.31492035, 0.33490809,\n",
      "       0.3498617 , 0.34823402, 0.27383518, 0.30208111, 0.318314  ,\n",
      "       0.32997799, 0.25686701, 0.28755959, 0.31162103, 0.33158167,\n",
      "       0.26300542, 0.28262027, 0.33604813, 0.38702989, 0.27831777,\n",
      "       0.30126802, 0.3338937 , 0.34801261, 0.27219534, 0.31022112,\n",
      "       0.35803978, 0.34854531, 0.26957536, 0.3058397 , 0.32227961,\n",
      "       0.33452264, 0.25885208, 0.29813902, 0.35891779, 0.37587921]), 'std_score_time': array([0.00674414, 0.02541691, 0.01216779, 0.00902928, 0.00277281,\n",
      "       0.01273788, 0.01385135, 0.0078863 , 0.01110024, 0.00727464,\n",
      "       0.02038369, 0.01236945, 0.00366058, 0.01605487, 0.01517751,\n",
      "       0.00459735, 0.0060882 , 0.01006111, 0.0077132 , 0.00728996,\n",
      "       0.01943336, 0.00713578, 0.01196949, 0.17668839, 0.02888294,\n",
      "       0.0582282 , 0.04158816, 0.02920703, 0.01140765, 0.01811913,\n",
      "       0.04265694, 0.00670163, 0.02203894, 0.02426895, 0.00600489,\n",
      "       0.01204698, 0.01191079, 0.01277318, 0.01388896, 0.01299997,\n",
      "       0.00256119, 0.00892569, 0.02257963, 0.01958391, 0.00155301,\n",
      "       0.02222929, 0.01616545, 0.01222029, 0.00352322, 0.00673786,\n",
      "       0.00331419, 0.0146987 , 0.00832419, 0.00514908, 0.01357726,\n",
      "       0.00855189, 0.00417392, 0.00968994, 0.0057089 , 0.01266326,\n",
      "       0.00312055, 0.00532035, 0.00335938, 0.00558004, 0.00142225,\n",
      "       0.05235714, 0.00377423, 0.01448059, 0.02635239, 0.03372495,\n",
      "       0.01157509, 0.00652448, 0.00370278, 0.0003608 , 0.00375224,\n",
      "       0.00498973, 0.00781245, 0.00199704, 0.01032494, 0.00551233,\n",
      "       0.00163549, 0.00130866, 0.02587663, 0.02388486, 0.0047616 ,\n",
      "       0.0004478 , 0.00097902, 0.00098082, 0.00135756, 0.01202062,\n",
      "       0.02006436, 0.00339262, 0.00282732, 0.00148175, 0.00257528,\n",
      "       0.00568438, 0.00029922, 0.01116932, 0.0338148 , 0.00477636]), 'param_max_depth': masked_array(data=[2, 2, 2, 2, 2, 2, 2, 2, 2, 2, 2, 2, 2, 2, 2, 2, 2, 2,\n",
      "                   2, 2, 3, 3, 3, 3, 3, 3, 3, 3, 3, 3, 3, 3, 3, 3, 3, 3,\n",
      "                   3, 3, 3, 3, 5, 5, 5, 5, 5, 5, 5, 5, 5, 5, 5, 5, 5, 5,\n",
      "                   5, 5, 5, 5, 5, 5, 6, 6, 6, 6, 6, 6, 6, 6, 6, 6, 6, 6,\n",
      "                   6, 6, 6, 6, 6, 6, 6, 6, 9, 9, 9, 9, 9, 9, 9, 9, 9, 9,\n",
      "                   9, 9, 9, 9, 9, 9, 9, 9, 9, 9],\n",
      "             mask=[False, False, False, False, False, False, False, False,\n",
      "                   False, False, False, False, False, False, False, False,\n",
      "                   False, False, False, False, False, False, False, False,\n",
      "                   False, False, False, False, False, False, False, False,\n",
      "                   False, False, False, False, False, False, False, False,\n",
      "                   False, False, False, False, False, False, False, False,\n",
      "                   False, False, False, False, False, False, False, False,\n",
      "                   False, False, False, False, False, False, False, False,\n",
      "                   False, False, False, False, False, False, False, False,\n",
      "                   False, False, False, False, False, False, False, False,\n",
      "                   False, False, False, False, False, False, False, False,\n",
      "                   False, False, False, False, False, False, False, False,\n",
      "                   False, False, False, False],\n",
      "       fill_value='?',\n",
      "            dtype=object), 'param_min_samples_leaf': masked_array(data=[2, 2, 2, 2, 3, 3, 3, 3, 4, 4, 4, 4, 5, 5, 5, 5, 6, 6,\n",
      "                   6, 6, 2, 2, 2, 2, 3, 3, 3, 3, 4, 4, 4, 4, 5, 5, 5, 5,\n",
      "                   6, 6, 6, 6, 2, 2, 2, 2, 3, 3, 3, 3, 4, 4, 4, 4, 5, 5,\n",
      "                   5, 5, 6, 6, 6, 6, 2, 2, 2, 2, 3, 3, 3, 3, 4, 4, 4, 4,\n",
      "                   5, 5, 5, 5, 6, 6, 6, 6, 2, 2, 2, 2, 3, 3, 3, 3, 4, 4,\n",
      "                   4, 4, 5, 5, 5, 5, 6, 6, 6, 6],\n",
      "             mask=[False, False, False, False, False, False, False, False,\n",
      "                   False, False, False, False, False, False, False, False,\n",
      "                   False, False, False, False, False, False, False, False,\n",
      "                   False, False, False, False, False, False, False, False,\n",
      "                   False, False, False, False, False, False, False, False,\n",
      "                   False, False, False, False, False, False, False, False,\n",
      "                   False, False, False, False, False, False, False, False,\n",
      "                   False, False, False, False, False, False, False, False,\n",
      "                   False, False, False, False, False, False, False, False,\n",
      "                   False, False, False, False, False, False, False, False,\n",
      "                   False, False, False, False, False, False, False, False,\n",
      "                   False, False, False, False, False, False, False, False,\n",
      "                   False, False, False, False],\n",
      "       fill_value='?',\n",
      "            dtype=object), 'param_n_estimators': masked_array(data=[1800, 2000, 2200, 2300, 1800, 2000, 2200, 2300, 1800,\n",
      "                   2000, 2200, 2300, 1800, 2000, 2200, 2300, 1800, 2000,\n",
      "                   2200, 2300, 1800, 2000, 2200, 2300, 1800, 2000, 2200,\n",
      "                   2300, 1800, 2000, 2200, 2300, 1800, 2000, 2200, 2300,\n",
      "                   1800, 2000, 2200, 2300, 1800, 2000, 2200, 2300, 1800,\n",
      "                   2000, 2200, 2300, 1800, 2000, 2200, 2300, 1800, 2000,\n",
      "                   2200, 2300, 1800, 2000, 2200, 2300, 1800, 2000, 2200,\n",
      "                   2300, 1800, 2000, 2200, 2300, 1800, 2000, 2200, 2300,\n",
      "                   1800, 2000, 2200, 2300, 1800, 2000, 2200, 2300, 1800,\n",
      "                   2000, 2200, 2300, 1800, 2000, 2200, 2300, 1800, 2000,\n",
      "                   2200, 2300, 1800, 2000, 2200, 2300, 1800, 2000, 2200,\n",
      "                   2300],\n",
      "             mask=[False, False, False, False, False, False, False, False,\n",
      "                   False, False, False, False, False, False, False, False,\n",
      "                   False, False, False, False, False, False, False, False,\n",
      "                   False, False, False, False, False, False, False, False,\n",
      "                   False, False, False, False, False, False, False, False,\n",
      "                   False, False, False, False, False, False, False, False,\n",
      "                   False, False, False, False, False, False, False, False,\n",
      "                   False, False, False, False, False, False, False, False,\n",
      "                   False, False, False, False, False, False, False, False,\n",
      "                   False, False, False, False, False, False, False, False,\n",
      "                   False, False, False, False, False, False, False, False,\n",
      "                   False, False, False, False, False, False, False, False,\n",
      "                   False, False, False, False],\n",
      "       fill_value='?',\n",
      "            dtype=object), 'params': [{'max_depth': 2, 'min_samples_leaf': 2, 'n_estimators': 1800}, {'max_depth': 2, 'min_samples_leaf': 2, 'n_estimators': 2000}, {'max_depth': 2, 'min_samples_leaf': 2, 'n_estimators': 2200}, {'max_depth': 2, 'min_samples_leaf': 2, 'n_estimators': 2300}, {'max_depth': 2, 'min_samples_leaf': 3, 'n_estimators': 1800}, {'max_depth': 2, 'min_samples_leaf': 3, 'n_estimators': 2000}, {'max_depth': 2, 'min_samples_leaf': 3, 'n_estimators': 2200}, {'max_depth': 2, 'min_samples_leaf': 3, 'n_estimators': 2300}, {'max_depth': 2, 'min_samples_leaf': 4, 'n_estimators': 1800}, {'max_depth': 2, 'min_samples_leaf': 4, 'n_estimators': 2000}, {'max_depth': 2, 'min_samples_leaf': 4, 'n_estimators': 2200}, {'max_depth': 2, 'min_samples_leaf': 4, 'n_estimators': 2300}, {'max_depth': 2, 'min_samples_leaf': 5, 'n_estimators': 1800}, {'max_depth': 2, 'min_samples_leaf': 5, 'n_estimators': 2000}, {'max_depth': 2, 'min_samples_leaf': 5, 'n_estimators': 2200}, {'max_depth': 2, 'min_samples_leaf': 5, 'n_estimators': 2300}, {'max_depth': 2, 'min_samples_leaf': 6, 'n_estimators': 1800}, {'max_depth': 2, 'min_samples_leaf': 6, 'n_estimators': 2000}, {'max_depth': 2, 'min_samples_leaf': 6, 'n_estimators': 2200}, {'max_depth': 2, 'min_samples_leaf': 6, 'n_estimators': 2300}, {'max_depth': 3, 'min_samples_leaf': 2, 'n_estimators': 1800}, {'max_depth': 3, 'min_samples_leaf': 2, 'n_estimators': 2000}, {'max_depth': 3, 'min_samples_leaf': 2, 'n_estimators': 2200}, {'max_depth': 3, 'min_samples_leaf': 2, 'n_estimators': 2300}, {'max_depth': 3, 'min_samples_leaf': 3, 'n_estimators': 1800}, {'max_depth': 3, 'min_samples_leaf': 3, 'n_estimators': 2000}, {'max_depth': 3, 'min_samples_leaf': 3, 'n_estimators': 2200}, {'max_depth': 3, 'min_samples_leaf': 3, 'n_estimators': 2300}, {'max_depth': 3, 'min_samples_leaf': 4, 'n_estimators': 1800}, {'max_depth': 3, 'min_samples_leaf': 4, 'n_estimators': 2000}, {'max_depth': 3, 'min_samples_leaf': 4, 'n_estimators': 2200}, {'max_depth': 3, 'min_samples_leaf': 4, 'n_estimators': 2300}, {'max_depth': 3, 'min_samples_leaf': 5, 'n_estimators': 1800}, {'max_depth': 3, 'min_samples_leaf': 5, 'n_estimators': 2000}, {'max_depth': 3, 'min_samples_leaf': 5, 'n_estimators': 2200}, {'max_depth': 3, 'min_samples_leaf': 5, 'n_estimators': 2300}, {'max_depth': 3, 'min_samples_leaf': 6, 'n_estimators': 1800}, {'max_depth': 3, 'min_samples_leaf': 6, 'n_estimators': 2000}, {'max_depth': 3, 'min_samples_leaf': 6, 'n_estimators': 2200}, {'max_depth': 3, 'min_samples_leaf': 6, 'n_estimators': 2300}, {'max_depth': 5, 'min_samples_leaf': 2, 'n_estimators': 1800}, {'max_depth': 5, 'min_samples_leaf': 2, 'n_estimators': 2000}, {'max_depth': 5, 'min_samples_leaf': 2, 'n_estimators': 2200}, {'max_depth': 5, 'min_samples_leaf': 2, 'n_estimators': 2300}, {'max_depth': 5, 'min_samples_leaf': 3, 'n_estimators': 1800}, {'max_depth': 5, 'min_samples_leaf': 3, 'n_estimators': 2000}, {'max_depth': 5, 'min_samples_leaf': 3, 'n_estimators': 2200}, {'max_depth': 5, 'min_samples_leaf': 3, 'n_estimators': 2300}, {'max_depth': 5, 'min_samples_leaf': 4, 'n_estimators': 1800}, {'max_depth': 5, 'min_samples_leaf': 4, 'n_estimators': 2000}, {'max_depth': 5, 'min_samples_leaf': 4, 'n_estimators': 2200}, {'max_depth': 5, 'min_samples_leaf': 4, 'n_estimators': 2300}, {'max_depth': 5, 'min_samples_leaf': 5, 'n_estimators': 1800}, {'max_depth': 5, 'min_samples_leaf': 5, 'n_estimators': 2000}, {'max_depth': 5, 'min_samples_leaf': 5, 'n_estimators': 2200}, {'max_depth': 5, 'min_samples_leaf': 5, 'n_estimators': 2300}, {'max_depth': 5, 'min_samples_leaf': 6, 'n_estimators': 1800}, {'max_depth': 5, 'min_samples_leaf': 6, 'n_estimators': 2000}, {'max_depth': 5, 'min_samples_leaf': 6, 'n_estimators': 2200}, {'max_depth': 5, 'min_samples_leaf': 6, 'n_estimators': 2300}, {'max_depth': 6, 'min_samples_leaf': 2, 'n_estimators': 1800}, {'max_depth': 6, 'min_samples_leaf': 2, 'n_estimators': 2000}, {'max_depth': 6, 'min_samples_leaf': 2, 'n_estimators': 2200}, {'max_depth': 6, 'min_samples_leaf': 2, 'n_estimators': 2300}, {'max_depth': 6, 'min_samples_leaf': 3, 'n_estimators': 1800}, {'max_depth': 6, 'min_samples_leaf': 3, 'n_estimators': 2000}, {'max_depth': 6, 'min_samples_leaf': 3, 'n_estimators': 2200}, {'max_depth': 6, 'min_samples_leaf': 3, 'n_estimators': 2300}, {'max_depth': 6, 'min_samples_leaf': 4, 'n_estimators': 1800}, {'max_depth': 6, 'min_samples_leaf': 4, 'n_estimators': 2000}, {'max_depth': 6, 'min_samples_leaf': 4, 'n_estimators': 2200}, {'max_depth': 6, 'min_samples_leaf': 4, 'n_estimators': 2300}, {'max_depth': 6, 'min_samples_leaf': 5, 'n_estimators': 1800}, {'max_depth': 6, 'min_samples_leaf': 5, 'n_estimators': 2000}, {'max_depth': 6, 'min_samples_leaf': 5, 'n_estimators': 2200}, {'max_depth': 6, 'min_samples_leaf': 5, 'n_estimators': 2300}, {'max_depth': 6, 'min_samples_leaf': 6, 'n_estimators': 1800}, {'max_depth': 6, 'min_samples_leaf': 6, 'n_estimators': 2000}, {'max_depth': 6, 'min_samples_leaf': 6, 'n_estimators': 2200}, {'max_depth': 6, 'min_samples_leaf': 6, 'n_estimators': 2300}, {'max_depth': 9, 'min_samples_leaf': 2, 'n_estimators': 1800}, {'max_depth': 9, 'min_samples_leaf': 2, 'n_estimators': 2000}, {'max_depth': 9, 'min_samples_leaf': 2, 'n_estimators': 2200}, {'max_depth': 9, 'min_samples_leaf': 2, 'n_estimators': 2300}, {'max_depth': 9, 'min_samples_leaf': 3, 'n_estimators': 1800}, {'max_depth': 9, 'min_samples_leaf': 3, 'n_estimators': 2000}, {'max_depth': 9, 'min_samples_leaf': 3, 'n_estimators': 2200}, {'max_depth': 9, 'min_samples_leaf': 3, 'n_estimators': 2300}, {'max_depth': 9, 'min_samples_leaf': 4, 'n_estimators': 1800}, {'max_depth': 9, 'min_samples_leaf': 4, 'n_estimators': 2000}, {'max_depth': 9, 'min_samples_leaf': 4, 'n_estimators': 2200}, {'max_depth': 9, 'min_samples_leaf': 4, 'n_estimators': 2300}, {'max_depth': 9, 'min_samples_leaf': 5, 'n_estimators': 1800}, {'max_depth': 9, 'min_samples_leaf': 5, 'n_estimators': 2000}, {'max_depth': 9, 'min_samples_leaf': 5, 'n_estimators': 2200}, {'max_depth': 9, 'min_samples_leaf': 5, 'n_estimators': 2300}, {'max_depth': 9, 'min_samples_leaf': 6, 'n_estimators': 1800}, {'max_depth': 9, 'min_samples_leaf': 6, 'n_estimators': 2000}, {'max_depth': 9, 'min_samples_leaf': 6, 'n_estimators': 2200}, {'max_depth': 9, 'min_samples_leaf': 6, 'n_estimators': 2300}], 'split0_test_score': array([0.83231707, 0.83231707, 0.83231707, 0.83231707, 0.83231707,\n",
      "       0.83231707, 0.83231707, 0.83231707, 0.83231707, 0.83231707,\n",
      "       0.83231707, 0.83231707, 0.83231707, 0.83231707, 0.83231707,\n",
      "       0.83231707, 0.83231707, 0.83231707, 0.83231707, 0.83231707,\n",
      "       0.84756098, 0.84756098, 0.84756098, 0.84756098, 0.84756098,\n",
      "       0.84756098, 0.84756098, 0.84756098, 0.84756098, 0.84756098,\n",
      "       0.84756098, 0.84756098, 0.84756098, 0.84756098, 0.84756098,\n",
      "       0.84756098, 0.8445122 , 0.8445122 , 0.8445122 , 0.8445122 ,\n",
      "       0.84146341, 0.84146341, 0.84146341, 0.84146341, 0.83841463,\n",
      "       0.83841463, 0.83841463, 0.83841463, 0.83536585, 0.83536585,\n",
      "       0.83536585, 0.83536585, 0.83841463, 0.84146341, 0.84146341,\n",
      "       0.84146341, 0.8445122 , 0.84146341, 0.84146341, 0.84146341,\n",
      "       0.83536585, 0.83536585, 0.83536585, 0.83536585, 0.83841463,\n",
      "       0.83841463, 0.83841463, 0.83841463, 0.83841463, 0.83841463,\n",
      "       0.83841463, 0.83841463, 0.84146341, 0.8445122 , 0.8445122 ,\n",
      "       0.8445122 , 0.84146341, 0.84146341, 0.83841463, 0.83841463,\n",
      "       0.83231707, 0.83231707, 0.83231707, 0.83231707, 0.83536585,\n",
      "       0.83536585, 0.83536585, 0.83231707, 0.83841463, 0.83841463,\n",
      "       0.83841463, 0.83841463, 0.8445122 , 0.84146341, 0.83841463,\n",
      "       0.8445122 , 0.84146341, 0.84146341, 0.84146341, 0.83841463]), 'split1_test_score': array([0.80487805, 0.80487805, 0.80792683, 0.80487805, 0.80487805,\n",
      "       0.80487805, 0.80487805, 0.80487805, 0.80487805, 0.80792683,\n",
      "       0.80487805, 0.80487805, 0.80487805, 0.80487805, 0.80487805,\n",
      "       0.80487805, 0.80487805, 0.80487805, 0.80487805, 0.80487805,\n",
      "       0.81402439, 0.80487805, 0.81097561, 0.80487805, 0.80487805,\n",
      "       0.80487805, 0.80487805, 0.80487805, 0.80487805, 0.80487805,\n",
      "       0.80487805, 0.80182927, 0.80182927, 0.80182927, 0.80182927,\n",
      "       0.80182927, 0.80182927, 0.80182927, 0.80182927, 0.80182927,\n",
      "       0.81707317, 0.81707317, 0.81707317, 0.81707317, 0.81402439,\n",
      "       0.81097561, 0.81097561, 0.80792683, 0.79878049, 0.81097561,\n",
      "       0.79878049, 0.81097561, 0.81097561, 0.80182927, 0.81097561,\n",
      "       0.81097561, 0.81097561, 0.81097561, 0.81097561, 0.81097561,\n",
      "       0.81707317, 0.81707317, 0.81707317, 0.81707317, 0.80792683,\n",
      "       0.80792683, 0.81097561, 0.81097561, 0.80792683, 0.80792683,\n",
      "       0.80792683, 0.80792683, 0.80792683, 0.81097561, 0.81097561,\n",
      "       0.80792683, 0.81097561, 0.81402439, 0.81402439, 0.81402439,\n",
      "       0.81707317, 0.81707317, 0.81707317, 0.81707317, 0.80792683,\n",
      "       0.80792683, 0.80792683, 0.80792683, 0.80792683, 0.80487805,\n",
      "       0.80487805, 0.80487805, 0.80792683, 0.80792683, 0.80182927,\n",
      "       0.80792683, 0.81402439, 0.81402439, 0.81402439, 0.81402439]), 'split2_test_score': array([0.81402439, 0.81402439, 0.81402439, 0.81402439, 0.81402439,\n",
      "       0.81402439, 0.81402439, 0.81402439, 0.81402439, 0.81402439,\n",
      "       0.81402439, 0.81402439, 0.81402439, 0.81402439, 0.81402439,\n",
      "       0.81402439, 0.81402439, 0.81402439, 0.81402439, 0.81402439,\n",
      "       0.82621951, 0.82621951, 0.82621951, 0.82621951, 0.82621951,\n",
      "       0.82621951, 0.82621951, 0.82621951, 0.82317073, 0.82317073,\n",
      "       0.82317073, 0.82621951, 0.82317073, 0.82317073, 0.82317073,\n",
      "       0.82317073, 0.82317073, 0.82317073, 0.82317073, 0.82317073,\n",
      "       0.82926829, 0.82926829, 0.82926829, 0.82926829, 0.82621951,\n",
      "       0.82621951, 0.82621951, 0.82621951, 0.82621951, 0.82621951,\n",
      "       0.82621951, 0.82621951, 0.82621951, 0.82621951, 0.82621951,\n",
      "       0.82621951, 0.82317073, 0.82317073, 0.82317073, 0.82621951,\n",
      "       0.82317073, 0.81707317, 0.81707317, 0.81707317, 0.81707317,\n",
      "       0.81707317, 0.81707317, 0.81707317, 0.82621951, 0.82621951,\n",
      "       0.82621951, 0.82621951, 0.82621951, 0.82621951, 0.82621951,\n",
      "       0.82621951, 0.82621951, 0.82621951, 0.82621951, 0.82621951,\n",
      "       0.81707317, 0.81707317, 0.82012195, 0.81707317, 0.81707317,\n",
      "       0.81707317, 0.81707317, 0.81707317, 0.81402439, 0.81402439,\n",
      "       0.81402439, 0.81402439, 0.81707317, 0.81707317, 0.81707317,\n",
      "       0.81707317, 0.82926829, 0.82621951, 0.82621951, 0.82926829]), 'mean_test_score': array([0.81707317, 0.81707317, 0.81808943, 0.81707317, 0.81707317,\n",
      "       0.81707317, 0.81707317, 0.81707317, 0.81707317, 0.81808943,\n",
      "       0.81707317, 0.81707317, 0.81707317, 0.81707317, 0.81707317,\n",
      "       0.81707317, 0.81707317, 0.81707317, 0.81707317, 0.81707317,\n",
      "       0.82926829, 0.82621951, 0.82825203, 0.82621951, 0.82621951,\n",
      "       0.82621951, 0.82621951, 0.82621951, 0.82520325, 0.82520325,\n",
      "       0.82520325, 0.82520325, 0.82418699, 0.82418699, 0.82418699,\n",
      "       0.82418699, 0.82317073, 0.82317073, 0.82317073, 0.82317073,\n",
      "       0.82926829, 0.82926829, 0.82926829, 0.82926829, 0.82621951,\n",
      "       0.82520325, 0.82520325, 0.82418699, 0.82012195, 0.82418699,\n",
      "       0.82012195, 0.82418699, 0.82520325, 0.82317073, 0.82621951,\n",
      "       0.82621951, 0.82621951, 0.82520325, 0.82520325, 0.82621951,\n",
      "       0.82520325, 0.82317073, 0.82317073, 0.82317073, 0.82113821,\n",
      "       0.82113821, 0.82215447, 0.82215447, 0.82418699, 0.82418699,\n",
      "       0.82418699, 0.82418699, 0.82520325, 0.82723577, 0.82723577,\n",
      "       0.82621951, 0.82621951, 0.82723577, 0.82621951, 0.82621951,\n",
      "       0.82215447, 0.82215447, 0.82317073, 0.82215447, 0.82012195,\n",
      "       0.82012195, 0.82012195, 0.81910569, 0.82012195, 0.81910569,\n",
      "       0.81910569, 0.81910569, 0.82317073, 0.82215447, 0.81910569,\n",
      "       0.82317073, 0.82825203, 0.82723577, 0.82723577, 0.82723577]), 'std_test_score': array([0.01140749, 0.01140749, 0.01036386, 0.01140749, 0.01140749,\n",
      "       0.01140749, 0.01140749, 0.01140749, 0.01140749, 0.01036386,\n",
      "       0.01140749, 0.01140749, 0.01140749, 0.01140749, 0.01140749,\n",
      "       0.01140749, 0.01140749, 0.01140749, 0.01140749, 0.01140749,\n",
      "       0.01385994, 0.01742523, 0.0150049 , 0.01742523, 0.01742523,\n",
      "       0.01742523, 0.01742523, 0.01742523, 0.0174844 , 0.0174844 ,\n",
      "       0.0174844 , 0.01868372, 0.01868372, 0.01868372, 0.01868372,\n",
      "       0.01868372, 0.01742523, 0.01742523, 0.01742523, 0.01742523,\n",
      "       0.00995728, 0.00995728, 0.00995728, 0.00995728, 0.00995728,\n",
      "       0.01122496, 0.01122496, 0.0125293 , 0.01554579, 0.01006046,\n",
      "       0.01554579, 0.01006046, 0.01122496, 0.01632356, 0.01244659,\n",
      "       0.01244659, 0.01385994, 0.0125293 , 0.0125293 , 0.01244659,\n",
      "       0.00760499, 0.00862325, 0.00862325, 0.00862325, 0.01277419,\n",
      "       0.01277419, 0.01176406, 0.01176406, 0.0125293 , 0.0125293 ,\n",
      "       0.0125293 , 0.0125293 , 0.0137101 , 0.0137101 , 0.0137101 ,\n",
      "       0.01493591, 0.01244659, 0.01122496, 0.00995728, 0.00995728,\n",
      "       0.00718604, 0.00718604, 0.00658612, 0.00718604, 0.01140749,\n",
      "       0.01140749, 0.01140749, 0.01006046, 0.01317224, 0.01415487,\n",
      "       0.01415487, 0.01415487, 0.01554579, 0.01415487, 0.0150049 ,\n",
      "       0.01554579, 0.01122496, 0.01122496, 0.01122496, 0.01006046]), 'rank_test_score': array([83, 83, 81, 83, 83, 83, 83, 83, 83, 81, 83, 83, 83, 83, 83, 83, 83,\n",
      "       83, 83, 83,  1, 14,  6, 14, 14, 14, 14, 14, 29, 29, 29, 29, 40, 40,\n",
      "       40, 40, 51, 51, 51, 51,  1,  1,  1,  1, 14, 29, 29, 40, 70, 40, 70,\n",
      "       40, 29, 51, 14, 14, 14, 29, 29, 14, 29, 57, 57, 57, 68, 68, 62, 62,\n",
      "       40, 40, 40, 40, 29,  8,  8, 14, 14,  8, 14, 14, 62, 62, 51, 62, 70,\n",
      "       70, 70, 76, 70, 76, 76, 76, 57, 62, 76, 57,  7,  8,  8,  8],\n",
      "      dtype=int32)}\n"
     ]
    }
   ],
   "source": [
    "print(grid.cv_results_)"
   ],
   "metadata": {
    "collapsed": false,
    "pycharm": {
     "name": "#%%\n"
    }
   }
  },
  {
   "cell_type": "markdown",
   "source": [
    "## 2.\t默写决策树的ID3,C4.5和基尼系数公式，并说明特点，默写预剪枝的手法，默写线性回归正规方程的推导过程"
   ],
   "metadata": {
    "collapsed": false,
    "pycharm": {
     "name": "#%% md\n"
    }
   }
  },
  {
   "cell_type": "markdown",
   "source": [
    "* ID3:使用信息增益作为评价标准，它会倾向于取值较多的特征，而且只能对离散行特征进行描述\n",
    "* C4.5:是基于ID3做出的改进，使用信息增益率最为评价的标准来选择特征，它可以处理连续的数值型特征，并且能够对缺失值进行处理，缺点是算法的效率低\n",
    "* 预剪枝：指定树的高度，指定每一个结点所包含的最小样本数，指定结点熵的最小值\n",
    "* 线性回归：$y = W_0+W_1*X_1+W_2*X_1+...W_n*X_1$"
   ],
   "metadata": {
    "collapsed": false,
    "pycharm": {
     "name": "#%% md\n"
    }
   }
  },
  {
   "cell_type": "markdown",
   "source": [
    "## 3.\t完成线性回归的实战，梯度下降线性回归实战"
   ],
   "metadata": {
    "collapsed": false,
    "pycharm": {
     "name": "#%% md\n"
    }
   }
  },
  {
   "cell_type": "code",
   "execution_count": 95,
   "outputs": [
    {
     "name": "stderr",
     "output_type": "stream",
     "text": [
      "/Library/Frameworks/Python.framework/Versions/3.8/lib/python3.8/site-packages/sklearn/utils/deprecation.py:87: FutureWarning: Function load_boston is deprecated; `load_boston` is deprecated in 1.0 and will be removed in 1.2.\n",
      "\n",
      "    The Boston housing prices dataset has an ethical problem. You can refer to\n",
      "    the documentation of this function for further details.\n",
      "\n",
      "    The scikit-learn maintainers therefore strongly discourage the use of this\n",
      "    dataset unless the purpose of the code is to study and educate about\n",
      "    ethical issues in data science and machine learning.\n",
      "\n",
      "    In this special case, you can fetch the dataset from the original\n",
      "    source::\n",
      "\n",
      "        import pandas as pd\n",
      "        import numpy as np\n",
      "\n",
      "        data_url = \"http://lib.stat.cmu.edu/datasets/boston\"\n",
      "        raw_df = pd.read_csv(data_url, sep=\"\\s+\", skiprows=22, header=None)\n",
      "        data = np.hstack([raw_df.values[::2, :], raw_df.values[1::2, :2]])\n",
      "        target = raw_df.values[1::2, 2]\n",
      "\n",
      "    Alternative datasets include the California housing dataset (i.e.\n",
      "    :func:`~sklearn.datasets.fetch_california_housing`) and the Ames housing\n",
      "    dataset. You can load the datasets as follows::\n",
      "\n",
      "        from sklearn.datasets import fetch_california_housing\n",
      "        housing = fetch_california_housing()\n",
      "\n",
      "    for the California housing dataset and::\n",
      "\n",
      "        from sklearn.datasets import fetch_openml\n",
      "        housing = fetch_openml(name=\"house_prices\", as_frame=True)\n",
      "\n",
      "    for the Ames housing dataset.\n",
      "  warnings.warn(msg, category=FutureWarning)\n"
     ]
    }
   ],
   "source": [
    "# 利用线性回归预测房价\n",
    "house_price = load_boston()"
   ],
   "metadata": {
    "collapsed": false,
    "pycharm": {
     "name": "#%%\n"
    }
   }
  },
  {
   "cell_type": "code",
   "execution_count": 24,
   "outputs": [
    {
     "name": "stdout",
     "output_type": "stream",
     "text": [
      "(506, 13)\n",
      "(506,)\n"
     ]
    }
   ],
   "source": [
    "print(house_price.data.shape)\n",
    "print(house_price.target.shape)"
   ],
   "metadata": {
    "collapsed": false,
    "pycharm": {
     "name": "#%%\n"
    }
   }
  },
  {
   "cell_type": "code",
   "execution_count": 96,
   "outputs": [],
   "source": [
    "# 数据集划分\n",
    "x_train,x_test,y_train,y_test = train_test_split(\n",
    "    house_price.data,house_price.target,\n",
    "    test_size=0.25,random_state=22)"
   ],
   "metadata": {
    "collapsed": false,
    "pycharm": {
     "name": "#%%\n"
    }
   }
  },
  {
   "cell_type": "code",
   "execution_count": 49,
   "outputs": [
    {
     "name": "stdout",
     "output_type": "stream",
     "text": [
      "(379, 13)\n",
      "(379,)\n",
      "(127, 13)\n",
      "(127,)\n"
     ]
    }
   ],
   "source": [
    "print(x_train.shape)\n",
    "print(y_train.shape)\n",
    "print(x_test.shape)\n",
    "print(y_test.shape)"
   ],
   "metadata": {
    "collapsed": false,
    "pycharm": {
     "name": "#%%\n"
    }
   }
  },
  {
   "cell_type": "code",
   "execution_count": 97,
   "outputs": [],
   "source": [
    "# 进行标准化\n",
    "stand = StandardScaler()\n",
    "x_train = stand.fit_transform(x_train)\n",
    "x_test = stand.transform(x_test)"
   ],
   "metadata": {
    "collapsed": false,
    "pycharm": {
     "name": "#%%\n"
    }
   }
  },
  {
   "cell_type": "code",
   "execution_count": 101,
   "outputs": [],
   "source": [
    "# 因为数据集进行标准化之后是均值为0，方差1的数\n",
    "# 但是目标值都是整数，所以要对目标值也进行标准化，使它们处于同一个量纲\n",
    "y_train = y_train.reshape(-1,1)\n",
    "y_test = y_test.reshape(-1,1)\n",
    "y_std = StandardScaler()\n",
    "y_train = y_std.fit_transform(y_train)\n",
    "y_test = y_std.transform(y_test)"
   ],
   "metadata": {
    "collapsed": false,
    "pycharm": {
     "name": "#%%\n"
    }
   }
  },
  {
   "cell_type": "code",
   "execution_count": 61,
   "outputs": [
    {
     "name": "stdout",
     "output_type": "stream",
     "text": [
      "[[ 1.28168690e-01]\n",
      " [ 2.36912665e-01]\n",
      " [-1.65440042e-01]\n",
      " [-5.13420761e-01]\n",
      " [ 2.81414486e+00]\n",
      " [ 2.27042499e+00]\n",
      " [-2.32407967e-03]\n",
      " [ 6.28390973e-01]\n",
      " [-1.76314439e-01]\n",
      " [ 2.79239607e+00]\n",
      " [-1.03539184e+00]\n",
      " [ 5.30521396e-01]\n",
      " [-9.37522262e-01]\n",
      " [ 2.97726083e+00]\n",
      " [-1.98063234e-01]\n",
      " [ 2.30304818e+00]\n",
      " [-4.48174376e-01]\n",
      " [-1.16588461e+00]\n",
      " [-1.21942452e-01]\n",
      " [ 1.47659398e+00]\n",
      " [ 9.76371692e-01]\n",
      " [-4.80797568e-01]\n",
      " [-1.02451744e+00]\n",
      " [ 1.93415075e-01]\n",
      " [-8.39652684e-01]\n",
      " [-6.75704645e-02]\n",
      " [ 9.21999705e-01]\n",
      " [-1.11068054e-01]\n",
      " [-9.04899069e-01]\n",
      " [ 4.32651819e-01]\n",
      " [ 2.41179216e+00]\n",
      " [-8.72275877e-01]\n",
      " [-1.00193657e-01]\n",
      " [-6.43913530e-01]\n",
      " [ 9.55454975e-02]\n",
      " [-5.89541543e-01]\n",
      " [ 1.16123645e+00]\n",
      " [ 2.61840571e+00]\n",
      " [ 1.15036205e+00]\n",
      " [-2.95932811e-01]\n",
      " [-4.37299978e-01]\n",
      " [ 2.36912665e-01]\n",
      " [-2.95932811e-01]\n",
      " [-1.07888943e+00]\n",
      " [ 5.20479077e-02]\n",
      " [-2.85058414e-01]\n",
      " [ 2.97726083e+00]\n",
      " [ 2.58661459e-01]\n",
      " [ 4.10903024e-01]\n",
      " [ 2.97726083e+00]\n",
      " [-4.48174376e-01]\n",
      " [-1.67698129e+00]\n",
      " [ 7.37967026e-02]\n",
      " [-8.39652684e-01]\n",
      " [ 9.65497295e-01]\n",
      " [-8.72275877e-01]\n",
      " [-2.74184016e-01]\n",
      " [ 1.39043087e-01]\n",
      " [-1.14413581e+00]\n",
      " [-3.28556004e-01]\n",
      " [-4.91671966e-01]\n",
      " [-3.50304799e-01]\n",
      " [-3.49472721e-02]\n",
      " [-9.15773467e-01]\n",
      " [-2.19812029e-01]\n",
      " [-1.18763340e+00]\n",
      " [-2.40728746e-02]\n",
      " [-7.52657505e-01]\n",
      " [-1.53561412e+00]\n",
      " [-6.75704645e-02]\n",
      " [-2.52435221e-01]\n",
      " [-1.21942452e-01]\n",
      " [-5.46043953e-01]\n",
      " [-1.41599575e+00]\n",
      " [-7.84448619e-02]\n",
      " [-1.31812617e+00]\n",
      " [-9.48396659e-01]\n",
      " [-3.17681606e-01]\n",
      " [ 4.11735102e-02]\n",
      " [-1.23113099e+00]\n",
      " [ 1.09599006e+00]\n",
      " [-3.82927991e-01]\n",
      " [ 4.32651819e-01]\n",
      " [-3.39430401e-01]\n",
      " [-5.02546363e-01]\n",
      " [ 1.66145873e+00]\n",
      " [-3.39430401e-01]\n",
      " [ 1.11773886e+00]\n",
      " [ 7.80632538e-01]\n",
      " [ 6.93637358e-01]\n",
      " [ 4.87023806e-01]\n",
      " [ 2.26038267e-01]\n",
      " [ 1.60791882e-01]\n",
      " [-8.83150274e-01]\n",
      " [-1.16588461e+00]\n",
      " [-1.07888943e+00]\n",
      " [-6.75704645e-02]\n",
      " [ 2.97726083e+00]\n",
      " [-1.28550298e+00]\n",
      " [ 8.35004525e-01]\n",
      " [-4.58216695e-02]\n",
      " [-1.08976383e+00]\n",
      " [-2.63309619e-01]\n",
      " [-3.17681606e-01]\n",
      " [-4.15551183e-01]\n",
      " [-9.26647864e-01]\n",
      " [-7.20034312e-01]\n",
      " [ 4.76149409e-01]\n",
      " [ 6.06642178e-01]\n",
      " [ 1.93415075e-01]\n",
      " [-2.74184016e-01]\n",
      " [ 8.89376512e-01]\n",
      " [-2.30686426e-01]\n",
      " [ 5.20479077e-02]\n",
      " [-1.00193657e-01]\n",
      " [ 2.97726083e+00]\n",
      " [-3.28556004e-01]\n",
      " [-1.98063234e-01]\n",
      " [ 5.95767781e-01]\n",
      " [-4.48174376e-01]\n",
      " [ 7.37967026e-02]\n",
      " [-1.91621803e+00]\n",
      " [-5.67792748e-01]\n",
      " [-9.81019851e-01]\n",
      " [ 1.46571958e+00]\n",
      " [ 2.97726083e+00]\n",
      " [-7.63531902e-01]\n",
      " [-1.85097165e+00]\n",
      " [ 1.33522681e+00]\n",
      " [ 7.37967026e-02]\n",
      " [-1.57911171e+00]\n",
      " [-1.76314439e-01]\n",
      " [-2.08937631e-01]\n",
      " [ 8.13255730e-01]\n",
      " [ 1.74845391e+00]\n",
      " [-2.52435221e-01]\n",
      " [ 2.97726083e+00]\n",
      " [ 2.15163870e-01]\n",
      " [-1.54565644e-01]\n",
      " [ 1.15036205e+00]\n",
      " [ 1.45484518e+00]\n",
      " [-4.15551183e-01]\n",
      " [-3.50304799e-01]\n",
      " [-1.00193657e-01]\n",
      " [ 4.43526216e-01]\n",
      " [ 1.17211085e+00]\n",
      " [ 6.28390973e-01]\n",
      " [-2.32407967e-03]\n",
      " [-3.72053593e-01]\n",
      " [-3.49472721e-02]\n",
      " [ 1.82540677e-01]\n",
      " [-1.32816849e-01]\n",
      " [-1.32816849e-01]\n",
      " [ 9.65497295e-01]\n",
      " [-7.84448619e-02]\n",
      " [-1.17675901e+00]\n",
      " [-6.00415940e-01]\n",
      " [ 1.94247153e-02]\n",
      " [ 1.60791882e-01]\n",
      " [-2.74184016e-01]\n",
      " [ 5.74018986e-01]\n",
      " [-1.67698129e+00]\n",
      " [-6.75704645e-02]\n",
      " [-9.59271057e-01]\n",
      " [-3.61179196e-01]\n",
      " [-3.28556004e-01]\n",
      " [ 1.38959880e+00]\n",
      " [-1.54565644e-01]\n",
      " [-3.50304799e-01]\n",
      " [ 1.60791882e-01]\n",
      " [ 6.29223051e-02]\n",
      " [-1.32900057e+00]\n",
      " [-2.63309619e-01]\n",
      " [ 8.13255730e-01]\n",
      " [-2.19812029e-01]\n",
      " [ 9.87246090e-01]\n",
      " [-5.67792748e-01]\n",
      " [-4.58216695e-02]\n",
      " [-4.04676786e-01]\n",
      " [ 1.01986928e+00]\n",
      " [-1.35074937e+00]\n",
      " [ 1.39043087e-01]\n",
      " [-2.41560824e-01]\n",
      " [ 8.13255730e-01]\n",
      " [-2.85058414e-01]\n",
      " [-1.31984771e-02]\n",
      " [ 9.32874102e-01]\n",
      " [-6.33039133e-01]\n",
      " [-3.06807209e-01]\n",
      " [-8.93192594e-02]\n",
      " [ 2.26038267e-01]\n",
      " [-1.42687015e+00]\n",
      " [ 1.93415075e-01]\n",
      " [-1.77485087e+00]\n",
      " [-1.69873008e+00]\n",
      " [ 9.76371692e-01]\n",
      " [-3.61179196e-01]\n",
      " [-9.59271057e-01]\n",
      " [-8.94024672e-01]\n",
      " [-1.07888943e+00]\n",
      " [ 1.38959880e+00]\n",
      " [ 3.02991127e-02]\n",
      " [ 6.29223051e-02]\n",
      " [ 2.58661459e-01]\n",
      " [ 1.49917485e-01]\n",
      " [-3.50304799e-01]\n",
      " [ 2.97726083e+00]\n",
      " [-6.76536722e-01]\n",
      " [ 1.94247153e-02]\n",
      " [-9.91894249e-01]\n",
      " [-1.01364304e+00]\n",
      " [-1.06801503e+00]\n",
      " [-8.28778287e-01]\n",
      " [ 3.02991127e-02]\n",
      " [-7.63531902e-01]\n",
      " [-1.54565644e-01]\n",
      " [-2.41560824e-01]\n",
      " [-2.41560824e-01]\n",
      " [-2.74184016e-01]\n",
      " [ 1.36785000e+00]\n",
      " [-6.33039133e-01]\n",
      " [-5.24295158e-01]\n",
      " [ 6.50139768e-01]\n",
      " [ 2.07468584e+00]\n",
      " [ 7.04511756e-01]\n",
      " [-2.19812029e-01]\n",
      " [ 2.97726083e+00]\n",
      " [-1.04626624e+00]\n",
      " [ 7.37134948e-01]\n",
      " [ 2.97726083e+00]\n",
      " [-4.04676786e-01]\n",
      " [-4.80797568e-01]\n",
      " [ 1.12861326e+00]\n",
      " [ 1.59621235e+00]\n",
      " [-1.00276865e+00]\n",
      " [ 1.62883554e+00]\n",
      " [-2.74184016e-01]\n",
      " [-4.04676786e-01]\n",
      " [ 8.56753320e-01]\n",
      " [ 6.29223051e-02]\n",
      " [-4.59048773e-01]\n",
      " [-7.09159915e-01]\n",
      " [ 1.07424127e+00]\n",
      " [-2.30686426e-01]\n",
      " [ 1.71666280e-01]\n",
      " [-1.31984771e-02]\n",
      " [ 1.82540677e-01]\n",
      " [ 2.58661459e-01]\n",
      " [ 7.80632538e-01]\n",
      " [-9.91894249e-01]\n",
      " [-9.48396659e-01]\n",
      " [ 1.30260362e+00]\n",
      " [ 1.13948765e+00]\n",
      " [-1.54648852e+00]\n",
      " [ 5.20479077e-02]\n",
      " [ 2.97726083e+00]\n",
      " [ 1.49834277e+00]\n",
      " [-1.00276865e+00]\n",
      " [-5.67792748e-01]\n",
      " [ 1.21560844e+00]\n",
      " [-3.28556004e-01]\n",
      " [-7.63531902e-01]\n",
      " [ 4.10903024e-01]\n",
      " [ 2.04289472e-01]\n",
      " [-2.40728746e-02]\n",
      " [ 2.58661459e-01]\n",
      " [ 2.36912665e-01]\n",
      " [-1.67698129e+00]\n",
      " [ 1.33522681e+00]\n",
      " [ 1.58533795e+00]\n",
      " [ 2.58661459e-01]\n",
      " [-1.26375419e+00]\n",
      " [-3.39430401e-01]\n",
      " [ 6.61014166e-01]\n",
      " [-4.58216695e-02]\n",
      " [ 2.32479698e+00]\n",
      " [ 1.17294292e-01]\n",
      " [-1.87188837e-01]\n",
      " [ 1.56358916e+00]\n",
      " [-1.11068054e-01]\n",
      " [ 4.11735102e-02]\n",
      " [-8.28778287e-01]\n",
      " [ 5.30521396e-01]\n",
      " [ 6.61014166e-01]\n",
      " [ 2.97726083e+00]\n",
      " [-3.39430401e-01]\n",
      " [ 5.20479077e-02]\n",
      " [ 6.93637358e-01]\n",
      " [-3.28556004e-01]\n",
      " [-5.89541543e-01]\n",
      " [-4.69923171e-01]\n",
      " [-5.56918350e-01]\n",
      " [ 1.06419895e-01]\n",
      " [ 5.84893383e-01]\n",
      " [ 1.47659398e+00]\n",
      " [-5.56918350e-01]\n",
      " [-1.64435810e+00]\n",
      " [-1.03539184e+00]\n",
      " [-1.65440042e-01]\n",
      " [-8.17903890e-01]\n",
      " [-1.01364304e+00]\n",
      " [-1.32816849e-01]\n",
      " [-5.56918350e-01]\n",
      " [-6.87411120e-01]\n",
      " [-1.03539184e+00]\n",
      " [ 5.30521396e-01]\n",
      " [-4.69923171e-01]\n",
      " [-1.65523249e+00]\n",
      " [ 1.94247153e-02]\n",
      " [-9.59271057e-01]\n",
      " [-4.26425581e-01]\n",
      " [-9.59271057e-01]\n",
      " [ 8.46711000e-02]\n",
      " [-3.06807209e-01]\n",
      " [-7.85280697e-01]\n",
      " [-1.17675901e+00]\n",
      " [ 5.20479077e-02]\n",
      " [-7.85280697e-01]\n",
      " [-8.07029492e-01]\n",
      " [-8.94024672e-01]\n",
      " [-4.26425581e-01]\n",
      " [ 3.89154229e-01]\n",
      " [ 1.28168690e-01]\n",
      " [ 3.02991127e-02]\n",
      " [ 2.58661459e-01]\n",
      " [-9.26647864e-01]\n",
      " [-9.04899069e-01]\n",
      " [-4.26425581e-01]\n",
      " [ 2.19430421e+00]\n",
      " [-6.54787928e-01]\n",
      " [-3.93802388e-01]\n",
      " [-1.54565644e-01]\n",
      " [ 2.58661459e-01]\n",
      " [-1.53561412e+00]\n",
      " [-5.24295158e-01]\n",
      " [-2.95932811e-01]\n",
      " [ 1.35697560e+00]\n",
      " [ 1.17294292e-01]\n",
      " [-8.83150274e-01]\n",
      " [-2.32407967e-03]\n",
      " [-7.63531902e-01]\n",
      " [ 4.87023806e-01]\n",
      " [ 7.04511756e-01]\n",
      " [ 1.01986928e+00]\n",
      " [-1.55736292e+00]\n",
      " [-2.52435221e-01]\n",
      " [-1.00193657e-01]\n",
      " [ 1.39043087e-01]\n",
      " [-1.00193657e-01]\n",
      " [-1.76314439e-01]\n",
      " [ 2.97726083e+00]\n",
      " [-1.54565644e-01]\n",
      " [-8.50527082e-01]\n",
      " [ 5.20479077e-02]\n",
      " [-4.59048773e-01]\n",
      " [ 1.28168690e-01]\n",
      " [-6.65662325e-01]\n",
      " [-1.12238702e+00]\n",
      " [-1.55736292e+00]\n",
      " [ 6.39265371e-01]\n",
      " [-1.00276865e+00]\n",
      " [ 2.58661459e-01]\n",
      " [ 6.29223051e-02]\n",
      " [-3.61179196e-01]\n",
      " [ 7.58883743e-01]\n",
      " [-4.80797568e-01]\n",
      " [-7.63531902e-01]\n",
      " [-1.15501021e+00]\n",
      " [-2.19812029e-01]\n",
      " [-1.32816849e-01]\n",
      " [-1.40512135e+00]\n",
      " [ 1.39043087e-01]\n",
      " [-9.81019851e-01]\n",
      " [ 8.55031780e-03]\n",
      " [-5.24295158e-01]\n",
      " [-9.26647864e-01]\n",
      " [ 2.36912665e-01]\n",
      " [ 4.11735102e-02]\n",
      " [-9.59271057e-01]]\n",
      "------------------------------\n",
      "[[ 1.39043087e-01]\n",
      " [ 7.91506935e-01]\n",
      " [ 2.04289472e-01]\n",
      " [ 5.30521396e-01]\n",
      " [-4.59048773e-01]\n",
      " [-2.85058414e-01]\n",
      " [-8.93192594e-02]\n",
      " [-4.48174376e-01]\n",
      " [-4.58216695e-02]\n",
      " [ 2.03118825e+00]\n",
      " [-3.61179196e-01]\n",
      " [ 1.17294292e-01]\n",
      " [-6.98285517e-01]\n",
      " [-6.00415940e-01]\n",
      " [ 2.97726083e+00]\n",
      " [-7.09159915e-01]\n",
      " [-5.24295158e-01]\n",
      " [-8.83150274e-01]\n",
      " [ 1.31347801e+00]\n",
      " [ 8.46711000e-02]\n",
      " [-7.09159915e-01]\n",
      " [ 9.11125307e-01]\n",
      " [ 4.11735102e-02]\n",
      " [-3.82927991e-01]\n",
      " [ 1.86807228e+00]\n",
      " [-2.32407967e-03]\n",
      " [ 1.33522681e+00]\n",
      " [ 1.17294292e-01]\n",
      " [-1.27462858e+00]\n",
      " [-5.89541543e-01]\n",
      " [ 8.78502115e-01]\n",
      " [-5.78667145e-01]\n",
      " [ 2.13993222e+00]\n",
      " [-1.50299093e+00]\n",
      " [-8.07029492e-01]\n",
      " [-3.82927991e-01]\n",
      " [-1.91621803e+00]\n",
      " [-3.82927991e-01]\n",
      " [ 2.54228493e+00]\n",
      " [ 1.17211085e+00]\n",
      " [ 1.28168690e-01]\n",
      " [-8.39652684e-01]\n",
      " [-7.84448619e-02]\n",
      " [-1.35074937e+00]\n",
      " [-2.19812029e-01]\n",
      " [ 1.49917485e-01]\n",
      " [-7.96155095e-01]\n",
      " [-3.72053593e-01]\n",
      " [-2.85058414e-01]\n",
      " [-8.28778287e-01]\n",
      " [-1.69873008e+00]\n",
      " [ 2.80410254e-01]\n",
      " [ 2.69535857e-01]\n",
      " [-1.03539184e+00]\n",
      " [-1.51386533e+00]\n",
      " [ 1.50921717e+00]\n",
      " [ 5.74018986e-01]\n",
      " [-3.06807209e-01]\n",
      " [-5.24295158e-01]\n",
      " [ 7.37967026e-02]\n",
      " [-1.98063234e-01]\n",
      " [-4.04676786e-01]\n",
      " [-2.41560824e-01]\n",
      " [ 2.47703854e+00]\n",
      " [-2.32407967e-03]\n",
      " [-1.10063822e+00]\n",
      " [-1.00276865e+00]\n",
      " [-1.31812617e+00]\n",
      " [ 2.97726083e+00]\n",
      " [-1.00193657e-01]\n",
      " [-1.35074937e+00]\n",
      " [-4.58216695e-02]\n",
      " [ 2.84676806e+00]\n",
      " [-6.75704645e-02]\n",
      " [ 2.22692740e+00]\n",
      " [-5.66960670e-02]\n",
      " [ 3.02991127e-02]\n",
      " [-4.37299978e-01]\n",
      " [ 2.91284652e-01]\n",
      " [-6.65662325e-01]\n",
      " [ 6.61014166e-01]\n",
      " [-2.85058414e-01]\n",
      " [ 1.93415075e-01]\n",
      " [ 1.04161808e+00]\n",
      " [ 1.94247153e-02]\n",
      " [-1.32816849e-01]\n",
      " [ 1.06419895e-01]\n",
      " [-2.08937631e-01]\n",
      " [ 4.21777421e-01]\n",
      " [-2.30686426e-01]\n",
      " [-3.50304799e-01]\n",
      " [-1.00193657e-01]\n",
      " [-8.07029492e-01]\n",
      " [-1.32900057e+00]\n",
      " [-1.54648852e+00]\n",
      " [-2.95932811e-01]\n",
      " [ 7.58883743e-01]\n",
      " [-1.18763340e+00]\n",
      " [-6.43913530e-01]\n",
      " [-6.75704645e-02]\n",
      " [-1.01364304e+00]\n",
      " [-6.00415940e-01]\n",
      " [ 8.55031780e-03]\n",
      " [-3.50304799e-01]\n",
      " [-6.75704645e-02]\n",
      " [ 1.06336687e+00]\n",
      " [-6.54787928e-01]\n",
      " [-3.61179196e-01]\n",
      " [ 1.13948765e+00]\n",
      " [ 2.97726083e+00]\n",
      " [-6.98285517e-01]\n",
      " [-2.19812029e-01]\n",
      " [-6.11290338e-01]\n",
      " [ 5.20479077e-02]\n",
      " [-3.93802388e-01]\n",
      " [-1.87188837e-01]\n",
      " [ 2.04289472e-01]\n",
      " [ 2.26038267e-01]\n",
      " [-2.52435221e-01]\n",
      " [-1.20938220e+00]\n",
      " [-1.27462858e+00]\n",
      " [-1.50299093e+00]\n",
      " [ 2.15163870e-01]\n",
      " [-5.35169555e-01]\n",
      " [-1.31984771e-02]\n",
      " [ 4.32651819e-01]\n",
      " [ 1.82540677e-01]]\n"
     ]
    }
   ],
   "source": [
    "print(y_train)\n",
    "print('-' * 30)\n",
    "print(y_test)"
   ],
   "metadata": {
    "collapsed": false,
    "pycharm": {
     "name": "#%%\n"
    }
   }
  },
  {
   "cell_type": "code",
   "execution_count": 62,
   "outputs": [
    {
     "data": {
      "text/plain": "LinearRegression()",
      "text/html": "<style>#sk-container-id-8 {color: black;background-color: white;}#sk-container-id-8 pre{padding: 0;}#sk-container-id-8 div.sk-toggleable {background-color: white;}#sk-container-id-8 label.sk-toggleable__label {cursor: pointer;display: block;width: 100%;margin-bottom: 0;padding: 0.3em;box-sizing: border-box;text-align: center;}#sk-container-id-8 label.sk-toggleable__label-arrow:before {content: \"▸\";float: left;margin-right: 0.25em;color: #696969;}#sk-container-id-8 label.sk-toggleable__label-arrow:hover:before {color: black;}#sk-container-id-8 div.sk-estimator:hover label.sk-toggleable__label-arrow:before {color: black;}#sk-container-id-8 div.sk-toggleable__content {max-height: 0;max-width: 0;overflow: hidden;text-align: left;background-color: #f0f8ff;}#sk-container-id-8 div.sk-toggleable__content pre {margin: 0.2em;color: black;border-radius: 0.25em;background-color: #f0f8ff;}#sk-container-id-8 input.sk-toggleable__control:checked~div.sk-toggleable__content {max-height: 200px;max-width: 100%;overflow: auto;}#sk-container-id-8 input.sk-toggleable__control:checked~label.sk-toggleable__label-arrow:before {content: \"▾\";}#sk-container-id-8 div.sk-estimator input.sk-toggleable__control:checked~label.sk-toggleable__label {background-color: #d4ebff;}#sk-container-id-8 div.sk-label input.sk-toggleable__control:checked~label.sk-toggleable__label {background-color: #d4ebff;}#sk-container-id-8 input.sk-hidden--visually {border: 0;clip: rect(1px 1px 1px 1px);clip: rect(1px, 1px, 1px, 1px);height: 1px;margin: -1px;overflow: hidden;padding: 0;position: absolute;width: 1px;}#sk-container-id-8 div.sk-estimator {font-family: monospace;background-color: #f0f8ff;border: 1px dotted black;border-radius: 0.25em;box-sizing: border-box;margin-bottom: 0.5em;}#sk-container-id-8 div.sk-estimator:hover {background-color: #d4ebff;}#sk-container-id-8 div.sk-parallel-item::after {content: \"\";width: 100%;border-bottom: 1px solid gray;flex-grow: 1;}#sk-container-id-8 div.sk-label:hover label.sk-toggleable__label {background-color: #d4ebff;}#sk-container-id-8 div.sk-serial::before {content: \"\";position: absolute;border-left: 1px solid gray;box-sizing: border-box;top: 0;bottom: 0;left: 50%;z-index: 0;}#sk-container-id-8 div.sk-serial {display: flex;flex-direction: column;align-items: center;background-color: white;padding-right: 0.2em;padding-left: 0.2em;position: relative;}#sk-container-id-8 div.sk-item {position: relative;z-index: 1;}#sk-container-id-8 div.sk-parallel {display: flex;align-items: stretch;justify-content: center;background-color: white;position: relative;}#sk-container-id-8 div.sk-item::before, #sk-container-id-8 div.sk-parallel-item::before {content: \"\";position: absolute;border-left: 1px solid gray;box-sizing: border-box;top: 0;bottom: 0;left: 50%;z-index: -1;}#sk-container-id-8 div.sk-parallel-item {display: flex;flex-direction: column;z-index: 1;position: relative;background-color: white;}#sk-container-id-8 div.sk-parallel-item:first-child::after {align-self: flex-end;width: 50%;}#sk-container-id-8 div.sk-parallel-item:last-child::after {align-self: flex-start;width: 50%;}#sk-container-id-8 div.sk-parallel-item:only-child::after {width: 0;}#sk-container-id-8 div.sk-dashed-wrapped {border: 1px dashed gray;margin: 0 0.4em 0.5em 0.4em;box-sizing: border-box;padding-bottom: 0.4em;background-color: white;}#sk-container-id-8 div.sk-label label {font-family: monospace;font-weight: bold;display: inline-block;line-height: 1.2em;}#sk-container-id-8 div.sk-label-container {text-align: center;}#sk-container-id-8 div.sk-container {/* jupyter's `normalize.less` sets `[hidden] { display: none; }` but bootstrap.min.css set `[hidden] { display: none !important; }` so we also need the `!important` here to be able to override the default hidden behavior on the sphinx rendered scikit-learn.org. See: https://github.com/scikit-learn/scikit-learn/issues/21755 */display: inline-block !important;position: relative;}#sk-container-id-8 div.sk-text-repr-fallback {display: none;}</style><div id=\"sk-container-id-8\" class=\"sk-top-container\"><div class=\"sk-text-repr-fallback\"><pre>LinearRegression()</pre><b>In a Jupyter environment, please rerun this cell to show the HTML representation or trust the notebook. <br />On GitHub, the HTML representation is unable to render, please try loading this page with nbviewer.org.</b></div><div class=\"sk-container\" hidden><div class=\"sk-item\"><div class=\"sk-estimator sk-toggleable\"><input class=\"sk-toggleable__control sk-hidden--visually\" id=\"sk-estimator-id-8\" type=\"checkbox\" checked><label for=\"sk-estimator-id-8\" class=\"sk-toggleable__label sk-toggleable__label-arrow\">LinearRegression</label><div class=\"sk-toggleable__content\"><pre>LinearRegression()</pre></div></div></div></div></div>"
     },
     "execution_count": 62,
     "metadata": {},
     "output_type": "execute_result"
    }
   ],
   "source": [
    "# 利用线性回归算法进行训练\n",
    "linear = LinearRegression()\n",
    "linear.fit(x_train,y_train)"
   ],
   "metadata": {
    "collapsed": false,
    "pycharm": {
     "name": "#%%\n"
    }
   }
  },
  {
   "cell_type": "code",
   "execution_count": 63,
   "outputs": [],
   "source": [
    "# 计算预测值\n",
    "y_predict = linear.predict(x_test)"
   ],
   "metadata": {
    "collapsed": false,
    "pycharm": {
     "name": "#%%\n"
    }
   }
  },
  {
   "cell_type": "code",
   "execution_count": 64,
   "outputs": [
    {
     "name": "stdout",
     "output_type": "stream",
     "text": [
      "0.24392554883406567\n"
     ]
    }
   ],
   "source": [
    "# 模型评估,计算损失函数\n",
    "error = mean_squared_error(y_test,y_predict)\n",
    "print(error) # 把目标值进行标准化之后，mse从22下降到0.24"
   ],
   "metadata": {
    "collapsed": false,
    "pycharm": {
     "name": "#%%\n"
    }
   }
  },
  {
   "cell_type": "code",
   "execution_count": 21,
   "outputs": [
    {
     "name": "stdout",
     "output_type": "stream",
     "text": [
      "[-0.39752555  0.92469847  0.13115792  0.37677572 -1.94801169  2.96568984\n",
      "  0.02786307 -2.80712543  2.75718715 -2.25871899 -2.25102836  1.18245304\n",
      " -3.43204224]\n",
      "22.980211081794216\n"
     ]
    }
   ],
   "source": [
    "# 查看回归系数和偏置\n",
    "# 回归系数：正值：随着x的增大，y也增加   负值：随着x的增大，y值减小\n",
    "print(linear.coef_)\n",
    "print(linear.intercept_)"
   ],
   "metadata": {
    "collapsed": false,
    "pycharm": {
     "name": "#%%\n"
    }
   }
  },
  {
   "cell_type": "code",
   "execution_count": 65,
   "outputs": [
    {
     "name": "stdout",
     "output_type": "stream",
     "text": [
      "[[28.22944896]\n",
      " [31.5122308 ]\n",
      " [21.11612841]\n",
      " [32.6663189 ]\n",
      " [20.0023467 ]\n",
      " [19.07315705]\n",
      " [21.09772798]\n",
      " [19.61400153]\n",
      " [19.61907059]\n",
      " [32.87611987]\n",
      " [20.97911561]\n",
      " [27.52898011]\n",
      " [15.54701758]\n",
      " [19.78630176]\n",
      " [36.88641203]\n",
      " [18.81202132]\n",
      " [ 9.35912225]\n",
      " [18.49452615]\n",
      " [30.66499315]\n",
      " [24.30184448]\n",
      " [19.08220837]\n",
      " [34.11391208]\n",
      " [29.81386585]\n",
      " [17.51775647]\n",
      " [34.91026707]\n",
      " [26.54967053]\n",
      " [34.71035391]\n",
      " [27.4268996 ]\n",
      " [19.09095832]\n",
      " [14.92742976]\n",
      " [30.86877936]\n",
      " [15.88271775]\n",
      " [37.17548808]\n",
      " [ 7.72101675]\n",
      " [16.24074861]\n",
      " [17.19211608]\n",
      " [ 7.42140081]\n",
      " [20.0098852 ]\n",
      " [40.58481466]\n",
      " [28.93190595]\n",
      " [25.25404307]\n",
      " [17.74970308]\n",
      " [38.76446932]\n",
      " [ 6.87996052]\n",
      " [21.80450956]\n",
      " [25.29110265]\n",
      " [20.427491  ]\n",
      " [20.4698034 ]\n",
      " [17.25330064]\n",
      " [26.12442519]\n",
      " [ 8.48268143]\n",
      " [27.50871869]\n",
      " [30.58284841]\n",
      " [16.56039764]\n",
      " [ 9.38919181]\n",
      " [35.54434377]\n",
      " [32.29801978]\n",
      " [21.81298945]\n",
      " [17.60263689]\n",
      " [22.0804256 ]\n",
      " [23.49262401]\n",
      " [24.10617033]\n",
      " [20.1346492 ]\n",
      " [38.5268066 ]\n",
      " [24.58319594]\n",
      " [19.78072415]\n",
      " [13.93429891]\n",
      " [ 6.75507808]\n",
      " [42.03759064]\n",
      " [21.9215625 ]\n",
      " [16.91352899]\n",
      " [22.58327744]\n",
      " [40.76440704]\n",
      " [21.3998946 ]\n",
      " [36.89912238]\n",
      " [27.19273661]\n",
      " [20.97945544]\n",
      " [20.37925063]\n",
      " [25.3536439 ]\n",
      " [22.18729123]\n",
      " [31.13342301]\n",
      " [20.39451125]\n",
      " [23.99224334]\n",
      " [31.54729547]\n",
      " [26.74581308]\n",
      " [20.90199941]\n",
      " [29.08225233]\n",
      " [21.98331503]\n",
      " [26.29101202]\n",
      " [20.17329401]\n",
      " [25.49225305]\n",
      " [24.09171045]\n",
      " [19.90739221]\n",
      " [16.35154974]\n",
      " [15.25184758]\n",
      " [18.40766132]\n",
      " [24.83797801]\n",
      " [16.61703662]\n",
      " [20.89470344]\n",
      " [26.70854061]\n",
      " [20.7591883 ]\n",
      " [17.88403312]\n",
      " [24.28656105]\n",
      " [23.37651493]\n",
      " [21.64202047]\n",
      " [36.81476219]\n",
      " [15.86570054]\n",
      " [21.42338732]\n",
      " [32.81366203]\n",
      " [33.74086414]\n",
      " [20.61688336]\n",
      " [26.88191023]\n",
      " [22.65739323]\n",
      " [17.35731771]\n",
      " [21.67699248]\n",
      " [21.65034728]\n",
      " [27.66728556]\n",
      " [25.04691687]\n",
      " [23.73976625]\n",
      " [14.6649641 ]\n",
      " [15.17700342]\n",
      " [ 3.81620663]\n",
      " [29.18194848]\n",
      " [20.68544417]\n",
      " [22.32934783]\n",
      " [28.01568563]\n",
      " [28.58237108]]\n"
     ]
    }
   ],
   "source": [
    "# 查看具体的房价,因为目标值进行了标准化\n",
    "# 所以得出的房价是标准化之后的房价\n",
    "# 要转换成标准化之前房价才是真实的房价\n",
    "predict_house_price = y_std.inverse_transform(y_predict)\n",
    "print(predict_house_price)"
   ],
   "metadata": {
    "collapsed": false,
    "pycharm": {
     "name": "#%%\n"
    }
   }
  },
  {
   "cell_type": "code",
   "execution_count": 73,
   "outputs": [],
   "source": [
    "# 保存模型\n",
    "joblib.dump(linear,\"./test.pkl\")"
   ],
   "metadata": {
    "collapsed": false,
    "pycharm": {
     "name": "#%%\n"
    }
   }
  },
  {
   "cell_type": "code",
   "execution_count": 75,
   "outputs": [
    {
     "name": "stdout",
     "output_type": "stream",
     "text": [
      "[[28.22944896]\n",
      " [31.5122308 ]\n",
      " [21.11612841]\n",
      " [32.6663189 ]\n",
      " [20.0023467 ]\n",
      " [19.07315705]\n",
      " [21.09772798]\n",
      " [19.61400153]\n",
      " [19.61907059]\n",
      " [32.87611987]\n",
      " [20.97911561]\n",
      " [27.52898011]\n",
      " [15.54701758]\n",
      " [19.78630176]\n",
      " [36.88641203]\n",
      " [18.81202132]\n",
      " [ 9.35912225]\n",
      " [18.49452615]\n",
      " [30.66499315]\n",
      " [24.30184448]\n",
      " [19.08220837]\n",
      " [34.11391208]\n",
      " [29.81386585]\n",
      " [17.51775647]\n",
      " [34.91026707]\n",
      " [26.54967053]\n",
      " [34.71035391]\n",
      " [27.4268996 ]\n",
      " [19.09095832]\n",
      " [14.92742976]\n",
      " [30.86877936]\n",
      " [15.88271775]\n",
      " [37.17548808]\n",
      " [ 7.72101675]\n",
      " [16.24074861]\n",
      " [17.19211608]\n",
      " [ 7.42140081]\n",
      " [20.0098852 ]\n",
      " [40.58481466]\n",
      " [28.93190595]\n",
      " [25.25404307]\n",
      " [17.74970308]\n",
      " [38.76446932]\n",
      " [ 6.87996052]\n",
      " [21.80450956]\n",
      " [25.29110265]\n",
      " [20.427491  ]\n",
      " [20.4698034 ]\n",
      " [17.25330064]\n",
      " [26.12442519]\n",
      " [ 8.48268143]\n",
      " [27.50871869]\n",
      " [30.58284841]\n",
      " [16.56039764]\n",
      " [ 9.38919181]\n",
      " [35.54434377]\n",
      " [32.29801978]\n",
      " [21.81298945]\n",
      " [17.60263689]\n",
      " [22.0804256 ]\n",
      " [23.49262401]\n",
      " [24.10617033]\n",
      " [20.1346492 ]\n",
      " [38.5268066 ]\n",
      " [24.58319594]\n",
      " [19.78072415]\n",
      " [13.93429891]\n",
      " [ 6.75507808]\n",
      " [42.03759064]\n",
      " [21.9215625 ]\n",
      " [16.91352899]\n",
      " [22.58327744]\n",
      " [40.76440704]\n",
      " [21.3998946 ]\n",
      " [36.89912238]\n",
      " [27.19273661]\n",
      " [20.97945544]\n",
      " [20.37925063]\n",
      " [25.3536439 ]\n",
      " [22.18729123]\n",
      " [31.13342301]\n",
      " [20.39451125]\n",
      " [23.99224334]\n",
      " [31.54729547]\n",
      " [26.74581308]\n",
      " [20.90199941]\n",
      " [29.08225233]\n",
      " [21.98331503]\n",
      " [26.29101202]\n",
      " [20.17329401]\n",
      " [25.49225305]\n",
      " [24.09171045]\n",
      " [19.90739221]\n",
      " [16.35154974]\n",
      " [15.25184758]\n",
      " [18.40766132]\n",
      " [24.83797801]\n",
      " [16.61703662]\n",
      " [20.89470344]\n",
      " [26.70854061]\n",
      " [20.7591883 ]\n",
      " [17.88403312]\n",
      " [24.28656105]\n",
      " [23.37651493]\n",
      " [21.64202047]\n",
      " [36.81476219]\n",
      " [15.86570054]\n",
      " [21.42338732]\n",
      " [32.81366203]\n",
      " [33.74086414]\n",
      " [20.61688336]\n",
      " [26.88191023]\n",
      " [22.65739323]\n",
      " [17.35731771]\n",
      " [21.67699248]\n",
      " [21.65034728]\n",
      " [27.66728556]\n",
      " [25.04691687]\n",
      " [23.73976625]\n",
      " [14.6649641 ]\n",
      " [15.17700342]\n",
      " [ 3.81620663]\n",
      " [29.18194848]\n",
      " [20.68544417]\n",
      " [22.32934783]\n",
      " [28.01568563]\n",
      " [28.58237108]]\n"
     ]
    }
   ],
   "source": [
    "# 加载模型\n",
    "model = joblib.load(\"./test.pkl\")\n",
    "y_predict = model.predict(x_test)\n",
    "real_predict = y_std.inverse_transform(y_predict)\n",
    "print(real_predict)"
   ],
   "metadata": {
    "collapsed": false,
    "pycharm": {
     "name": "#%%\n"
    }
   }
  },
  {
   "cell_type": "markdown",
   "source": [
    "利用梯度下降进行线性回归"
   ],
   "metadata": {
    "collapsed": false,
    "pycharm": {
     "name": "#%% md\n"
    }
   }
  },
  {
   "cell_type": "code",
   "execution_count": 149,
   "outputs": [],
   "source": [
    "# 利用随机梯度下降进行训练\n",
    "# sgd = SGDRegressor(eta0=0.009,penalty='l2',alpha=0.003) # 0.2616131486429884\n",
    "# sgd = SGDRegressor(eta0=0.009,penalty='l1',alpha=0.002) # 0.25727545072652397\n",
    "# sgd = SGDRegressor(eta0=0.009,penalty='l1',alpha=0.0005) # 0.25517272482694303\n",
    "# sgd = SGDRegressor(eta0=0.011,penalty='l1',alpha=0.0005) # 0.25308785644460946\n",
    "sgd = SGDRegressor(eta0=0.011,penalty='l1',alpha=0.0005)"
   ],
   "metadata": {
    "collapsed": false,
    "pycharm": {
     "name": "#%%\n"
    }
   }
  },
  {
   "cell_type": "code",
   "execution_count": 150,
   "outputs": [
    {
     "name": "stderr",
     "output_type": "stream",
     "text": [
      "/Library/Frameworks/Python.framework/Versions/3.8/lib/python3.8/site-packages/sklearn/utils/validation.py:1111: DataConversionWarning: A column-vector y was passed when a 1d array was expected. Please change the shape of y to (n_samples, ), for example using ravel().\n",
      "  y = column_or_1d(y, warn=True)\n"
     ]
    },
    {
     "data": {
      "text/plain": "SGDRegressor(alpha=0.0007, eta0=0.011, penalty='l1')",
      "text/html": "<style>#sk-container-id-27 {color: black;background-color: white;}#sk-container-id-27 pre{padding: 0;}#sk-container-id-27 div.sk-toggleable {background-color: white;}#sk-container-id-27 label.sk-toggleable__label {cursor: pointer;display: block;width: 100%;margin-bottom: 0;padding: 0.3em;box-sizing: border-box;text-align: center;}#sk-container-id-27 label.sk-toggleable__label-arrow:before {content: \"▸\";float: left;margin-right: 0.25em;color: #696969;}#sk-container-id-27 label.sk-toggleable__label-arrow:hover:before {color: black;}#sk-container-id-27 div.sk-estimator:hover label.sk-toggleable__label-arrow:before {color: black;}#sk-container-id-27 div.sk-toggleable__content {max-height: 0;max-width: 0;overflow: hidden;text-align: left;background-color: #f0f8ff;}#sk-container-id-27 div.sk-toggleable__content pre {margin: 0.2em;color: black;border-radius: 0.25em;background-color: #f0f8ff;}#sk-container-id-27 input.sk-toggleable__control:checked~div.sk-toggleable__content {max-height: 200px;max-width: 100%;overflow: auto;}#sk-container-id-27 input.sk-toggleable__control:checked~label.sk-toggleable__label-arrow:before {content: \"▾\";}#sk-container-id-27 div.sk-estimator input.sk-toggleable__control:checked~label.sk-toggleable__label {background-color: #d4ebff;}#sk-container-id-27 div.sk-label input.sk-toggleable__control:checked~label.sk-toggleable__label {background-color: #d4ebff;}#sk-container-id-27 input.sk-hidden--visually {border: 0;clip: rect(1px 1px 1px 1px);clip: rect(1px, 1px, 1px, 1px);height: 1px;margin: -1px;overflow: hidden;padding: 0;position: absolute;width: 1px;}#sk-container-id-27 div.sk-estimator {font-family: monospace;background-color: #f0f8ff;border: 1px dotted black;border-radius: 0.25em;box-sizing: border-box;margin-bottom: 0.5em;}#sk-container-id-27 div.sk-estimator:hover {background-color: #d4ebff;}#sk-container-id-27 div.sk-parallel-item::after {content: \"\";width: 100%;border-bottom: 1px solid gray;flex-grow: 1;}#sk-container-id-27 div.sk-label:hover label.sk-toggleable__label {background-color: #d4ebff;}#sk-container-id-27 div.sk-serial::before {content: \"\";position: absolute;border-left: 1px solid gray;box-sizing: border-box;top: 0;bottom: 0;left: 50%;z-index: 0;}#sk-container-id-27 div.sk-serial {display: flex;flex-direction: column;align-items: center;background-color: white;padding-right: 0.2em;padding-left: 0.2em;position: relative;}#sk-container-id-27 div.sk-item {position: relative;z-index: 1;}#sk-container-id-27 div.sk-parallel {display: flex;align-items: stretch;justify-content: center;background-color: white;position: relative;}#sk-container-id-27 div.sk-item::before, #sk-container-id-27 div.sk-parallel-item::before {content: \"\";position: absolute;border-left: 1px solid gray;box-sizing: border-box;top: 0;bottom: 0;left: 50%;z-index: -1;}#sk-container-id-27 div.sk-parallel-item {display: flex;flex-direction: column;z-index: 1;position: relative;background-color: white;}#sk-container-id-27 div.sk-parallel-item:first-child::after {align-self: flex-end;width: 50%;}#sk-container-id-27 div.sk-parallel-item:last-child::after {align-self: flex-start;width: 50%;}#sk-container-id-27 div.sk-parallel-item:only-child::after {width: 0;}#sk-container-id-27 div.sk-dashed-wrapped {border: 1px dashed gray;margin: 0 0.4em 0.5em 0.4em;box-sizing: border-box;padding-bottom: 0.4em;background-color: white;}#sk-container-id-27 div.sk-label label {font-family: monospace;font-weight: bold;display: inline-block;line-height: 1.2em;}#sk-container-id-27 div.sk-label-container {text-align: center;}#sk-container-id-27 div.sk-container {/* jupyter's `normalize.less` sets `[hidden] { display: none; }` but bootstrap.min.css set `[hidden] { display: none !important; }` so we also need the `!important` here to be able to override the default hidden behavior on the sphinx rendered scikit-learn.org. See: https://github.com/scikit-learn/scikit-learn/issues/21755 */display: inline-block !important;position: relative;}#sk-container-id-27 div.sk-text-repr-fallback {display: none;}</style><div id=\"sk-container-id-27\" class=\"sk-top-container\"><div class=\"sk-text-repr-fallback\"><pre>SGDRegressor(alpha=0.0007, eta0=0.011, penalty=&#x27;l1&#x27;)</pre><b>In a Jupyter environment, please rerun this cell to show the HTML representation or trust the notebook. <br />On GitHub, the HTML representation is unable to render, please try loading this page with nbviewer.org.</b></div><div class=\"sk-container\" hidden><div class=\"sk-item\"><div class=\"sk-estimator sk-toggleable\"><input class=\"sk-toggleable__control sk-hidden--visually\" id=\"sk-estimator-id-27\" type=\"checkbox\" checked><label for=\"sk-estimator-id-27\" class=\"sk-toggleable__label sk-toggleable__label-arrow\">SGDRegressor</label><div class=\"sk-toggleable__content\"><pre>SGDRegressor(alpha=0.0007, eta0=0.011, penalty=&#x27;l1&#x27;)</pre></div></div></div></div></div>"
     },
     "execution_count": 150,
     "metadata": {},
     "output_type": "execute_result"
    }
   ],
   "source": [
    "sgd.fit(x_train,y_train)"
   ],
   "metadata": {
    "collapsed": false,
    "pycharm": {
     "name": "#%%\n"
    }
   }
  },
  {
   "cell_type": "code",
   "execution_count": 100,
   "outputs": [
    {
     "name": "stdout",
     "output_type": "stream",
     "text": [
      "21.30716625912824\n"
     ]
    }
   ],
   "source": [
    "# 目标值未进行标准化 # 21.30716625912824\n",
    "y_predict = sgd.predict(x_test)\n",
    "error = mean_squared_error(y_test,y_predict)\n",
    "print(error)"
   ],
   "metadata": {
    "collapsed": false,
    "pycharm": {
     "name": "#%%\n"
    }
   }
  },
  {
   "cell_type": "code",
   "execution_count": 151,
   "outputs": [
    {
     "name": "stdout",
     "output_type": "stream",
     "text": [
      "0.25838861014262077\n"
     ]
    }
   ],
   "source": [
    "# 目标值进行标准化之后，mse下降了很多\n",
    "y_predict = sgd.predict(x_test)\n",
    "error = mean_squared_error(y_test,y_predict)\n",
    "print(error)"
   ],
   "metadata": {
    "collapsed": false,
    "pycharm": {
     "name": "#%%\n"
    }
   }
  },
  {
   "cell_type": "markdown",
   "source": [
    "##  4.\tL1和L2正则化区别，正则化力度和权重系数关系是？ 均方误差怎么算？描述一下"
   ],
   "metadata": {
    "collapsed": false,
    "pycharm": {
     "name": "#%% md\n"
    }
   }
  },
  {
   "cell_type": "markdown",
   "source": [
    "L1正则化: 自动却掉没有用的特征，使模型偏向于稀疏\n",
    "L2正则化：是为了防止过拟合，使模型变得更加的平滑\n",
    "正则化力度：alpha越大，参数越趋近于0，alpha越小，参数的变化也就越小\n",
    "均方误差mse: $MSE = 1/n\\sum_{i=0}^n(y^i-y^-)$"
   ],
   "metadata": {
    "collapsed": false,
    "pycharm": {
     "name": "#%% md\n"
    }
   }
  }
 ],
 "metadata": {
  "kernelspec": {
   "display_name": "Python 3",
   "language": "python",
   "name": "python3"
  },
  "language_info": {
   "codemirror_mode": {
    "name": "ipython",
    "version": 2
   },
   "file_extension": ".py",
   "mimetype": "text/x-python",
   "name": "python",
   "nbconvert_exporter": "python",
   "pygments_lexer": "ipython2",
   "version": "2.7.6"
  }
 },
 "nbformat": 4,
 "nbformat_minor": 0
}