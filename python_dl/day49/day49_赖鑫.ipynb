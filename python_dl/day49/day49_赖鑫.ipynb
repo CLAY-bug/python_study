{
 "nbformat": 4,
 "nbformat_minor": 0,
 "metadata": {
  "colab": {
   "name": "day49_赖鑫.ipynb",
   "provenance": [],
   "collapsed_sections": [],
   "mount_file_id": "1DsPafTPhgQjL_NviPa2-IjnV8liM1OQP",
   "authorship_tag": "ABX9TyOQp2B2kI0PTyAZs6MhGHnr"
  },
  "kernelspec": {
   "name": "python3",
   "display_name": "Python 3"
  },
  "language_info": {
   "name": "python"
  },
  "accelerator": "GPU",
  "gpuClass": "standard"
 },
 "cells": [
  {
   "cell_type": "markdown",
   "source": [
    "# 1.通过卷积神经网络完成对fashion_mnist数据集的训练"
   ],
   "metadata": {
    "id": "1WuhLsrH4dD0",
    "pycharm": {
     "name": "#%% md\n"
    }
   }
  },
  {
   "cell_type": "code",
   "execution_count": 1,
   "metadata": {
    "id": "DCfi81193bYJ",
    "executionInfo": {
     "status": "ok",
     "timestamp": 1658756141792,
     "user_tz": -480,
     "elapsed": 3103,
     "user": {
      "displayName": "CLAY bug",
      "userId": "06579221993706531420"
     }
    },
    "pycharm": {
     "name": "#%%\n"
    }
   },
   "outputs": [],
   "source": [
    "import tensorflow as tf\n",
    "from tensorflow import keras\n",
    "from keras import layers\n",
    "import os,sys\n",
    "import pandas as pd\n",
    "import numpy as np\n",
    "import sklearn\n",
    "import matplotlib.pyplot as plt"
   ]
  },
  {
   "cell_type": "code",
   "source": [
    "fashion_mnist = keras.datasets.fashion_mnist\n",
    "(x_train,y_train),(x_test,y_test) = fashion_mnist.load_data()\n",
    "x_val,x_train = x_train[:5000],x_train[5000:]\n",
    "y_val,y_train = y_train[:5000],y_train[5000:]\n",
    "print(x_train.shape,y_train.shape)\n",
    "print(x_val.shape,y_val.shape)\n",
    "print(x_test.shape,y_test.shape)"
   ],
   "metadata": {
    "colab": {
     "base_uri": "https://localhost:8080/"
    },
    "id": "O_FD0vJi4Hg9",
    "executionInfo": {
     "status": "ok",
     "timestamp": 1658756151575,
     "user_tz": -480,
     "elapsed": 1712,
     "user": {
      "displayName": "CLAY bug",
      "userId": "06579221993706531420"
     }
    },
    "outputId": "a93189ef-b77d-43bc-e8c6-209ca7b14adf",
    "pycharm": {
     "name": "#%%\n"
    }
   },
   "execution_count": 2,
   "outputs": [
    {
     "output_type": "stream",
     "name": "stdout",
     "text": [
      "Downloading data from https://storage.googleapis.com/tensorflow/tf-keras-datasets/train-labels-idx1-ubyte.gz\n",
      "32768/29515 [=================================] - 0s 0us/step\n",
      "40960/29515 [=========================================] - 0s 0us/step\n",
      "Downloading data from https://storage.googleapis.com/tensorflow/tf-keras-datasets/train-images-idx3-ubyte.gz\n",
      "26427392/26421880 [==============================] - 0s 0us/step\n",
      "26435584/26421880 [==============================] - 0s 0us/step\n",
      "Downloading data from https://storage.googleapis.com/tensorflow/tf-keras-datasets/t10k-labels-idx1-ubyte.gz\n",
      "16384/5148 [===============================================================================================] - 0s 0us/step\n",
      "Downloading data from https://storage.googleapis.com/tensorflow/tf-keras-datasets/t10k-images-idx3-ubyte.gz\n",
      "4423680/4422102 [==============================] - 0s 0us/step\n",
      "4431872/4422102 [==============================] - 0s 0us/step\n",
      "(55000, 28, 28) (55000,)\n",
      "(5000, 28, 28) (5000,)\n",
      "(10000, 28, 28) (10000,)\n"
     ]
    }
   ]
  },
  {
   "cell_type": "code",
   "source": [
    "# 进行标准化\n",
    "from sklearn.preprocessing import StandardScaler\n",
    "stand = StandardScaler()\n",
    "x_train = x_train.reshape(-1,1)\n",
    "x_train = stand.fit_transform(x_train).reshape(-1,28,28)\n",
    "x_val = x_val.reshape(-1,1)\n",
    "x_val = stand.transform(x_val).reshape(-1,28,28)\n",
    "x_test = x_test.reshape(-1,1)\n",
    "x_test = stand.transform(x_test).reshape(-1,28,28)"
   ],
   "metadata": {
    "id": "-BLmRZ724HjW",
    "executionInfo": {
     "status": "ok",
     "timestamp": 1658756154653,
     "user_tz": -480,
     "elapsed": 580,
     "user": {
      "displayName": "CLAY bug",
      "userId": "06579221993706531420"
     }
    },
    "pycharm": {
     "name": "#%%\n"
    }
   },
   "execution_count": 3,
   "outputs": []
  },
  {
   "cell_type": "code",
   "source": [
    "# 搭建卷积神经神经网络,一般是两个卷积层加一个池化层\n",
    "model = keras.models.Sequential()\n",
    "model.add(layers.Conv2D(32,(3,3),padding='same',activation='relu',input_shape=(28,28,1)))\n",
    "model.add(layers.Conv2D(32,(3,3),padding='same',activation='relu'))\n",
    "model.add(layers.MaxPool2D(pool_size=2)) # 经过最大池化之后，特征图的尺寸会较小，所以需要提升通道数来防止信息丢失\n",
    "model.add(layers.Conv2D(64,(3,3),padding='same',activation='relu'))\n",
    "model.add(layers.Conv2D(64,(3,3),padding='same',activation='relu'))\n",
    "model.add(layers.MaxPool2D(pool_size=2))\n",
    "model.add(layers.Conv2D(128,(3,3),padding='same',activation='relu'))\n",
    "model.add(layers.Conv2D(128,(3,3),padding='same',activation='relu'))\n",
    "model.add(layers.MaxPool2D(pool_size=2))\n",
    "model.add(layers.Flatten()) # 将3维的图像展平层1维的\n",
    "model.add(layers.Dense(128,activation='relu'))\n",
    "model.add(layers.Dense(10,activation='softmax')) # 最后要分为10个类别，所以需要10个神经元，并用softmax输出概率\n",
    "model.compile(loss='sparse_categorical_crossentropy',\n",
    "              optimizer='Adam',\n",
    "              metrics=['accuracy'])"
   ],
   "metadata": {
    "id": "VeUNOGfJ4Hmd",
    "pycharm": {
     "name": "#%%\n"
    }
   },
   "execution_count": null,
   "outputs": []
  },
  {
   "cell_type": "markdown",
   "source": [
    "## 参数计算方法\n",
    "1. 320 = 32*3*3 + 32\n",
    "2. 9248 = 32*32*3*3 + 32\n",
    "3. 18496 = 32*64*3*3 + 64\n",
    "4. 36928 = 64*64*3*3 + 64"
   ],
   "metadata": {
    "id": "GmyNkM6VYDTJ",
    "pycharm": {
     "name": "#%% md\n"
    }
   }
  },
  {
   "cell_type": "code",
   "source": [
    "model.summary()"
   ],
   "metadata": {
    "colab": {
     "base_uri": "https://localhost:8080/"
    },
    "id": "yIvsQXDK4HoB",
    "executionInfo": {
     "status": "ok",
     "timestamp": 1658752205559,
     "user_tz": -480,
     "elapsed": 21,
     "user": {
      "displayName": "CLAY bug",
      "userId": "06579221993706531420"
     }
    },
    "outputId": "dd002375-413a-4c82-9d82-77abdbbb2a44",
    "pycharm": {
     "name": "#%%\n"
    }
   },
   "execution_count": null,
   "outputs": [
    {
     "output_type": "stream",
     "name": "stdout",
     "text": [
      "Model: \"sequential\"\n",
      "_________________________________________________________________\n",
      " Layer (type)                Output Shape              Param #   \n",
      "=================================================================\n",
      " conv2d (Conv2D)             (None, 28, 28, 32)        320       \n",
      "                                                                 \n",
      " conv2d_1 (Conv2D)           (None, 28, 28, 32)        9248      \n",
      "                                                                 \n",
      " max_pooling2d (MaxPooling2D  (None, 14, 14, 32)       0         \n",
      " )                                                               \n",
      "                                                                 \n",
      " conv2d_2 (Conv2D)           (None, 14, 14, 64)        18496     \n",
      "                                                                 \n",
      " conv2d_3 (Conv2D)           (None, 14, 14, 64)        36928     \n",
      "                                                                 \n",
      " max_pooling2d_1 (MaxPooling  (None, 7, 7, 64)         0         \n",
      " 2D)                                                             \n",
      "                                                                 \n",
      " conv2d_4 (Conv2D)           (None, 7, 7, 128)         73856     \n",
      "                                                                 \n",
      " conv2d_5 (Conv2D)           (None, 7, 7, 128)         147584    \n",
      "                                                                 \n",
      " max_pooling2d_2 (MaxPooling  (None, 3, 3, 128)        0         \n",
      " 2D)                                                             \n",
      "                                                                 \n",
      " flatten (Flatten)           (None, 1152)              0         \n",
      "                                                                 \n",
      " dense (Dense)               (None, 128)               147584    \n",
      "                                                                 \n",
      " dense_1 (Dense)             (None, 10)                1290      \n",
      "                                                                 \n",
      "=================================================================\n",
      "Total params: 435,306\n",
      "Trainable params: 435,306\n",
      "Non-trainable params: 0\n",
      "_________________________________________________________________\n"
     ]
    }
   ]
  },
  {
   "cell_type": "code",
   "source": [
    "logdir = './cnn-relu-callbacks'\n",
    "if not os.path.exists(logdir):\n",
    "  os.mkdir(logdir)\n",
    "output_model = os.path.join(logdir,'fashion_mnist_model.h5')\n",
    "callbacks = [\n",
    "             keras.callbacks.TensorBoard(logdir),\n",
    "             keras.callbacks.ModelCheckpoint(output_model,save_best_only=True),\n",
    "             keras.callbacks.EarlyStopping(patience=10,min_delta=1e-4)\n",
    "]"
   ],
   "metadata": {
    "id": "jym-SEZdORyn",
    "pycharm": {
     "name": "#%%\n"
    }
   },
   "execution_count": null,
   "outputs": []
  },
  {
   "cell_type": "code",
   "source": [
    "history = model.fit(x_train,y_train,\n",
    "                    epochs = 100,\n",
    "                    validation_data=(x_val,y_val),\n",
    "                    callbacks=callbacks)"
   ],
   "metadata": {
    "colab": {
     "base_uri": "https://localhost:8080/"
    },
    "id": "tN25bbUe4HqD",
    "executionInfo": {
     "status": "ok",
     "timestamp": 1658752456129,
     "user_tz": -480,
     "elapsed": 148489,
     "user": {
      "displayName": "CLAY bug",
      "userId": "06579221993706531420"
     }
    },
    "outputId": "5af8b671-b02a-4ebf-f8e8-8126cf67e060",
    "pycharm": {
     "name": "#%%\n"
    }
   },
   "execution_count": null,
   "outputs": [
    {
     "output_type": "stream",
     "name": "stdout",
     "text": [
      "Epoch 1/100\n",
      "1719/1719 [==============================] - 9s 5ms/step - loss: 0.4137 - accuracy: 0.8479 - val_loss: 0.2790 - val_accuracy: 0.8978\n",
      "Epoch 2/100\n",
      "1719/1719 [==============================] - 8s 5ms/step - loss: 0.2563 - accuracy: 0.9069 - val_loss: 0.2406 - val_accuracy: 0.9092\n",
      "Epoch 3/100\n",
      "1719/1719 [==============================] - 8s 5ms/step - loss: 0.2160 - accuracy: 0.9201 - val_loss: 0.2117 - val_accuracy: 0.9236\n",
      "Epoch 4/100\n",
      "1719/1719 [==============================] - 8s 5ms/step - loss: 0.1871 - accuracy: 0.9321 - val_loss: 0.2186 - val_accuracy: 0.9232\n",
      "Epoch 5/100\n",
      "1719/1719 [==============================] - 8s 5ms/step - loss: 0.1637 - accuracy: 0.9396 - val_loss: 0.2104 - val_accuracy: 0.9222\n",
      "Epoch 6/100\n",
      "1719/1719 [==============================] - 8s 5ms/step - loss: 0.1453 - accuracy: 0.9456 - val_loss: 0.2061 - val_accuracy: 0.9246\n",
      "Epoch 7/100\n",
      "1719/1719 [==============================] - 8s 5ms/step - loss: 0.1280 - accuracy: 0.9521 - val_loss: 0.2268 - val_accuracy: 0.9306\n",
      "Epoch 8/100\n",
      "1719/1719 [==============================] - 8s 5ms/step - loss: 0.1158 - accuracy: 0.9567 - val_loss: 0.2369 - val_accuracy: 0.9224\n",
      "Epoch 9/100\n",
      "1719/1719 [==============================] - 9s 5ms/step - loss: 0.0990 - accuracy: 0.9634 - val_loss: 0.2241 - val_accuracy: 0.9276\n",
      "Epoch 10/100\n",
      "1719/1719 [==============================] - 9s 5ms/step - loss: 0.0939 - accuracy: 0.9653 - val_loss: 0.2611 - val_accuracy: 0.9230\n",
      "Epoch 11/100\n",
      "1719/1719 [==============================] - 9s 5ms/step - loss: 0.0859 - accuracy: 0.9681 - val_loss: 0.2738 - val_accuracy: 0.9224\n",
      "Epoch 12/100\n",
      "1719/1719 [==============================] - 10s 6ms/step - loss: 0.0805 - accuracy: 0.9707 - val_loss: 0.2794 - val_accuracy: 0.9278\n",
      "Epoch 13/100\n",
      "1719/1719 [==============================] - 9s 5ms/step - loss: 0.0776 - accuracy: 0.9720 - val_loss: 0.2911 - val_accuracy: 0.9262\n",
      "Epoch 14/100\n",
      "1719/1719 [==============================] - 14s 8ms/step - loss: 0.0681 - accuracy: 0.9754 - val_loss: 0.3855 - val_accuracy: 0.9118\n",
      "Epoch 15/100\n",
      "1719/1719 [==============================] - 12s 7ms/step - loss: 0.0686 - accuracy: 0.9747 - val_loss: 0.3486 - val_accuracy: 0.9222\n",
      "Epoch 16/100\n",
      "1719/1719 [==============================] - 10s 6ms/step - loss: 0.0663 - accuracy: 0.9772 - val_loss: 0.3219 - val_accuracy: 0.9234\n"
     ]
    }
   ]
  },
  {
   "cell_type": "code",
   "source": [
    "def plot_learning_curves(history):\n",
    "  pd.DataFrame(history.history).plot(figsize=(8,5))\n",
    "  plt.grid(True)\n",
    "  plt.gca().set_ylim(0,1)\n",
    "  plt.show()\n",
    "plot_learning_curves(history)"
   ],
   "metadata": {
    "colab": {
     "base_uri": "https://localhost:8080/",
     "height": 324
    },
    "id": "JI3MzsJEVgC_",
    "executionInfo": {
     "status": "ok",
     "timestamp": 1658752583210,
     "user_tz": -480,
     "elapsed": 716,
     "user": {
      "displayName": "CLAY bug",
      "userId": "06579221993706531420"
     }
    },
    "outputId": "d524ef86-f2fb-4c2a-f830-68914fae1534",
    "pycharm": {
     "name": "#%%\n"
    }
   },
   "execution_count": null,
   "outputs": [
    {
     "output_type": "display_data",
     "data": {
      "text/plain": [
       "<Figure size 576x360 with 1 Axes>"
      ],
      "image/png": "[encoded data removed]"
     },
     "metadata": {
      "needs_background": "light"
     }
    }
   ]
  },
  {
   "cell_type": "code",
   "source": [
    "# 如图所示，很明显发生了过拟合，所以测试集的精度比验证集上的精度低了许多\n",
    "model.evaluate(x_test,y_test)"
   ],
   "metadata": {
    "colab": {
     "base_uri": "https://localhost:8080/"
    },
    "id": "X97f3UlVVgHa",
    "executionInfo": {
     "status": "ok",
     "timestamp": 1658752690169,
     "user_tz": -480,
     "elapsed": 2016,
     "user": {
      "displayName": "CLAY bug",
      "userId": "06579221993706531420"
     }
    },
    "outputId": "d245dd78-70ad-4385-c9e4-32f1f01e8cbb",
    "pycharm": {
     "name": "#%%\n"
    }
   },
   "execution_count": null,
   "outputs": [
    {
     "output_type": "stream",
     "name": "stdout",
     "text": [
      "313/313 [==============================] - 2s 5ms/step - loss: 0.3711 - accuracy: 0.9195\n"
     ]
    },
    {
     "output_type": "execute_result",
     "data": {
      "text/plain": [
       "[0.37105825543403625, 0.9194999933242798]"
      ]
     },
     "metadata": {},
     "execution_count": 16
    }
   ]
  },
  {
   "cell_type": "markdown",
   "source": [
    "## 尝试把relu改为selu之后，看看是否能延缓过拟合"
   ],
   "metadata": {
    "id": "45pyGylOaw2Q",
    "pycharm": {
     "name": "#%% md\n"
    }
   }
  },
  {
   "cell_type": "code",
   "source": [
    "logdir = './cnn-selu-callbacks'\n",
    "if not os.path.exists(logdir):\n",
    "  os.mkdir(logdir)\n",
    "output_model = os.path.join(logdir,'fashion_mnist_model.h5')\n",
    "callbacks = [\n",
    "             keras.callbacks.TensorBoard(logdir),\n",
    "             keras.callbacks.ModelCheckpoint(output_model,save_best_only=True),\n",
    "             keras.callbacks.EarlyStopping(patience=10,min_delta=1e-3)\n",
    "]"
   ],
   "metadata": {
    "id": "UvjOBLpSbF2u",
    "pycharm": {
     "name": "#%%\n"
    }
   },
   "execution_count": null,
   "outputs": []
  },
  {
   "cell_type": "code",
   "source": [
    "model = keras.models.Sequential()\n",
    "model.add(layers.Conv2D(32,(3,3),padding='same',activation='selu',input_shape=(28,28,1)))\n",
    "model.add(layers.Conv2D(32,(3,3),padding='same',activation='selu'))\n",
    "model.add(layers.MaxPool2D(pool_size=2)) # 经过最大池化之后，特征图的尺寸会较小，所以需要提升通道数来防止信息丢失\n",
    "model.add(layers.Conv2D(64,(3,3),padding='same',activation='selu'))\n",
    "model.add(layers.Conv2D(64,(3,3),padding='same',activation='selu'))\n",
    "model.add(layers.MaxPool2D(pool_size=2))\n",
    "model.add(layers.Conv2D(128,(3,3),padding='same',activation='selu'))\n",
    "model.add(layers.Conv2D(128,(3,3),padding='same',activation='selu'))\n",
    "model.add(layers.MaxPool2D(pool_size=2))\n",
    "model.add(layers.Flatten()) # 将3维的图像展平层1维的\n",
    "model.add(layers.Dense(128,activation='selu'))\n",
    "model.add(layers.Dense(10,activation='softmax')) # 最后要分为10个类别，所以需要10个神经元，并用softmax输出概率\n",
    "model.compile(loss='sparse_categorical_crossentropy',\n",
    "              optimizer='sgd',\n",
    "              metrics=['accuracy'])"
   ],
   "metadata": {
    "id": "X3uf0JuSXutf",
    "pycharm": {
     "name": "#%%\n"
    }
   },
   "execution_count": null,
   "outputs": []
  },
  {
   "cell_type": "code",
   "source": [
    "history = model.fit(x_train,y_train,\n",
    "                    epochs = 100,\n",
    "                    validation_data=(x_val,y_val),\n",
    "                    callbacks=callbacks)"
   ],
   "metadata": {
    "colab": {
     "base_uri": "https://localhost:8080/"
    },
    "id": "nTiLaNs0bGYa",
    "executionInfo": {
     "status": "ok",
     "timestamp": 1658754466347,
     "user_tz": -480,
     "elapsed": 122415,
     "user": {
      "displayName": "CLAY bug",
      "userId": "06579221993706531420"
     }
    },
    "outputId": "c7422e87-84d7-4fa4-db77-518658df02ea",
    "pycharm": {
     "name": "#%%\n"
    }
   },
   "execution_count": null,
   "outputs": [
    {
     "output_type": "stream",
     "name": "stdout",
     "text": [
      "Epoch 1/100\n",
      "1719/1719 [==============================] - 9s 5ms/step - loss: 0.4330 - accuracy: 0.8423 - val_loss: 0.3160 - val_accuracy: 0.8868\n",
      "Epoch 2/100\n",
      "1719/1719 [==============================] - 8s 5ms/step - loss: 0.2908 - accuracy: 0.8940 - val_loss: 0.3046 - val_accuracy: 0.8910\n",
      "Epoch 3/100\n",
      "1719/1719 [==============================] - 8s 5ms/step - loss: 0.2454 - accuracy: 0.9110 - val_loss: 0.2562 - val_accuracy: 0.9084\n",
      "Epoch 4/100\n",
      "1719/1719 [==============================] - 8s 5ms/step - loss: 0.2112 - accuracy: 0.9234 - val_loss: 0.3056 - val_accuracy: 0.8968\n",
      "Epoch 5/100\n",
      "1719/1719 [==============================] - 8s 5ms/step - loss: 0.1833 - accuracy: 0.9331 - val_loss: 0.2443 - val_accuracy: 0.9132\n",
      "Epoch 6/100\n",
      "1719/1719 [==============================] - 8s 5ms/step - loss: 0.1595 - accuracy: 0.9428 - val_loss: 0.2810 - val_accuracy: 0.9042\n",
      "Epoch 7/100\n",
      "1719/1719 [==============================] - 8s 5ms/step - loss: 0.1375 - accuracy: 0.9515 - val_loss: 0.2582 - val_accuracy: 0.9102\n",
      "Epoch 8/100\n",
      "1719/1719 [==============================] - 8s 5ms/step - loss: 0.1182 - accuracy: 0.9578 - val_loss: 0.2689 - val_accuracy: 0.9086\n",
      "Epoch 9/100\n",
      "1719/1719 [==============================] - 8s 5ms/step - loss: 0.0989 - accuracy: 0.9659 - val_loss: 0.2597 - val_accuracy: 0.9172\n",
      "Epoch 10/100\n",
      "1719/1719 [==============================] - 8s 5ms/step - loss: 0.0825 - accuracy: 0.9711 - val_loss: 0.2687 - val_accuracy: 0.9150\n",
      "Epoch 11/100\n",
      "1719/1719 [==============================] - 8s 5ms/step - loss: 0.0680 - accuracy: 0.9768 - val_loss: 0.2791 - val_accuracy: 0.9144\n",
      "Epoch 12/100\n",
      "1719/1719 [==============================] - 8s 5ms/step - loss: 0.0540 - accuracy: 0.9825 - val_loss: 0.2727 - val_accuracy: 0.9210\n",
      "Epoch 13/100\n",
      "1719/1719 [==============================] - 8s 5ms/step - loss: 0.0431 - accuracy: 0.9862 - val_loss: 0.2921 - val_accuracy: 0.9178\n",
      "Epoch 14/100\n",
      "1719/1719 [==============================] - 8s 5ms/step - loss: 0.0323 - accuracy: 0.9904 - val_loss: 0.3069 - val_accuracy: 0.9190\n",
      "Epoch 15/100\n",
      "1719/1719 [==============================] - 8s 5ms/step - loss: 0.0236 - accuracy: 0.9930 - val_loss: 0.3339 - val_accuracy: 0.9208\n"
     ]
    }
   ]
  },
  {
   "cell_type": "code",
   "source": [
    "model.evaluate(x_test,y_test)"
   ],
   "metadata": {
    "colab": {
     "base_uri": "https://localhost:8080/"
    },
    "id": "Gubw5WTiXuvx",
    "executionInfo": {
     "status": "ok",
     "timestamp": 1658754488124,
     "user_tz": -480,
     "elapsed": 9179,
     "user": {
      "displayName": "CLAY bug",
      "userId": "06579221993706531420"
     }
    },
    "outputId": "84447fa5-910b-41fd-e938-cdd36be7acd5",
    "pycharm": {
     "name": "#%%\n"
    }
   },
   "execution_count": null,
   "outputs": [
    {
     "output_type": "stream",
     "name": "stdout",
     "text": [
      "313/313 [==============================] - 1s 3ms/step - loss: 0.3291 - accuracy: 0.9176\n"
     ]
    },
    {
     "output_type": "execute_result",
     "data": {
      "text/plain": [
       "[0.32909390330314636, 0.9175999760627747]"
      ]
     },
     "metadata": {},
     "execution_count": 37
    }
   ]
  },
  {
   "cell_type": "code",
   "source": [
    "# 由图所示，依然处于过拟合状态，可以适当减少层数，使模型变得更简单\n",
    "def plot_learning_curves(history):\n",
    "  pd.DataFrame(history.history).plot(figsize=(8,5))\n",
    "  plt.grid(True)\n",
    "  plt.gca().set_ylim(0,1)\n",
    "  plt.show()\n",
    "plot_learning_curves(history)"
   ],
   "metadata": {
    "colab": {
     "base_uri": "https://localhost:8080/",
     "height": 324
    },
    "id": "ZkPmfMLrXuyN",
    "executionInfo": {
     "status": "ok",
     "timestamp": 1658754503852,
     "user_tz": -480,
     "elapsed": 834,
     "user": {
      "displayName": "CLAY bug",
      "userId": "06579221993706531420"
     }
    },
    "outputId": "7a2120e5-060d-4632-c9c3-4b00d3f7e9a7",
    "pycharm": {
     "name": "#%%\n"
    }
   },
   "execution_count": null,
   "outputs": [
    {
     "output_type": "display_data",
     "data": {
      "text/plain": [
       "<Figure size 576x360 with 1 Axes>"
      ],
      "image/png": "[encoded data removed]"
     },
     "metadata": {
      "needs_background": "light"
     }
    }
   ]
  },
  {
   "cell_type": "markdown",
   "source": [
    "## 较少层数，使模型变得更简单，观察精度情况"
   ],
   "metadata": {
    "id": "BhHVjQSXe6Cm",
    "pycharm": {
     "name": "#%% md\n"
    }
   }
  },
  {
   "cell_type": "code",
   "source": [
    "model = keras.models.Sequential()\n",
    "model.add(layers.Conv2D(32,(3,3),padding='same',activation='selu',input_shape=(28,28,1)))\n",
    "model.add(layers.Conv2D(32,(3,3),padding='same',activation='selu'))\n",
    "model.add(layers.MaxPool2D(pool_size=2)) # 经过最大池化之后，特征图的尺寸会较小，所以需要提升通道数来防止信息丢失\n",
    "model.add(layers.Conv2D(64,(3,3),padding='same',activation='selu'))\n",
    "model.add(layers.Conv2D(64,(3,3),padding='same',activation='selu'))\n",
    "model.add(layers.MaxPool2D(pool_size=2))\n",
    "model.add(layers.Flatten()) # 将3维的图像展平层1维的\n",
    "model.add(layers.Dense(128,activation='selu'))\n",
    "model.add(layers.Dense(10,activation='softmax')) # 最后要分为10个类别，所以需要10个神经元，并用softmax输出概率\n",
    "model.compile(loss='sparse_categorical_crossentropy',\n",
    "              optimizer='sgd',\n",
    "              metrics=['accuracy'])"
   ],
   "metadata": {
    "id": "F23m9A2QeyiL",
    "pycharm": {
     "name": "#%%\n"
    }
   },
   "execution_count": null,
   "outputs": []
  },
  {
   "cell_type": "code",
   "source": [
    "logdir = './cnn-selu-callbacks'\n",
    "if not os.path.exists(logdir):\n",
    "  os.mkdir(logdir)\n",
    "output_model = os.path.join(logdir,'fashion_mnist_model.h5')\n",
    "callbacks = [\n",
    "             keras.callbacks.TensorBoard(logdir),\n",
    "             keras.callbacks.ModelCheckpoint(output_model,save_best_only=True),\n",
    "             keras.callbacks.EarlyStopping(patience=10,min_delta=1e-3)\n",
    "]"
   ],
   "metadata": {
    "id": "Nt5K5Yv1eyzt",
    "pycharm": {
     "name": "#%%\n"
    }
   },
   "execution_count": null,
   "outputs": []
  },
  {
   "cell_type": "code",
   "source": [
    "history = model.fit(x_train,y_train,\n",
    "                    epochs = 100,\n",
    "                    validation_data=(x_val,y_val),\n",
    "                    callbacks=callbacks)"
   ],
   "metadata": {
    "colab": {
     "base_uri": "https://localhost:8080/"
    },
    "id": "u7s5eE2eey2e",
    "executionInfo": {
     "status": "ok",
     "timestamp": 1658754925719,
     "user_tz": -480,
     "elapsed": 110183,
     "user": {
      "displayName": "CLAY bug",
      "userId": "06579221993706531420"
     }
    },
    "outputId": "a4357b48-cfe9-4273-a617-1f6c0a3a2766",
    "pycharm": {
     "name": "#%%\n"
    }
   },
   "execution_count": null,
   "outputs": [
    {
     "output_type": "stream",
     "name": "stdout",
     "text": [
      "Epoch 1/100\n",
      "1719/1719 [==============================] - 7s 4ms/step - loss: 0.4305 - accuracy: 0.8462 - val_loss: 0.3263 - val_accuracy: 0.8844\n",
      "Epoch 2/100\n",
      "1719/1719 [==============================] - 7s 4ms/step - loss: 0.2952 - accuracy: 0.8935 - val_loss: 0.2824 - val_accuracy: 0.8996\n",
      "Epoch 3/100\n",
      "1719/1719 [==============================] - 7s 4ms/step - loss: 0.2498 - accuracy: 0.9103 - val_loss: 0.3184 - val_accuracy: 0.8778\n",
      "Epoch 4/100\n",
      "1719/1719 [==============================] - 7s 4ms/step - loss: 0.2202 - accuracy: 0.9205 - val_loss: 0.2547 - val_accuracy: 0.9094\n",
      "Epoch 5/100\n",
      "1719/1719 [==============================] - 7s 4ms/step - loss: 0.1967 - accuracy: 0.9295 - val_loss: 0.2437 - val_accuracy: 0.9112\n",
      "Epoch 6/100\n",
      "1719/1719 [==============================] - 7s 4ms/step - loss: 0.1748 - accuracy: 0.9375 - val_loss: 0.2412 - val_accuracy: 0.9156\n",
      "Epoch 7/100\n",
      "1719/1719 [==============================] - 7s 4ms/step - loss: 0.1557 - accuracy: 0.9444 - val_loss: 0.2415 - val_accuracy: 0.9156\n",
      "Epoch 8/100\n",
      "1719/1719 [==============================] - 7s 4ms/step - loss: 0.1398 - accuracy: 0.9496 - val_loss: 0.2568 - val_accuracy: 0.9098\n",
      "Epoch 9/100\n",
      "1719/1719 [==============================] - 7s 4ms/step - loss: 0.1250 - accuracy: 0.9553 - val_loss: 0.2469 - val_accuracy: 0.9184\n",
      "Epoch 10/100\n",
      "1719/1719 [==============================] - 7s 4ms/step - loss: 0.1099 - accuracy: 0.9614 - val_loss: 0.2430 - val_accuracy: 0.9168\n",
      "Epoch 11/100\n",
      "1719/1719 [==============================] - 7s 4ms/step - loss: 0.0957 - accuracy: 0.9665 - val_loss: 0.2728 - val_accuracy: 0.9132\n",
      "Epoch 12/100\n",
      "1719/1719 [==============================] - 7s 4ms/step - loss: 0.0820 - accuracy: 0.9718 - val_loss: 0.2677 - val_accuracy: 0.9164\n",
      "Epoch 13/100\n",
      "1719/1719 [==============================] - 7s 4ms/step - loss: 0.0698 - accuracy: 0.9766 - val_loss: 0.2611 - val_accuracy: 0.9194\n",
      "Epoch 14/100\n",
      "1719/1719 [==============================] - 7s 4ms/step - loss: 0.0598 - accuracy: 0.9799 - val_loss: 0.2994 - val_accuracy: 0.9116\n",
      "Epoch 15/100\n",
      "1719/1719 [==============================] - 7s 4ms/step - loss: 0.0497 - accuracy: 0.9837 - val_loss: 0.2902 - val_accuracy: 0.9182\n",
      "Epoch 16/100\n",
      "1719/1719 [==============================] - 7s 4ms/step - loss: 0.0409 - accuracy: 0.9873 - val_loss: 0.3206 - val_accuracy: 0.9136\n"
     ]
    }
   ]
  },
  {
   "cell_type": "code",
   "source": [
    "model.evaluate(x_test,y_test)"
   ],
   "metadata": {
    "colab": {
     "base_uri": "https://localhost:8080/"
    },
    "id": "VoLt1Veeey4W",
    "executionInfo": {
     "status": "ok",
     "timestamp": 1658754958522,
     "user_tz": -480,
     "elapsed": 2013,
     "user": {
      "displayName": "CLAY bug",
      "userId": "06579221993706531420"
     }
    },
    "outputId": "9370fdfd-8c3a-47ea-cb59-998e03e3ca54",
    "pycharm": {
     "name": "#%%\n"
    }
   },
   "execution_count": null,
   "outputs": [
    {
     "output_type": "stream",
     "name": "stdout",
     "text": [
      "313/313 [==============================] - 1s 4ms/step - loss: 0.3220 - accuracy: 0.9147\n"
     ]
    },
    {
     "output_type": "execute_result",
     "data": {
      "text/plain": [
       "[0.32198596000671387, 0.9146999716758728]"
      ]
     },
     "metadata": {},
     "execution_count": 45
    }
   ]
  },
  {
   "cell_type": "markdown",
   "source": [
    "## 使用droupout来减少过拟合"
   ],
   "metadata": {
    "collapsed": false,
    "pycharm": {
     "name": "#%% md\n"
    }
   }
  },
  {
   "cell_type": "code",
   "execution_count": null,
   "outputs": [],
   "source": [
    "model = keras.models.Sequential()\n",
    "model.add(layers.Conv2D(32,(3,3),padding='same',activation='selu',input_shape=(28,28,1)))\n",
    "model.add(layers.Conv2D(32,(3,3),padding='same',activation='selu'))\n",
    "model.add(layers.MaxPool2D(pool_size=2)) # 经过最大池化之后，特征图的尺寸会较小，所以需要提升通道数来防止信息丢失\n",
    "model.add(layers.Conv2D(64,(3,3),padding='same',activation='selu'))\n",
    "model.add(layers.Conv2D(64,(3,3),padding='same',activation='selu'))\n",
    "model.add(layers.MaxPool2D(pool_size=2))\n",
    "model.add(layers.Flatten()) # 将3维的图像展平层1维的\n",
    "model.add(layers.Dense(128,activation='selu'))\n",
    "model.add(layers.Dropout(0.5))\n",
    "model.add(layers.Dense(64,activation='selu'))\n",
    "model.add(layers.Dropout(0.5))\n",
    "model.add(layers.Dense(10,activation='softmax')) # 最后要分为10个类别，所以需要10个神经元，并用softmax输出概率\n",
    "model.compile(loss='sparse_categorical_crossentropy',\n",
    "              optimizer='sgd',\n",
    "              metrics=['accuracy'])"
   ],
   "metadata": {
    "collapsed": false,
    "pycharm": {
     "name": "#%%\n"
    }
   }
  },
  {
   "cell_type": "code",
   "execution_count": null,
   "outputs": [],
   "source": [
    "logdir = './cnn-selu-dropout-callbacks'\n",
    "if not os.path.exists(logdir):\n",
    "  os.mkdir(logdir)\n",
    "output_model = os.path.join(logdir,'fashion_mnist_model.h5')\n",
    "callbacks = [\n",
    "             keras.callbacks.TensorBoard(logdir),\n",
    "             keras.callbacks.ModelCheckpoint(output_model,save_best_only=True),\n",
    "             keras.callbacks.EarlyStopping(patience=5,min_delta=1e-3)\n",
    "]"
   ],
   "metadata": {
    "collapsed": false,
    "pycharm": {
     "name": "#%%\n"
    }
   }
  },
  {
   "cell_type": "code",
   "execution_count": null,
   "outputs": [],
   "source": [
    "history = model.fit(x_train,y_train,\n",
    "                    epochs = 100,\n",
    "                    validation_data=(x_val,y_val),\n",
    "                    callbacks=callbacks)"
   ],
   "metadata": {
    "collapsed": false,
    "pycharm": {
     "name": "#%%\n"
    }
   }
  },
  {
   "cell_type": "code",
   "execution_count": null,
   "outputs": [],
   "source": [
    "model.evaluate(x_test,y_test)"
   ],
   "metadata": {
    "collapsed": false,
    "pycharm": {
     "name": "#%%\n"
    }
   }
  },
  {
   "cell_type": "markdown",
   "source": [
    "## 使用droupout来减少过拟合"
   ],
   "metadata": {
    "id": "IFvqTkpHjwW0"
   }
  },
  {
   "cell_type": "code",
   "source": [
    "model = keras.models.Sequential()\n",
    "model.add(layers.Conv2D(32,(3,3),padding='same',activation='selu',input_shape=(28,28,1)))\n",
    "model.add(layers.Conv2D(32,(3,3),padding='same',activation='selu'))\n",
    "model.add(layers.MaxPool2D(pool_size=2)) # 经过最大池化之后，特征图的尺寸会较小，所以需要提升通道数来防止信息丢失\n",
    "model.add(layers.Conv2D(64,(3,3),padding='same',activation='selu'))\n",
    "model.add(layers.Conv2D(64,(3,3),padding='same',activation='selu'))\n",
    "model.add(layers.MaxPool2D(pool_size=2))\n",
    "model.add(layers.Flatten()) # 将3维的图像展平层1维的\n",
    "model.add(layers.Dense(128,activation='selu'))\n",
    "model.add(layers.Dropout(0.5))\n",
    "model.add(layers.Dense(64,activation='selu'))\n",
    "model.add(layers.Dropout(0.5))\n",
    "model.add(layers.Dense(10,activation='softmax')) # 最后要分为10个类别，所以需要10个神经元，并用softmax输出概率\n",
    "model.compile(loss='sparse_categorical_crossentropy',\n",
    "              optimizer='sgd',\n",
    "              metrics=['accuracy'])"
   ],
   "metadata": {
    "id": "0frSrWLhj5bR",
    "executionInfo": {
     "status": "ok",
     "timestamp": 1658756532091,
     "user_tz": -480,
     "elapsed": 934,
     "user": {
      "displayName": "CLAY bug",
      "userId": "06579221993706531420"
     }
    }
   },
   "execution_count": 9,
   "outputs": []
  },
  {
   "cell_type": "code",
   "source": [
    "logdir = './cnn-selu-dropout-callbacks'\n",
    "if not os.path.exists(logdir):\n",
    "  os.mkdir(logdir)\n",
    "output_model = os.path.join(logdir,'fashion_mnist_model.h5')\n",
    "callbacks = [\n",
    "             keras.callbacks.TensorBoard(logdir),\n",
    "             keras.callbacks.ModelCheckpoint(output_model,save_best_only=True),\n",
    "             keras.callbacks.EarlyStopping(patience=5,min_delta=1e-3)\n",
    "]"
   ],
   "metadata": {
    "id": "PrQLMlbjj5hu",
    "executionInfo": {
     "status": "ok",
     "timestamp": 1658756537177,
     "user_tz": -480,
     "elapsed": 3,
     "user": {
      "displayName": "CLAY bug",
      "userId": "06579221993706531420"
     }
    }
   },
   "execution_count": 10,
   "outputs": []
  },
  {
   "cell_type": "code",
   "source": [
    "history = model.fit(x_train,y_train,\n",
    "                    epochs = 100,\n",
    "                    validation_data=(x_val,y_val),\n",
    "                    callbacks=callbacks)"
   ],
   "metadata": {
    "colab": {
     "base_uri": "https://localhost:8080/"
    },
    "id": "hYuFovYQj5j4",
    "executionInfo": {
     "status": "ok",
     "timestamp": 1658756702369,
     "user_tz": -480,
     "elapsed": 158196,
     "user": {
      "displayName": "CLAY bug",
      "userId": "06579221993706531420"
     }
    },
    "outputId": "0503c386-17ea-4cda-8844-6da57aff9079"
   },
   "execution_count": 11,
   "outputs": [
    {
     "output_type": "stream",
     "name": "stdout",
     "text": [
      "Epoch 1/100\n",
      "1719/1719 [==============================] - 8s 4ms/step - loss: 0.6670 - accuracy: 0.7734 - val_loss: 0.3367 - val_accuracy: 0.8784\n",
      "Epoch 2/100\n",
      "1719/1719 [==============================] - 8s 4ms/step - loss: 0.4405 - accuracy: 0.8506 - val_loss: 0.3112 - val_accuracy: 0.8888\n",
      "Epoch 3/100\n",
      "1719/1719 [==============================] - 7s 4ms/step - loss: 0.3760 - accuracy: 0.8720 - val_loss: 0.2820 - val_accuracy: 0.9002\n",
      "Epoch 4/100\n",
      "1719/1719 [==============================] - 7s 4ms/step - loss: 0.3445 - accuracy: 0.8798 - val_loss: 0.2701 - val_accuracy: 0.9048\n",
      "Epoch 5/100\n",
      "1719/1719 [==============================] - 7s 4ms/step - loss: 0.3157 - accuracy: 0.8919 - val_loss: 0.2618 - val_accuracy: 0.9086\n",
      "Epoch 6/100\n",
      "1719/1719 [==============================] - 7s 4ms/step - loss: 0.2963 - accuracy: 0.8973 - val_loss: 0.2525 - val_accuracy: 0.9126\n",
      "Epoch 7/100\n",
      "1719/1719 [==============================] - 7s 4ms/step - loss: 0.2809 - accuracy: 0.9051 - val_loss: 0.2396 - val_accuracy: 0.9182\n",
      "Epoch 8/100\n",
      "1719/1719 [==============================] - 7s 4ms/step - loss: 0.2660 - accuracy: 0.9086 - val_loss: 0.2413 - val_accuracy: 0.9164\n",
      "Epoch 9/100\n",
      "1719/1719 [==============================] - 7s 4ms/step - loss: 0.2530 - accuracy: 0.9133 - val_loss: 0.2377 - val_accuracy: 0.9188\n",
      "Epoch 10/100\n",
      "1719/1719 [==============================] - 7s 4ms/step - loss: 0.2433 - accuracy: 0.9170 - val_loss: 0.2365 - val_accuracy: 0.9222\n",
      "Epoch 11/100\n",
      "1719/1719 [==============================] - 7s 4ms/step - loss: 0.2272 - accuracy: 0.9217 - val_loss: 0.2369 - val_accuracy: 0.9190\n",
      "Epoch 12/100\n",
      "1719/1719 [==============================] - 7s 4ms/step - loss: 0.2228 - accuracy: 0.9243 - val_loss: 0.2281 - val_accuracy: 0.9228\n",
      "Epoch 13/100\n",
      "1719/1719 [==============================] - 7s 4ms/step - loss: 0.2110 - accuracy: 0.9269 - val_loss: 0.2447 - val_accuracy: 0.9196\n",
      "Epoch 14/100\n",
      "1719/1719 [==============================] - 7s 4ms/step - loss: 0.2027 - accuracy: 0.9309 - val_loss: 0.2365 - val_accuracy: 0.9218\n",
      "Epoch 15/100\n",
      "1719/1719 [==============================] - 7s 4ms/step - loss: 0.1939 - accuracy: 0.9334 - val_loss: 0.2441 - val_accuracy: 0.9214\n",
      "Epoch 16/100\n",
      "1719/1719 [==============================] - 7s 4ms/step - loss: 0.1888 - accuracy: 0.9356 - val_loss: 0.2428 - val_accuracy: 0.9164\n",
      "Epoch 17/100\n",
      "1719/1719 [==============================] - 7s 4ms/step - loss: 0.1798 - accuracy: 0.9377 - val_loss: 0.2454 - val_accuracy: 0.9226\n",
      "Epoch 18/100\n",
      "1719/1719 [==============================] - 7s 4ms/step - loss: 0.1757 - accuracy: 0.9394 - val_loss: 0.2408 - val_accuracy: 0.9244\n",
      "Epoch 19/100\n",
      "1719/1719 [==============================] - 7s 4ms/step - loss: 0.1666 - accuracy: 0.9420 - val_loss: 0.2575 - val_accuracy: 0.9208\n",
      "Epoch 20/100\n",
      "1719/1719 [==============================] - 7s 4ms/step - loss: 0.1598 - accuracy: 0.9446 - val_loss: 0.2600 - val_accuracy: 0.9176\n",
      "Epoch 21/100\n",
      "1719/1719 [==============================] - 7s 4ms/step - loss: 0.1553 - accuracy: 0.9462 - val_loss: 0.2527 - val_accuracy: 0.9216\n",
      "Epoch 22/100\n",
      "1719/1719 [==============================] - 7s 4ms/step - loss: 0.1454 - accuracy: 0.9494 - val_loss: 0.2548 - val_accuracy: 0.9208\n"
     ]
    }
   ]
  },
  {
   "cell_type": "code",
   "source": [
    "model.evaluate(x_test,y_test)"
   ],
   "metadata": {
    "colab": {
     "base_uri": "https://localhost:8080/"
    },
    "id": "TphMog0cj5mE",
    "executionInfo": {
     "status": "ok",
     "timestamp": 1658756748021,
     "user_tz": -480,
     "elapsed": 18164,
     "user": {
      "displayName": "CLAY bug",
      "userId": "06579221993706531420"
     }
    },
    "outputId": "5ea8126d-44ff-4d53-afc3-18229dc75dce"
   },
   "execution_count": 12,
   "outputs": [
    {
     "output_type": "stream",
     "name": "stdout",
     "text": [
      "313/313 [==============================] - 1s 3ms/step - loss: 0.2899 - accuracy: 0.9113\n"
     ]
    },
    {
     "output_type": "execute_result",
     "data": {
      "text/plain": [
       "[0.2898588180541992, 0.911300003528595]"
      ]
     },
     "metadata": {},
     "execution_count": 12
    }
   ]
  }
 ]
}