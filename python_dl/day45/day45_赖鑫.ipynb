{
 "nbformat": 4,
 "nbformat_minor": 0,
 "metadata": {
  "colab": {
   "name": "day45_赖鑫.ipynb",
   "provenance": [],
   "collapsed_sections": [],
   "mount_file_id": "1bokb4_VgT1z9HzI8_9fOYkKcTzkT40ex",
   "authorship_tag": "ABX9TyPPLZepiuPW8+q0DJKG5WxK"
  },
  "kernelspec": {
   "name": "python3",
   "display_name": "Python 3"
  },
  "language_info": {
   "name": "python"
  },
  "accelerator": "GPU",
  "gpuClass": "standard"
 },
 "cells": [
  {
   "cell_type": "markdown",
   "source": [
    "### 练习回归实例"
   ],
   "metadata": {
    "id": "Z45O4HLj74ZP",
    "pycharm": {
     "name": "#%% md\n"
    }
   }
  },
  {
   "cell_type": "code",
   "execution_count": 47,
   "metadata": {
    "id": "xIEfs5lb7qCN",
    "executionInfo": {
     "status": "ok",
     "timestamp": 1658318907091,
     "user_tz": -480,
     "elapsed": 567,
     "user": {
      "displayName": "CLAY bug",
      "userId": "06579221993706531420"
     }
    },
    "pycharm": {
     "name": "#%%\n"
    }
   },
   "outputs": [],
   "source": [
    "import matplotlib.pyplot as plt\n",
    "import numpy as np\n",
    "import pandas as pd\n",
    "import os, sys\n",
    "import tensorflow as tf\n",
    "from tensorflow import keras\n",
    "%matplotlib inline\n",
    "import sklearn\n",
    "from sklearn.datasets import fetch_california_housing"
   ]
  },
  {
   "cell_type": "code",
   "source": [
    "# 获取加利福利亚的房价数据集\n",
    "house_price = fetch_california_housing()"
   ],
   "metadata": {
    "id": "CsFg0VLq8L_g",
    "executionInfo": {
     "status": "ok",
     "timestamp": 1658318910654,
     "user_tz": -480,
     "elapsed": 589,
     "user": {
      "displayName": "CLAY bug",
      "userId": "06579221993706531420"
     }
    },
    "pycharm": {
     "name": "#%%\n"
    }
   },
   "execution_count": 48,
   "outputs": []
  },
  {
   "cell_type": "code",
   "source": [
    "# 查看数据\n",
    "print(house_price.data.shape) # 总共8个特征，20640个样本\n",
    "print(house_price.target.shape)\n",
    "print(house_price.data[3])\n",
    "print(house_price.feature_names)\n",
    "print('-'*30)\n",
    "print(house_price.target[:3])\n",
    "print(house_price.target_names) "
   ],
   "metadata": {
    "colab": {
     "base_uri": "https://localhost:8080/"
    },
    "id": "-c7s3Lvj8MB3",
    "executionInfo": {
     "status": "ok",
     "timestamp": 1658318841954,
     "user_tz": -480,
     "elapsed": 7,
     "user": {
      "displayName": "CLAY bug",
      "userId": "06579221993706531420"
     }
    },
    "outputId": "9a62e379-15f4-4a65-c82c-2bd3ec0b4b0a",
    "pycharm": {
     "name": "#%%\n"
    }
   },
   "execution_count": 39,
   "outputs": [
    {
     "output_type": "stream",
     "name": "stdout",
     "text": [
      "(20640, 8)\n",
      "(20640,)\n",
      "[   5.6431       52.            5.8173516     1.07305936  558.\n",
      "    2.54794521   37.85       -122.25      ]\n",
      "['MedInc', 'HouseAge', 'AveRooms', 'AveBedrms', 'Population', 'AveOccup', 'Latitude', 'Longitude']\n",
      "------------------------------\n",
      "[4.526 3.585 3.521]\n",
      "['MedHouseVal']\n"
     ]
    }
   ]
  },
  {
   "cell_type": "code",
   "source": [
    "# 划分训练集、验证集和测试集\n",
    "from sklearn.model_selection import train_test_split\n",
    "x_train,x_test,y_train,y_test = train_test_split(house_price.data,house_price.target,test_size=0.2,random_state=22)\n",
    "x_train,x_val,y_train,y_val = train_test_split(x_train,y_train,test_size=0.25,random_state=11)\n",
    "print(x_train.shape,y_train.shape)\n",
    "print(x_val.shape,y_val.shape)\n",
    "print(x_test.shape,y_test.shape)"
   ],
   "metadata": {
    "colab": {
     "base_uri": "https://localhost:8080/"
    },
    "id": "tV_ABVNI8MD_",
    "executionInfo": {
     "status": "ok",
     "timestamp": 1658318915972,
     "user_tz": -480,
     "elapsed": 625,
     "user": {
      "displayName": "CLAY bug",
      "userId": "06579221993706531420"
     }
    },
    "outputId": "b318217e-ea05-40b9-ba3e-c22eed005fc1",
    "pycharm": {
     "name": "#%%\n"
    }
   },
   "execution_count": 49,
   "outputs": [
    {
     "output_type": "stream",
     "name": "stdout",
     "text": [
      "(12384, 8) (12384,)\n",
      "(4128, 8) (4128,)\n",
      "(4128, 8) (4128,)\n"
     ]
    }
   ]
  },
  {
   "cell_type": "code",
   "source": [
    "# 对数据进行正则化处理\n",
    "from sklearn.preprocessing import StandardScaler\n",
    "stand = StandardScaler()\n",
    "x_train = stand.fit_transform(x_train)\n",
    "x_val = stand.transform(x_val)\n",
    "x_test = stand.transform(x_test)"
   ],
   "metadata": {
    "id": "rEr82iqP8MFx",
    "executionInfo": {
     "status": "ok",
     "timestamp": 1658318920765,
     "user_tz": -480,
     "elapsed": 626,
     "user": {
      "displayName": "CLAY bug",
      "userId": "06579221993706531420"
     }
    },
    "pycharm": {
     "name": "#%%\n"
    }
   },
   "execution_count": 50,
   "outputs": []
  },
  {
   "cell_type": "code",
   "source": [
    "# 开始进行模型的搭建\n",
    "model = keras.models.Sequential(\n",
    "    [keras.layers.Dense(50,activation='relu',input_shape=x_train.shape[1:]),\n",
    "     keras.layers.Dense(30,activation='relu',input_shape=x_train.shape[1:]),\n",
    "     keras.layers.Dense(10,activation='relu',input_shape=x_train.shape[1:]),\n",
    "     keras.layers.Dense(1)]) # 回归直接输出一个数值\n",
    "model.compile(loss='mean_squared_error',optimizer='Adam')\n",
    "callbacks = [keras.callbacks.EarlyStopping(patience=5,min_delta=1e-3)]"
   ],
   "metadata": {
    "id": "EyLlwEVC8MHI",
    "executionInfo": {
     "status": "ok",
     "timestamp": 1658319096825,
     "user_tz": -480,
     "elapsed": 13,
     "user": {
      "displayName": "CLAY bug",
      "userId": "06579221993706531420"
     }
    },
    "pycharm": {
     "name": "#%%\n"
    }
   },
   "execution_count": 53,
   "outputs": []
  },
  {
   "cell_type": "code",
   "source": [
    "#开始训练\n",
    "history = model.fit(x_train,y_train,\n",
    "                    validation_data=(x_val,y_val),\n",
    "                    epochs=100,\n",
    "                    callbacks = callbacks)"
   ],
   "metadata": {
    "colab": {
     "base_uri": "https://localhost:8080/"
    },
    "id": "Qp8zRB6B8MJC",
    "executionInfo": {
     "status": "ok",
     "timestamp": 1658319123002,
     "user_tz": -480,
     "elapsed": 21000,
     "user": {
      "displayName": "CLAY bug",
      "userId": "06579221993706531420"
     }
    },
    "outputId": "396ab4c0-8070-4dde-82d5-c56da4857a48",
    "pycharm": {
     "name": "#%%\n"
    }
   },
   "execution_count": 54,
   "outputs": [
    {
     "output_type": "stream",
     "name": "stdout",
     "text": [
      "Epoch 1/100\n",
      "387/387 [==============================] - 2s 3ms/step - loss: 0.9012 - val_loss: 0.4479\n",
      "Epoch 2/100\n",
      "387/387 [==============================] - 1s 4ms/step - loss: 0.4113 - val_loss: 0.3656\n",
      "Epoch 3/100\n",
      "387/387 [==============================] - 1s 3ms/step - loss: 0.3740 - val_loss: 0.3468\n",
      "Epoch 4/100\n",
      "387/387 [==============================] - 1s 2ms/step - loss: 0.3526 - val_loss: 0.3864\n",
      "Epoch 5/100\n",
      "387/387 [==============================] - 1s 3ms/step - loss: 0.3484 - val_loss: 0.3257\n",
      "Epoch 6/100\n",
      "387/387 [==============================] - 1s 3ms/step - loss: 0.3349 - val_loss: 0.4554\n",
      "Epoch 7/100\n",
      "387/387 [==============================] - 1s 3ms/step - loss: 0.3257 - val_loss: 0.3081\n",
      "Epoch 8/100\n",
      "387/387 [==============================] - 1s 3ms/step - loss: 0.3157 - val_loss: 0.3726\n",
      "Epoch 9/100\n",
      "387/387 [==============================] - 1s 2ms/step - loss: 0.3144 - val_loss: 0.3451\n",
      "Epoch 10/100\n",
      "387/387 [==============================] - 1s 2ms/step - loss: 0.3154 - val_loss: 0.4995\n",
      "Epoch 11/100\n",
      "387/387 [==============================] - 1s 3ms/step - loss: 0.3138 - val_loss: 0.3175\n",
      "Epoch 12/100\n",
      "387/387 [==============================] - 1s 3ms/step - loss: 0.3035 - val_loss: 0.3026\n",
      "Epoch 13/100\n",
      "387/387 [==============================] - 1s 2ms/step - loss: 0.2975 - val_loss: 0.3105\n",
      "Epoch 14/100\n",
      "387/387 [==============================] - 1s 2ms/step - loss: 0.2933 - val_loss: 0.2890\n",
      "Epoch 15/100\n",
      "387/387 [==============================] - 1s 3ms/step - loss: 0.2913 - val_loss: 0.2968\n",
      "Epoch 16/100\n",
      "387/387 [==============================] - 1s 2ms/step - loss: 0.2905 - val_loss: 0.2960\n",
      "Epoch 17/100\n",
      "387/387 [==============================] - 1s 3ms/step - loss: 0.2894 - val_loss: 0.3222\n",
      "Epoch 18/100\n",
      "387/387 [==============================] - 1s 2ms/step - loss: 0.2892 - val_loss: 0.4035\n",
      "Epoch 19/100\n",
      "387/387 [==============================] - 1s 2ms/step - loss: 0.2841 - val_loss: 0.2933\n"
     ]
    }
   ]
  },
  {
   "cell_type": "code",
   "source": [
    "print(history.history.keys())"
   ],
   "metadata": {
    "colab": {
     "base_uri": "https://localhost:8080/"
    },
    "id": "VwY0hh6GOnW2",
    "executionInfo": {
     "status": "ok",
     "timestamp": 1658319137120,
     "user_tz": -480,
     "elapsed": 774,
     "user": {
      "displayName": "CLAY bug",
      "userId": "06579221993706531420"
     }
    },
    "outputId": "117649fd-5a9b-4047-d40c-bc96548d7173",
    "pycharm": {
     "name": "#%%\n"
    }
   },
   "execution_count": 55,
   "outputs": [
    {
     "output_type": "stream",
     "name": "stdout",
     "text": [
      "dict_keys(['loss', 'val_loss'])\n"
     ]
    }
   ]
  },
  {
   "cell_type": "code",
   "source": [
    "history_dict = history.history\n",
    "train_loss = history_dict['loss']\n",
    "val_loss = history_dict['val_loss']\n",
    "epochs = range(1,len(train_loss)+1)\n",
    "plt.figure(figsize=(20,8),dpi=80)\n",
    "plt.plot(epochs,train_loss,c='red',label=\"Training\")\n",
    "plt.plot(epochs,val_loss,c='blue',label=\"Validation\")\n",
    "plt.title(\"Training and Validtaion loss\")\n",
    "plt.xlabel('Epochs')\n",
    "plt.ylabel('Loss')\n",
    "plt.ylim(0,1)\n",
    "plt.legend()\n",
    "plt.show()"
   ],
   "metadata": {
    "colab": {
     "base_uri": "https://localhost:8080/",
     "height": 504
    },
    "id": "UmJ94z0eDRai",
    "executionInfo": {
     "status": "ok",
     "timestamp": 1658319144944,
     "user_tz": -480,
     "elapsed": 7202,
     "user": {
      "displayName": "CLAY bug",
      "userId": "06579221993706531420"
     }
    },
    "outputId": "bd4a3e5c-df67-480a-fd24-10e6ab61f4b5",
    "pycharm": {
     "name": "#%%\n"
    }
   },
   "execution_count": 56,
   "outputs": [
    {
     "output_type": "display_data",
     "data": {
      "text/plain": [
       "<Figure size 1600x640 with 1 Axes>"
      ],
      "image/png": "[encoded data removed]"
     },
     "metadata": {
      "needs_background": "light"
     }
    }
   ]
  },
  {
   "cell_type": "code",
   "source": [
    "model.evaluate(x_test,y_test)"
   ],
   "metadata": {
    "colab": {
     "base_uri": "https://localhost:8080/"
    },
    "id": "YTdu5rnELtKv",
    "executionInfo": {
     "status": "ok",
     "timestamp": 1658319148783,
     "user_tz": -480,
     "elapsed": 841,
     "user": {
      "displayName": "CLAY bug",
      "userId": "06579221993706531420"
     }
    },
    "outputId": "ae831385-32fa-435b-a1ac-cf43ac3c2ce4",
    "pycharm": {
     "name": "#%%\n"
    }
   },
   "execution_count": 57,
   "outputs": [
    {
     "output_type": "stream",
     "name": "stdout",
     "text": [
      "129/129 [==============================] - 0s 2ms/step - loss: 0.2859\n"
     ]
    },
    {
     "output_type": "execute_result",
     "data": {
      "text/plain": [
       "0.28587883710861206"
      ]
     },
     "metadata": {},
     "execution_count": 57
    }
   ]
  },
  {
   "cell_type": "markdown",
   "source": [
    "### 建立DNN模型，重新对衣服进行分类"
   ],
   "metadata": {
    "id": "8golorLENQwD",
    "pycharm": {
     "name": "#%% md\n"
    }
   }
  },
  {
   "cell_type": "code",
   "source": [
    "# 导入数据,并划分训练集、验证集和测试集\n",
    "fashion_mnist = keras.datasets.fashion_mnist\n",
    "(x_train,y_train),(x_test,y_test) = fashion_mnist.load_data()\n",
    "print(x_train.shape)\n",
    "print(x_test.shape)"
   ],
   "metadata": {
    "colab": {
     "base_uri": "https://localhost:8080/"
    },
    "id": "H06UlmboNQVA",
    "executionInfo": {
     "status": "ok",
     "timestamp": 1658325608128,
     "user_tz": -480,
     "elapsed": 532,
     "user": {
      "displayName": "CLAY bug",
      "userId": "06579221993706531420"
     }
    },
    "outputId": "4067aeee-79a0-4042-a242-9c632c32d8a5",
    "pycharm": {
     "name": "#%%\n"
    }
   },
   "execution_count": 111,
   "outputs": [
    {
     "output_type": "stream",
     "name": "stdout",
     "text": [
      "(60000, 28, 28)\n",
      "(10000, 28, 28)\n"
     ]
    }
   ]
  },
  {
   "cell_type": "code",
   "source": [
    "x_val,x_train = x_train[:10000],x_train[10000:]\n",
    "y_val,y_train = y_train[:10000],y_train[10000:]\n",
    "print(x_train.shape)\n",
    "print(x_val.shape)\n",
    "print(x_test.shape)"
   ],
   "metadata": {
    "colab": {
     "base_uri": "https://localhost:8080/"
    },
    "id": "W0LPDx-mNQWw",
    "executionInfo": {
     "status": "ok",
     "timestamp": 1658325645604,
     "user_tz": -480,
     "elapsed": 35059,
     "user": {
      "displayName": "CLAY bug",
      "userId": "06579221993706531420"
     }
    },
    "outputId": "048d0b79-00dd-4854-ace6-4be40b2af74a",
    "pycharm": {
     "name": "#%%\n"
    }
   },
   "execution_count": 112,
   "outputs": [
    {
     "output_type": "stream",
     "name": "stdout",
     "text": [
      "(50000, 28, 28)\n",
      "(10000, 28, 28)\n",
      "(10000, 28, 28)\n"
     ]
    }
   ]
  },
  {
   "cell_type": "code",
   "source": [
    "# 对数据集进行标准化\n",
    "std = StandardScaler()\n",
    "# 注意std里面只能传入二维的数据，高维的数据进行标准化要先进性reshape\n",
    "x_train = x_train.reshape(-1,1)\n",
    "x_train = std.fit_transform(x_train).reshape(-1,28,28)\n",
    "x_val = x_val.reshape(-1,1)\n",
    "x_val = std.transform(x_val).reshape(-1,28,28)\n",
    "x_test = x_test.reshape(-1,1)\n",
    "x_test = std.transform(x_test).reshape(-1,28,28)"
   ],
   "metadata": {
    "id": "qu6dF78SNQYc",
    "executionInfo": {
     "status": "ok",
     "timestamp": 1658325646255,
     "user_tz": -480,
     "elapsed": 668,
     "user": {
      "displayName": "CLAY bug",
      "userId": "06579221993706531420"
     }
    },
    "pycharm": {
     "name": "#%%\n"
    }
   },
   "execution_count": 113,
   "outputs": []
  },
  {
   "cell_type": "code",
   "source": [
    "print(x_train[1])\n",
    "print(x_val[1])\n",
    "print(x_test[1])"
   ],
   "metadata": {
    "id": "eFhz8lKnNQaW",
    "pycharm": {
     "name": "#%%\n"
    }
   },
   "execution_count": null,
   "outputs": []
  },
  {
   "cell_type": "code",
   "source": [
    "# 开始搭建DNN，深度神经网络\n",
    "model = keras.models.Sequential()\n",
    "model.add(keras.layers.Flatten(input_shape=(28,28))) # 784\n",
    "for _ in range(5):\n",
    "  model.add(keras.layers.Dense(400,activation='relu'))\n",
    "for _ in range(5):\n",
    "  model.add(keras.layers.Dense(300,activation='relu'))\n",
    "for _ in range(20):\n",
    "  model.add(keras.layers.Dense(100,activation='relu'))\n",
    "model.add(keras.layers.Dense(10,activation='softmax')) # 因为是有10个分类，所以最后的全连接层必须是10个神经元\n",
    "model.compile(loss='sparse_categorical_crossentropy',\n",
    "              optimizer=keras.optimizers.SGD(learning_rate=0.001,momentum=0.9),\n",
    "              metrics=['accuracy'])"
   ],
   "metadata": {
    "id": "8hsnPtDINQbv",
    "executionInfo": {
     "status": "ok",
     "timestamp": 1658325651776,
     "user_tz": -480,
     "elapsed": 818,
     "user": {
      "displayName": "CLAY bug",
      "userId": "06579221993706531420"
     }
    },
    "pycharm": {
     "name": "#%%\n"
    }
   },
   "execution_count": 114,
   "outputs": []
  },
  {
   "cell_type": "code",
   "source": [
    "model.summary()"
   ],
   "metadata": {
    "colab": {
     "base_uri": "https://localhost:8080/"
    },
    "id": "PUGYRNBhkEaf",
    "executionInfo": {
     "status": "ok",
     "timestamp": 1658320467758,
     "user_tz": -480,
     "elapsed": 642,
     "user": {
      "displayName": "CLAY bug",
      "userId": "06579221993706531420"
     }
    },
    "outputId": "411754c6-e3e0-405c-a2ef-0a6620f021fe",
    "pycharm": {
     "name": "#%%\n"
    }
   },
   "execution_count": 66,
   "outputs": [
    {
     "output_type": "stream",
     "name": "stdout",
     "text": [
      "Model: \"sequential_12\"\n",
      "_________________________________________________________________\n",
      " Layer (type)                Output Shape              Param #   \n",
      "=================================================================\n",
      " flatten_2 (Flatten)         (None, 784)               0         \n",
      "                                                                 \n",
      " dense_101 (Dense)           (None, 100)               78500     \n",
      "                                                                 \n",
      " dense_102 (Dense)           (None, 100)               10100     \n",
      "                                                                 \n",
      " dense_103 (Dense)           (None, 100)               10100     \n",
      "                                                                 \n",
      " dense_104 (Dense)           (None, 100)               10100     \n",
      "                                                                 \n",
      " dense_105 (Dense)           (None, 100)               10100     \n",
      "                                                                 \n",
      " dense_106 (Dense)           (None, 100)               10100     \n",
      "                                                                 \n",
      " dense_107 (Dense)           (None, 100)               10100     \n",
      "                                                                 \n",
      " dense_108 (Dense)           (None, 100)               10100     \n",
      "                                                                 \n",
      " dense_109 (Dense)           (None, 100)               10100     \n",
      "                                                                 \n",
      " dense_110 (Dense)           (None, 100)               10100     \n",
      "                                                                 \n",
      " dense_111 (Dense)           (None, 100)               10100     \n",
      "                                                                 \n",
      " dense_112 (Dense)           (None, 100)               10100     \n",
      "                                                                 \n",
      " dense_113 (Dense)           (None, 100)               10100     \n",
      "                                                                 \n",
      " dense_114 (Dense)           (None, 100)               10100     \n",
      "                                                                 \n",
      " dense_115 (Dense)           (None, 100)               10100     \n",
      "                                                                 \n",
      " dense_116 (Dense)           (None, 100)               10100     \n",
      "                                                                 \n",
      " dense_117 (Dense)           (None, 100)               10100     \n",
      "                                                                 \n",
      " dense_118 (Dense)           (None, 100)               10100     \n",
      "                                                                 \n",
      " dense_119 (Dense)           (None, 100)               10100     \n",
      "                                                                 \n",
      " dense_120 (Dense)           (None, 100)               10100     \n",
      "                                                                 \n",
      " dense_121 (Dense)           (None, 100)               10100     \n",
      "                                                                 \n",
      " dense_122 (Dense)           (None, 100)               10100     \n",
      "                                                                 \n",
      " dense_123 (Dense)           (None, 100)               10100     \n",
      "                                                                 \n",
      " dense_124 (Dense)           (None, 100)               10100     \n",
      "                                                                 \n",
      " dense_125 (Dense)           (None, 100)               10100     \n",
      "                                                                 \n",
      " dense_126 (Dense)           (None, 100)               10100     \n",
      "                                                                 \n",
      " dense_127 (Dense)           (None, 100)               10100     \n",
      "                                                                 \n",
      " dense_128 (Dense)           (None, 100)               10100     \n",
      "                                                                 \n",
      " dense_129 (Dense)           (None, 100)               10100     \n",
      "                                                                 \n",
      " dense_130 (Dense)           (None, 100)               10100     \n",
      "                                                                 \n",
      " dense_131 (Dense)           (None, 10)                1010      \n",
      "                                                                 \n",
      "=================================================================\n",
      "Total params: 372,410\n",
      "Trainable params: 372,410\n",
      "Non-trainable params: 0\n",
      "_________________________________________________________________\n"
     ]
    }
   ]
  },
  {
   "cell_type": "code",
   "source": [
    "callbacks = [keras.callbacks.EarlyStopping(patience=5,min_delta=1e-3)]\n",
    "history = model.fit(x_train,y_train,\n",
    "                    validation_data = (x_val,y_val),\n",
    "                    epochs = 100,\n",
    "                    callbacks = callbacks)"
   ],
   "metadata": {
    "colab": {
     "base_uri": "https://localhost:8080/"
    },
    "id": "V9zA9q6NkEco",
    "executionInfo": {
     "status": "ok",
     "timestamp": 1658325857725,
     "user_tz": -480,
     "elapsed": 196579,
     "user": {
      "displayName": "CLAY bug",
      "userId": "06579221993706531420"
     }
    },
    "outputId": "d44070cf-3bc3-4462-fe0f-6f0e332b75b3",
    "pycharm": {
     "name": "#%%\n"
    }
   },
   "execution_count": 115,
   "outputs": [
    {
     "output_type": "stream",
     "name": "stdout",
     "text": [
      "Epoch 1/100\n",
      "1563/1563 [==============================] - 12s 7ms/step - loss: 2.2994 - accuracy: 0.1181 - val_loss: 2.2823 - val_accuracy: 0.1932\n",
      "Epoch 2/100\n",
      "1563/1563 [==============================] - 10s 7ms/step - loss: 1.8891 - accuracy: 0.2558 - val_loss: 1.3385 - val_accuracy: 0.4603\n",
      "Epoch 3/100\n",
      "1563/1563 [==============================] - 10s 7ms/step - loss: 1.0769 - accuracy: 0.5633 - val_loss: 0.9540 - val_accuracy: 0.6204\n",
      "Epoch 4/100\n",
      "1563/1563 [==============================] - 10s 6ms/step - loss: 0.9398 - accuracy: 0.6269 - val_loss: 0.7825 - val_accuracy: 0.6764\n",
      "Epoch 5/100\n",
      "1563/1563 [==============================] - 10s 6ms/step - loss: 0.8302 - accuracy: 0.6687 - val_loss: 0.6759 - val_accuracy: 0.7497\n",
      "Epoch 6/100\n",
      "1563/1563 [==============================] - 10s 6ms/step - loss: 0.6163 - accuracy: 0.7734 - val_loss: 0.5550 - val_accuracy: 0.8084\n",
      "Epoch 7/100\n",
      "1563/1563 [==============================] - 10s 7ms/step - loss: 0.5197 - accuracy: 0.8278 - val_loss: 0.4964 - val_accuracy: 0.8357\n",
      "Epoch 8/100\n",
      "1563/1563 [==============================] - 10s 7ms/step - loss: 0.4773 - accuracy: 0.8418 - val_loss: 0.5413 - val_accuracy: 0.8190\n",
      "Epoch 9/100\n",
      "1563/1563 [==============================] - 10s 6ms/step - loss: 0.4705 - accuracy: 0.8443 - val_loss: 0.5467 - val_accuracy: 0.8094\n",
      "Epoch 10/100\n",
      "1563/1563 [==============================] - 10s 7ms/step - loss: 0.4025 - accuracy: 0.8686 - val_loss: 0.4402 - val_accuracy: 0.8585\n",
      "Epoch 11/100\n",
      "1563/1563 [==============================] - 10s 7ms/step - loss: 0.3598 - accuracy: 0.8810 - val_loss: 0.4221 - val_accuracy: 0.8693\n",
      "Epoch 12/100\n",
      "1563/1563 [==============================] - 10s 6ms/step - loss: 0.3483 - accuracy: 0.8860 - val_loss: 0.4174 - val_accuracy: 0.8689\n",
      "Epoch 13/100\n",
      "1563/1563 [==============================] - 11s 7ms/step - loss: 0.3368 - accuracy: 0.8881 - val_loss: 0.4303 - val_accuracy: 0.8600\n",
      "Epoch 14/100\n",
      "1563/1563 [==============================] - 10s 6ms/step - loss: 0.3310 - accuracy: 0.8925 - val_loss: 0.3610 - val_accuracy: 0.8804\n",
      "Epoch 15/100\n",
      "1563/1563 [==============================] - 10s 6ms/step - loss: 0.3045 - accuracy: 0.8979 - val_loss: 0.3705 - val_accuracy: 0.8798\n",
      "Epoch 16/100\n",
      "1563/1563 [==============================] - 10s 6ms/step - loss: 0.2793 - accuracy: 0.9055 - val_loss: 0.3649 - val_accuracy: 0.8804\n",
      "Epoch 17/100\n",
      "1563/1563 [==============================] - 10s 6ms/step - loss: 0.4066 - accuracy: 0.8678 - val_loss: 0.4712 - val_accuracy: 0.8515\n",
      "Epoch 18/100\n",
      "1563/1563 [==============================] - 10s 6ms/step - loss: 0.3633 - accuracy: 0.8810 - val_loss: 0.4281 - val_accuracy: 0.8655\n",
      "Epoch 19/100\n",
      "1563/1563 [==============================] - 10s 7ms/step - loss: 0.3667 - accuracy: 0.8757 - val_loss: 0.4779 - val_accuracy: 0.8551\n"
     ]
    }
   ]
  },
  {
   "cell_type": "code",
   "source": [
    "def plot_train_val(history):\n",
    "  pd.DataFrame(history.history).plot(figsize=(8,5))\n",
    "  plt.grid(True)\n",
    "  plt.gca().set_ylim(0,2.5)\n",
    "  plt.show()\n",
    "plot_train_val(history)"
   ],
   "metadata": {
    "colab": {
     "base_uri": "https://localhost:8080/",
     "height": 324
    },
    "id": "jgKrJSNBr-WL",
    "executionInfo": {
     "status": "ok",
     "timestamp": 1658325925324,
     "user_tz": -480,
     "elapsed": 42218,
     "user": {
      "displayName": "CLAY bug",
      "userId": "06579221993706531420"
     }
    },
    "outputId": "d9f2153f-97e2-4316-8467-c24df9b929dd",
    "pycharm": {
     "name": "#%%\n"
    }
   },
   "execution_count": 116,
   "outputs": [
    {
     "output_type": "display_data",
     "data": {
      "text/plain": [
       "<Figure size 576x360 with 1 Axes>"
      ],
      "image/png": "[encoded data removed]"
     },
     "metadata": {
      "needs_background": "light"
     }
    }
   ]
  },
  {
   "cell_type": "code",
   "source": [
    "# 利用测试集进行模型的评估\n",
    "model.evaluate(x_test,y_test) # 通过修改前几层网络的宽度，使得最终精度提升了"
   ],
   "metadata": {
    "colab": {
     "base_uri": "https://localhost:8080/"
    },
    "id": "fIdpzhk4kEnm",
    "executionInfo": {
     "status": "ok",
     "timestamp": 1658325940933,
     "user_tz": -480,
     "elapsed": 1374,
     "user": {
      "displayName": "CLAY bug",
      "userId": "06579221993706531420"
     }
    },
    "outputId": "5f147c96-9ed3-4e28-b135-289ac47f1776",
    "pycharm": {
     "name": "#%%\n"
    }
   },
   "execution_count": 117,
   "outputs": [
    {
     "output_type": "stream",
     "name": "stdout",
     "text": [
      "313/313 [==============================] - 1s 3ms/step - loss: 0.5108 - accuracy: 0.8447\n"
     ]
    },
    {
     "output_type": "execute_result",
     "data": {
      "text/plain": [
       "[0.5107675790786743, 0.8446999788284302]"
      ]
     },
     "metadata": {},
     "execution_count": 117
    }
   ]
  }
 ]
}